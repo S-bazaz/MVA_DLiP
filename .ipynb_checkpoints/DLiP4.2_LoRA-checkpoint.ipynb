{
 "cells": [
  {
   "cell_type": "markdown",
   "id": "89f8061b",
   "metadata": {
    "cell_ktag": "mS2TS6PvgIgF"
   },
   "source": [
    "# Implementing a Low Rank Adapter (LoRA) (8 points)\n",
    "\n",
    "### Student : Bazaz Samuel \n",
    "\n",
    "Objective of this exercice:\n",
    "\n",
    "Given a neural network (NN) classifier pre-trained on the subset of MNIST containing digits 0...4,\n",
    "you will fine-tune this NN, by optimizing all weights, and compare the test accuracy of this baseline model versus fine-tuning a LoRA.\n",
    "\n",
    "The neural network that we will define is artificially big because LoRA is usually applied to Large Language Models of billions of parameters\n",
    "\n",
    "**What is a LoRA ?**\n",
    "\n",
    "LoRA (Low-Rank Adaptation of Large Language Models) is a popular and lightweight training technique that significantly reduces the number of trainable parameters. It works by inserting a smaller number of new weights into the model and only these are trained. This makes training with LoRA much faster, memory-efficient, and produces smaller model weights (a few hundred MBs), which are easier to store and share.\n",
    "\n",
    "<div style=\"display: flex; justify-content: space-between;\">\n",
    "    <img src='https://www.lri.fr/~gcharpia/deeppractice/2024/TP4/imgs/lora_fig.png' style=\"width: 30%;\">\n",
    "    <img src='https://www.lri.fr/~gcharpia/deeppractice/2024/TP4/imgs/lora_text.png' style=\"width: 70%;\">\n",
    "</div>\n",
    "\n",
    "\n",
    "\n",
    "References: \n",
    "\n",
    "https://arxiv.org/pdf/2106.09685.pdf\n",
    "\n",
    "https://lightning.ai/pages/community/tutorial/lora-llm/\n",
    "\n",
    "https://huggingface.co/docs/diffusers/main/en/training/lora\n"
   ]
  },
  {
   "cell_type": "code",
   "execution_count": 3,
   "id": "41964022",
   "metadata": {
    "cell_ktag": "mS2TS6PvgIgF"
   },
   "outputs": [
    {
     "name": "stdout",
     "output_type": "stream",
     "text": [
      "NVIDIA GeForce GTX 1070 with Max-Q Design\n",
      "Memory Usage:\n",
      "Allocated: 0.0 GB\n",
      "Cached:    0.0 GB\n"
     ]
    }
   ],
   "source": [
    "############\n",
    "# Packages #\n",
    "############\n",
    "import torch\n",
    "import torch.nn as nn\n",
    "import torchvision.datasets as datasets\n",
    "from torch.utils.data import DataLoader, random_split, Subset\n",
    "import torch.nn.utils.parametrize as parametrize\n",
    "import torchvision.transforms as transforms\n",
    "\n",
    "import numpy as np\n",
    "import matplotlib.pyplot as plt\n",
    "from tqdm import tqdm\n",
    "\n",
    "##################\n",
    "# added Packages #\n",
    "##################\n",
    "import os\n",
    "import math\n",
    "import plotly.express as px\n",
    "import plotly.io as pio\n",
    "import pandas as pd\n",
    "from pathlib import Path\n",
    "from torch.nn import functional as F\n",
    "\n",
    "\n",
    "##########\n",
    "# Config #\n",
    "##########\n",
    "\n",
    "# Make torch deterministic\n",
    "_ = torch.manual_seed(0)\n",
    "\n",
    "\n",
    "# Decide which device we want to run on\n",
    "ngpu=1\n",
    "device = torch.device(\"cuda:0\" if (torch.cuda.is_available() and ngpu > 0) else \"cpu\")\n",
    "\n",
    "if device.type == 'cuda':\n",
    "    print(torch.cuda.get_device_name(0))\n",
    "    print('Memory Usage:')\n",
    "    print('Allocated:', round(torch.cuda.memory_allocated(0)/1024**3,1), 'GB')\n",
    "    print('Cached:   ', round(torch.cuda.memory_reserved(0)/1024**3,1), 'GB')\n",
    "\n",
    "\n",
    "################\n",
    "# added Config #\n",
    "################\n",
    "root_path = Path(os.getcwd())\n",
    "pio.renderers.default = \"plotly_mimetype+notebook\""
   ]
  },
  {
   "cell_type": "code",
   "execution_count": 4,
   "id": "8986a03b",
   "metadata": {
    "cell_ktag": "mS2TS6PvgIgF"
   },
   "outputs": [],
   "source": [
    "###############\n",
    "# 0-4 loaders #\n",
    "###############\n",
    "\n",
    "#Normalizing MNIST\n",
    "#These values are the mean and std deviation of the MNIST dataset.\n",
    "transform = transforms.Compose([transforms.ToTensor(), transforms.Normalize((0.1307,), (0.3081,))])\n",
    "\n",
    "# load MNIST \n",
    "mnist_train = datasets.MNIST(root='./data', train=True, download=True, transform=transform)\n",
    "mnist_test = datasets.MNIST(root='./data', train=False, download=True, transform=transform)\n",
    "\n",
    "# keep images of desired labels\n",
    "class_names = [0, 1, 2, 3, 4]\n",
    "\n",
    "# create a mask to filter indices for each label\n",
    "train_mask = torch.tensor([label in class_names for label in mnist_train.targets])\n",
    "test_mask = torch.tensor([label in class_names for label in mnist_test.targets])\n",
    "\n",
    "# Create Subset datasets for train, validation, and test\n",
    "train_dataset = Subset(mnist_train, torch.where(train_mask)[0])\n",
    "test_dataset = Subset(mnist_test, torch.where(test_mask)[0])\n",
    "\n",
    "# split train into train & validation\n",
    "train_size = int(0.7 * len(train_dataset))\n",
    "val_size = len(train_dataset) - train_size\n",
    "train_dataset, val_dataset = random_split(train_dataset, [train_size, val_size])\n",
    "\n",
    "batch_size=128\n",
    "\n",
    "train_loader = DataLoader(train_dataset, batch_size=batch_size, shuffle=True)\n",
    "val_loader = DataLoader(val_dataset, batch_size=batch_size, shuffle=False)\n",
    "test_loader = DataLoader(test_dataset, batch_size=batch_size, shuffle=False)\n"
   ]
  },
  {
   "cell_type": "code",
   "execution_count": 4,
   "id": "d39a4453",
   "metadata": {
    "cell_ktag": "mS2TS6PvgIgF"
   },
   "outputs": [
    {
     "data": {
      "text/plain": [
       "(21417, 9179, 5139)"
      ]
     },
     "execution_count": 4,
     "metadata": {},
     "output_type": "execute_result"
    }
   ],
   "source": [
    "len(train_dataset),len(val_dataset),len(test_dataset)"
   ]
  },
  {
   "cell_type": "markdown",
   "id": "3248b39c",
   "metadata": {
    "cell_ktag": "mS2TS6PvgIgF"
   },
   "source": [
    "# Architecture of the classifier"
   ]
  },
  {
   "cell_type": "code",
   "execution_count": 3,
   "id": "88c9472b",
   "metadata": {
    "cell_ktag": "mS2TS6PvgIgF"
   },
   "outputs": [],
   "source": [
    "##############\n",
    "# Classifier #\n",
    "##############\n",
    "\n",
    "#note that last layer has 5 neurons for digits 0...4\n",
    "#and the same layer will be used for 5...9\n",
    "\n",
    "class classifier(nn.Module):\n",
    "    def __init__(self, hidden_size_1=1000, hidden_size_2=2000):\n",
    "        super(classifier,self).__init__()\n",
    "        \n",
    "        self.linear1 = nn.Linear(28*28, hidden_size_1) \n",
    "        self.linear2 = nn.Linear(hidden_size_1, hidden_size_2) \n",
    "        self.linear3 = nn.Linear(hidden_size_2, 5)\n",
    "        self.relu = nn.ReLU()\n",
    "        self.dropout = nn.Dropout(0.5)\n",
    "\n",
    "    def forward(self, img):\n",
    "        x = img.view(-1, 28*28)\n",
    "        x = self.relu(self.linear1(x))\n",
    "        x = self.dropout(x)\n",
    "        x = self.relu(self.linear2(x))\n",
    "        x = self.dropout(x)\n",
    "        x = self.linear3(x)\n",
    "        return x\n",
    "\n",
    "net = classifier().to(device)"
   ]
  },
  {
   "cell_type": "markdown",
   "id": "240466f7",
   "metadata": {
    "cell_ktag": "mS2TS6PvgIgF"
   },
   "source": [
    "# Code for training loop & validation"
   ]
  },
  {
   "cell_type": "code",
   "execution_count": 20,
   "id": "2b795149",
   "metadata": {
    "cell_ktag": "mS2TS6PvgIgF"
   },
   "outputs": [],
   "source": [
    "##########\n",
    "# Train  #\n",
    "##########\n",
    "\n",
    "#We set a lower learning rate when we will fine-tune on the subset of MNIST containing digits 5...9\n",
    "#so that fine-tuning don't change pre-training weights too much.\n",
    "\n",
    "#Since the NN is big, we add weight decay to regularize it otherwise it will overfit too much too fast\n",
    "def adjust_optimizer(name, parameters):\n",
    "    lr = 0.001\n",
    "    if name == \"subset2\":\n",
    "        lr = 0.00001\n",
    "    return torch.optim.Adam(parameters, lr=lr, weight_decay=0.0001)\n",
    "\n",
    "#to do label prediction during training we use argmax on the last layer, which output a vector of 5 components\n",
    "#so y_hat will be between 0 and 4, we thus have to \"translate\" y_true so that it's in the right range\n",
    "\n",
    "# the name variable will be used later on to recognize on which dataset we are\n",
    "# and do the corresponding label translation, and set the good hyperparameters\n",
    "def process_labels(name, labels):\n",
    "    if 'subset2' in name:\n",
    "        labels = labels - 5\n",
    "    return labels\n",
    "\n",
    "\n",
    "def run_epoch(loader, name, net, optimizer, cross_el, total_iterations_limit=None):\n",
    "    net.train() if optimizer else net.eval()\n",
    "    \n",
    "    loss_sum = 0\n",
    "    num_iterations = 0\n",
    "\n",
    "    data_iterator = tqdm(loader, desc=f'Training' if optimizer else f'Validation')\n",
    "    if total_iterations_limit is not None:\n",
    "        data_iterator.total = total_iterations_limit\n",
    "\n",
    "    for data in data_iterator:\n",
    "        num_iterations += 1\n",
    "        x, y = data\n",
    "        x, y = x.to(device), y.to(device)\n",
    "        x = x.view(-1, 28*28)\n",
    "        optimizer.zero_grad() if optimizer else None\n",
    "        output = net(x)\n",
    "        loss = cross_el(output, process_labels(name, y))\n",
    "\n",
    "        loss_sum += loss.item()\n",
    "        avg_loss = loss_sum / num_iterations\n",
    "        data_iterator.set_postfix(loss=avg_loss)\n",
    "        if optimizer:\n",
    "            loss.backward()\n",
    "            optimizer.step()\n",
    "    return loss_sum / len(data_iterator)\n",
    "\n",
    "def train(train_loader, val_loader, name, net, epochs=5, total_iterations_limit=None):\n",
    "    cross_el = nn.CrossEntropyLoss()\n",
    "    optimizer = adjust_optimizer(name, net.parameters())\n",
    "    total_iterations = 0\n",
    "    train_loss_lst, val_loss_lst = [], []\n",
    "\n",
    "    for epoch in range(epochs):\n",
    "        train_loss = run_epoch(train_loader, name, net, optimizer, cross_el, total_iterations_limit)\n",
    "        print(f\"Epoch [{epoch+1}/{epochs}] Train Loss: {train_loss}\")\n",
    "        train_loss_lst.append(train_loss)\n",
    "            \n",
    "        val_loss = run_epoch(val_loader, name, net, None, cross_el, total_iterations_limit)\n",
    "        print(f\"Epoch [{epoch+1}/{epochs}] Validation Loss: {val_loss}\")\n",
    "        val_loss_lst.append(val_loss)\n",
    "        \n",
    "    return train_loss_lst, val_loss_lst"
   ]
  },
  {
   "cell_type": "markdown",
   "id": "d69be201",
   "metadata": {
    "cell_ktag": "mS2TS6PvgIgF"
   },
   "source": [
    "# If you have GPU access, or simply want to train your own model, run this code"
   ]
  },
  {
   "cell_type": "code",
   "execution_count": null,
   "id": "67aa6723",
   "metadata": {
    "cell_ktag": "mS2TS6PvgIgF"
   },
   "outputs": [],
   "source": [
    "train_loss_lst, val_loss_lst = train(train_loader, val_loader, \"subset1\", net, epochs=30)"
   ]
  },
  {
   "cell_type": "code",
   "execution_count": null,
   "id": "689ca1af",
   "metadata": {
    "cell_ktag": "mS2TS6PvgIgF"
   },
   "outputs": [],
   "source": [
    "px.line(pd.DataFrame({\"Train loss\": train_loss_lst, \"Valid loss\": val_loss_lst}), title = \"Train 0-4\").show()"
   ]
  },
  {
   "cell_type": "markdown",
   "id": "7297ea59-cc0d-4113-b8a5-d8b2dfadf4ab",
   "metadata": {},
   "source": [
    "On utilise les cellules suivantes pour sauvegarder et load le modèle:"
   ]
  },
  {
   "cell_type": "code",
   "execution_count": 5,
   "id": "ebed9c73-0c2e-4347-b894-810f9d209aa8",
   "metadata": {},
   "outputs": [],
   "source": [
    "path1=str(root_path.joinpath(\"lora_m1.pth\"))\n",
    "path2=str(root_path.joinpath(\"lora_m1_dct.pth\"))\n",
    "print(path1, path2)"
   ]
  },
  {
   "cell_type": "code",
   "execution_count": null,
   "id": "00358338",
   "metadata": {
    "cell_ktag": "mS2TS6PvgIgF"
   },
   "outputs": [],
   "source": [
    "# save the model\n",
    "torch.save(net,path1)\n",
    "# Save the state dictionary\n",
    "torch.save(net.state_dict(), path2)"
   ]
  },
  {
   "cell_type": "code",
   "execution_count": 42,
   "id": "af8e0abf-9365-46b4-a91c-14b79808ef4c",
   "metadata": {},
   "outputs": [],
   "source": [
    "net=torch.load(path1).to(device)"
   ]
  },
  {
   "cell_type": "markdown",
   "id": "61775c04",
   "metadata": {
    "cell_ktag": "mS2TS6PvgIgF"
   },
   "source": [
    "# Otherwise load an already pre-trained model\n",
    "Either the one you have created above, either the one already available at https://www.lri.fr/~gcharpia/deeppractice/2024/TP4/models/ \n"
   ]
  },
  {
   "cell_type": "code",
   "execution_count": 19,
   "id": "630cbc1c",
   "metadata": {
    "cell_ktag": "mS2TS6PvgIgF"
   },
   "outputs": [],
   "source": [
    "net=torch.load(path1).to(device)"
   ]
  },
  {
   "cell_type": "markdown",
   "id": "33d253bf",
   "metadata": {
    "cell_ktag": "mS2TS6PvgIgF"
   },
   "source": [
    "# Count the number of weights & compare it with parameters added by LoRA"
   ]
  },
  {
   "cell_type": "code",
   "execution_count": 8,
   "id": "0cabc44d",
   "metadata": {
    "cell_ktag": "mS2TS6PvgIgF"
   },
   "outputs": [
    {
     "name": "stdout",
     "output_type": "stream",
     "text": [
      "Layer 1: W: torch.Size([1000, 784]) + B: torch.Size([1000])\n",
      "Layer 2: W: torch.Size([2000, 1000]) + B: torch.Size([2000])\n",
      "Layer 3: W: torch.Size([5, 2000]) + B: torch.Size([5])\n",
      "Total number of parameters: 2,797,005\n"
     ]
    }
   ],
   "source": [
    "# Print the size of the weights matrices of the network\n",
    "# Save the count of the total number of parameters\n",
    "net.eval()\n",
    "total_parameters_original = 0\n",
    "for index, layer in enumerate([net.linear1, net.linear2, net.linear3]):\n",
    "    total_parameters_original += layer.weight.nelement() + layer.bias.nelement()\n",
    "    print(f'Layer {index+1}: W: {layer.weight.shape} + B: {layer.bias.shape}')\n",
    "print(f'Total number of parameters: {total_parameters_original:,}')"
   ]
  },
  {
   "cell_type": "markdown",
   "id": "b5657316",
   "metadata": {
    "cell_ktag": "mS2TS6PvgIgF"
   },
   "source": [
    "# Test the model on digits 0...4"
   ]
  },
  {
   "cell_type": "code",
   "execution_count": 6,
   "id": "096152d0",
   "metadata": {
    "cell_ktag": "mS2TS6PvgIgF"
   },
   "outputs": [],
   "source": [
    "##################\n",
    "# Test pipeline  #\n",
    "##################\n",
    "def test(loader, name, net, wrong_counts):\n",
    "    correct = 0\n",
    "    total = 0\n",
    "    \n",
    "    net.eval()\n",
    "    with torch.no_grad():\n",
    "        for data in tqdm(loader, desc=name):\n",
    "            x, y = data\n",
    "            x = x.to(device)\n",
    "            y = y.to(device)\n",
    "            y = process_labels(name, y)\n",
    "            output = net(x.view(-1, 784))\n",
    "            for idx, i in enumerate(output):\n",
    "                if torch.argmax(i) == y[idx]:\n",
    "                    correct += 1\n",
    "                else:\n",
    "                    wrong_digit = y[idx].item() + 5 if 'subset2' in name else y[idx].item()\n",
    "                    wrong_counts[wrong_digit] += 1\n",
    "                    \n",
    "                total += 1\n",
    "\n",
    "    accuracy = round(correct / total, 3)\n",
    "    print(f'Accuracy: {accuracy}')\n",
    "    for key, value in wrong_counts.items():\n",
    "        print(f'Wrong counts for the digit {key}: {value}')\n",
    "        \n",
    "    return accuracy"
   ]
  },
  {
   "cell_type": "code",
   "execution_count": null,
   "id": "5b2eb8b8-6f64-4a94-a541-ed9a0c5d1258",
   "metadata": {},
   "outputs": [],
   "source": [
    "test(test_loader, \"Test 0-4\", net, {i: 0 for i in range(5)})"
   ]
  },
  {
   "cell_type": "markdown",
   "id": "377f38f2",
   "metadata": {
    "cell_ktag": "mS2TS6PvgIgF"
   },
   "source": [
    "# Define train, validation, test sets for digits 5...9"
   ]
  },
  {
   "cell_type": "markdown",
   "id": "9b6191fb",
   "metadata": {
    "cell_ktag": "mS2TS6PvgIgF"
   },
   "source": [
    "__Question 1 (0.25 points) :__"
   ]
  },
  {
   "cell_type": "code",
   "execution_count": 7,
   "id": "7d8f7554",
   "metadata": {
    "cell_ktag": "mS2TS6PvgIgF"
   },
   "outputs": [
    {
     "data": {
      "text/plain": [
       "(20582, 20582, 4861)"
      ]
     },
     "execution_count": 7,
     "metadata": {},
     "output_type": "execute_result"
    }
   ],
   "source": [
    "###############\n",
    "# 1-5 loaders #\n",
    "###############\n",
    "\n",
    "#TO-DO#-----------------------\n",
    "\n",
    "# create a mask to filter indices for each label, retrieve digits 5...9\n",
    "\n",
    "# load MNIST \n",
    "mnist_train = datasets.MNIST(root='./data', train=True, download=True, transform=transform)\n",
    "mnist_test = datasets.MNIST(root='./data', train=False, download=True, transform=transform)\n",
    "## On change le choix des labels\n",
    "# keep images of desired labels\n",
    "class_names2 = [5, 6, 7, 8, 9]\n",
    "\n",
    "# create a mask to filter indices for each label\n",
    "train_mask_subset2 = torch.tensor([label in class_names2 for label in mnist_train.targets])\n",
    "test_mask_subset2 = torch.tensor([label in class_names2 for label in mnist_test.targets])\n",
    "\n",
    "##------------------------------\n",
    "\n",
    "# Create Subset datasets for train, validation, and test\n",
    "train_dataset_subset2 = Subset(mnist_train, torch.where(train_mask_subset2)[0])\n",
    "test_dataset_subset2 = Subset(mnist_test, torch.where(test_mask_subset2)[0])\n",
    "\n",
    "# split train into train & validation\n",
    "train_size_subset2 = int(0.7 * len(train_dataset_subset2))\n",
    "val_size_subset2 = len(train_dataset_subset2) - train_size_subset2\n",
    "train_dataset_subset2, val_dataset_subset2 = random_split(train_dataset_subset2, [train_size_subset2, val_size_subset2])\n",
    "\n",
    "train_loader_subset2 = DataLoader(train_dataset_subset2, batch_size=batch_size, shuffle=True)\n",
    "val_loader_subset2 = DataLoader(val_dataset_subset2, batch_size=batch_size, shuffle=False)\n",
    "test_loader_subset2 = DataLoader(test_dataset_subset2, batch_size=batch_size, shuffle=False)\n",
    "\n",
    "len(train_dataset_subset2),len(train_dataset_subset2),len(test_dataset_subset2)"
   ]
  },
  {
   "cell_type": "markdown",
   "id": "89ce7ea1-fa0d-4c22-854a-dadb37fe9dd6",
   "metadata": {},
   "source": [
    "Le volume de données n'est pas très différent du cas 0-4."
   ]
  },
  {
   "cell_type": "markdown",
   "id": "1c6a2190",
   "metadata": {
    "cell_ktag": "mS2TS6PvgIgF"
   },
   "source": [
    "# Verify that pre-trained model on digits 0...4 is bad on digits 5...9"
   ]
  },
  {
   "cell_type": "markdown",
   "id": "88361d00",
   "metadata": {
    "cell_ktag": "mS2TS6PvgIgF"
   },
   "source": [
    "__Question 2 (0.25 points) :__"
   ]
  },
  {
   "cell_type": "markdown",
   "id": "d365e3a8",
   "metadata": {
    "cell_ktag": "mS2TS6PvgIgF"
   },
   "source": [
    "You should display the number of wrong predictions for each digits & global accuracy. \\\n",
    "Note that it's better than random guess ($\\frac{1}{5}\\times 100= $20%) for digit 8 and 9 because 3 looks like 8 and 4 looks like 9\n"
   ]
  },
  {
   "cell_type": "code",
   "execution_count": 27,
   "id": "d088bd66",
   "metadata": {
    "cell_ktag": "mS2TS6PvgIgF"
   },
   "outputs": [
    {
     "name": "stderr",
     "output_type": "stream",
     "text": [
      "Test subset2: 100%|██████████| 38/38 [00:03<00:00, 11.67it/s]"
     ]
    },
    {
     "name": "stdout",
     "output_type": "stream",
     "text": [
      "Accuracy: 0.4\n",
      "Wrong counts for the digit 5: 809\n",
      "Wrong counts for the digit 6: 935\n",
      "Wrong counts for the digit 7: 651\n",
      "Wrong counts for the digit 8: 400\n",
      "Wrong counts for the digit 9: 122\n"
     ]
    },
    {
     "name": "stderr",
     "output_type": "stream",
     "text": [
      "\n"
     ]
    },
    {
     "data": {
      "text/plain": [
       "0.4"
      ]
     },
     "execution_count": 27,
     "metadata": {},
     "output_type": "execute_result"
    }
   ],
   "source": [
    "#TO-DO#-----------------------\n",
    "test(test_loader_subset2, \"Test subset2\", net, {i: 0 for i in range(5,10)})\n",
    "##------------------------------"
   ]
  },
  {
   "cell_type": "markdown",
   "id": "4db6f2e8-ebeb-47d1-baa7-30307d445f1a",
   "metadata": {},
   "source": [
    "Effectivement, l'algorithme performe bien que le hazard pour le 8 et le 9 !"
   ]
  },
  {
   "cell_type": "markdown",
   "id": "068906c2",
   "metadata": {
    "cell_ktag": "mS2TS6PvgIgF"
   },
   "source": [
    "# Fine-tune the model on digits 5...9"
   ]
  },
  {
   "cell_type": "markdown",
   "id": "508e3fc5",
   "metadata": {
    "cell_ktag": "mS2TS6PvgIgF"
   },
   "source": [
    "__Question 3 (0.5 points) :__"
   ]
  },
  {
   "cell_type": "markdown",
   "id": "3a6de3ec",
   "metadata": {
    "cell_ktag": "mS2TS6PvgIgF"
   },
   "source": [
    "You will fine-tune all the layers of the model (ie. all parameters of all fully-connected matrices) for 10 epochs\n",
    "\n",
    "On réentraine le réseau:"
   ]
  },
  {
   "cell_type": "code",
   "execution_count": null,
   "id": "b7c17dce",
   "metadata": {
    "cell_ktag": "mS2TS6PvgIgF"
   },
   "outputs": [],
   "source": [
    "#TO-DO#-----------------------\n",
    "\n",
    "train_loss_lst, val_loss_lst = train(train_loader_subset2, val_loader_subset2, \"subset2\", net, epochs=10)\n",
    "\n",
    "#plot the train and validation losses\n",
    "px.line(pd.DataFrame({\"Train loss\": train_loss_lst, \"Valid loss\": val_loss_lst}), title = \"Train 5-9\").show()\n",
    "\n",
    "##------------------------------"
   ]
  },
  {
   "attachments": {
    "a5dc10a3-24fe-42e0-a1c3-bcb7211ae2c5.png": {
     "image/png": "[encoded data removed]"
    }
   },
   "cell_type": "markdown",
   "id": "ab0b3a55-e892-4df7-a185-6ad241f351f6",
   "metadata": {},
   "source": [
    "![train5-9.png](attachment:a5dc10a3-24fe-42e0-a1c3-bcb7211ae2c5.png)"
   ]
  },
  {
   "cell_type": "code",
   "execution_count": 26,
   "id": "2a24a590",
   "metadata": {
    "cell_ktag": "mS2TS6PvgIgF"
   },
   "outputs": [
    {
     "name": "stderr",
     "output_type": "stream",
     "text": [
      "Test subset2 after retraining: 100%|██████████| 38/38 [00:01<00:00, 25.10it/s]"
     ]
    },
    {
     "name": "stdout",
     "output_type": "stream",
     "text": [
      "Accuracy: 0.929\n",
      "Wrong counts for the digit 5: 70\n",
      "Wrong counts for the digit 6: 39\n",
      "Wrong counts for the digit 7: 76\n",
      "Wrong counts for the digit 8: 93\n",
      "Wrong counts for the digit 9: 69\n"
     ]
    },
    {
     "name": "stderr",
     "output_type": "stream",
     "text": [
      "\n"
     ]
    }
   ],
   "source": [
    "#test accuracy of fine-tuned model on digits 5...9\n",
    "# & save this number into a variable, we will need it for final plot\n",
    "#TO-DO#-----------------------\n",
    "\n",
    "score_10epoch = test(test_loader_subset2, \"Test subset2 after retraining\", net, {i: 0 for i in range(5,10)})\n",
    "\n",
    "##------------------------------"
   ]
  },
  {
   "cell_type": "markdown",
   "id": "3ae85224-d97c-4163-8f23-8d8e431b5202",
   "metadata": {},
   "source": [
    "Après réentrainement on retrouve une performance comparable au cas 0-4.\n",
    "On sauvegarde le modèle réentrainé à travers le script suivant:"
   ]
  },
  {
   "cell_type": "code",
   "execution_count": 8,
   "id": "8d1009b4-f270-4f2e-be23-b0a91c0cf274",
   "metadata": {},
   "outputs": [],
   "source": [
    "path3=str(root_path.joinpath(\"lora_m2.pth\"))\n",
    "path4=str(root_path.joinpath(\"lora_m2_dct.pth\"))"
   ]
  },
  {
   "cell_type": "code",
   "execution_count": 20,
   "id": "b97df142-56ae-4fda-ac2d-3815b0396f0f",
   "metadata": {},
   "outputs": [],
   "source": [
    "# save the model\n",
    "torch.save(net,path3)\n",
    "# Save the state dictionary\n",
    "torch.save(net.state_dict(), path4)"
   ]
  },
  {
   "cell_type": "code",
   "execution_count": 25,
   "id": "8ba5ca0b-7689-40f7-b9c0-96aa8c6b900f",
   "metadata": {},
   "outputs": [],
   "source": [
    "net=torch.load(path3).to(device)"
   ]
  },
  {
   "cell_type": "markdown",
   "id": "6273462b",
   "metadata": {
    "cell_ktag": "mS2TS6PvgIgF"
   },
   "source": [
    "# Fine-tune the model on digits 5...9 with LoRA"
   ]
  },
  {
   "cell_type": "markdown",
   "id": "4fea8d8f",
   "metadata": {
    "cell_ktag": "mS2TS6PvgIgF"
   },
   "source": [
    "__Question 4 (2.5 points) :__"
   ]
  },
  {
   "cell_type": "markdown",
   "id": "256ce132",
   "metadata": {
    "cell_ktag": "mS2TS6PvgIgF"
   },
   "source": [
    "You will now implement one LoRA per layer\n",
    "\n",
    "En s'inspirant des tutoriels fournis, on complète l'architecture LoRa associée au Classifier précédent de la manière suivante:"
   ]
  },
  {
   "cell_type": "code",
   "execution_count": 45,
   "id": "1b74ba62",
   "metadata": {
    "cell_ktag": "mS2TS6PvgIgF"
   },
   "outputs": [],
   "source": [
    "###################\n",
    "# LoRa classifier #\n",
    "###################\n",
    "class ModifiedClassifier(nn.Module):\n",
    "    def __init__(self, lora_rank):\n",
    "        super(ModifiedClassifier, self).__init__()\n",
    "        \n",
    "        # Load the pretrained model\n",
    "        self.pretrained_net = classifier().to(device)\n",
    "        self.pretrained_net.load_state_dict(torch.load(path2))\n",
    "        \n",
    "        self.relu = nn.ReLU()\n",
    "        self.dropout = nn.Dropout(0.1)\n",
    "        \n",
    "        # Define lora hyperparameters\n",
    "        #TO-DO#-----------------------\n",
    "        self.α = 1 # facteur d'échelle\n",
    "        self.r = lora_rank\n",
    "        self.lora_beta = nn.Parameter(torch.Tensor(lora_rank, 1))\n",
    "        self.lora_gamma = nn.Parameter(torch.Tensor(lora_rank, 1))\n",
    "        ##------------------------------\n",
    "        \n",
    "        # Define lora weights matrices for each layer in pretrained model\n",
    "        #TO-DO#-----------------------\n",
    "        # layer 1\n",
    "        self.l1_lora_A = nn.Parameter(torch.empty(self.pretrained_net.linear1.in_features , self.r))\n",
    "        self.l1_lora_B = nn.Parameter(torch.empty(self.r, self.pretrained_net.linear1.out_features ))\n",
    "  \n",
    "        # layer 2\n",
    "        self.l2_lora_A = nn.Parameter(torch.empty(self.pretrained_net.linear2.in_features, self.r))\n",
    "        self.l2_lora_B = nn.Parameter(torch.empty(self.r, self.pretrained_net.linear2.out_features))\n",
    "  \n",
    "        # layer 3\n",
    "        self.l3_lora_A = nn.Parameter(torch.empty(self.pretrained_net.linear3.in_features, self.r))\n",
    "        self.l3_lora_B = nn.Parameter(torch.empty(self.r, self.pretrained_net.linear3.out_features))\n",
    "        ##------------------------------\n",
    "        \n",
    "        # Define lora initialization\n",
    "        #TO-DO#-----------------------\n",
    "        nn.init.kaiming_uniform_(self.l1_lora_A, a=math.sqrt(5))\n",
    "        nn.init.kaiming_uniform_(self.l2_lora_A, a=math.sqrt(5))\n",
    "        nn.init.kaiming_uniform_(self.l3_lora_A, a=math.sqrt(5))\n",
    "        \n",
    "\n",
    "        nn.init.zeros_(self.l1_lora_B)\n",
    "        nn.init.zeros_(self.l2_lora_B)\n",
    "        nn.init.zeros_(self.l3_lora_B)\n",
    "        ##------------------------------\n",
    "        \n",
    "        # nn.init.kaiming_normal_(self.l1_lora_A, mode='fan_out', nonlinearity='relu')\n",
    "        # nn.init.kaiming_normal_(self.l2_lora_A, mode='fan_out', nonlinearity='relu')\n",
    "        # nn.init.kaiming_normal_(self.l3_lora_A, mode='fan_out', nonlinearity='relu')\n",
    "\n",
    "        # nn.init.xavier_normal_(self.l1_lora_A)\n",
    "        # nn.init.xavier_normal_(self.l2_lora_A)\n",
    "        # nn.init.xavier_normal_(self.l3_lora_A)\n",
    "        \n",
    "        # print(self.l1_lora_A)\n",
    "        # print(self.l1_lora_B)\n",
    "        \n",
    "        # freeze non lora weights\n",
    "        #TO-DO#-----------------------\n",
    "        for param in self.pretrained_net.parameters():\n",
    "            param.requires_grad = False\n",
    "        ##------------------------------\n",
    "                \n",
    "    def lora_linear(self, x, layer, lora_A, lora_B):\n",
    "        #Implement formula (3) in arxiv.org/pdf/2106.09685.pdf\n",
    "        #TO-DO#-----------------------\n",
    "        h = layer(x) + (self.α) * x @ lora_A @ lora_B \n",
    "        return h\n",
    "        ##------------------------------        \n",
    "        \n",
    "    def forward(self, input):\n",
    "        x = input.view(-1, 28*28)\n",
    "        \n",
    "        # layer 1 (input size, hidden size)\n",
    "        x = self.lora_linear(x, self.pretrained_net.linear1, self.l1_lora_A, self.l1_lora_B)\n",
    "        x = self.relu(x)\n",
    "        x = self.dropout(x)\n",
    "\n",
    "        #complete the remaining code (layer 2 and 3)\n",
    "        #TO-DO#-----------------------\n",
    "        # layer 2 (hidden_size_1, hidden_size_2)\n",
    "        x = self.lora_linear(x, self.pretrained_net.linear2, self.l2_lora_A, self.l2_lora_B)\n",
    "        x = self.relu(x)\n",
    "        x = self.dropout(x)\n",
    "\n",
    "        # layer 3 (hidden_size_2, 5)\n",
    "        x = self.lora_linear(x, self.pretrained_net.linear3, self.l3_lora_A, self.l3_lora_B)\n",
    "        return F.log_softmax(x, dim=1)\n",
    "        ##------------------------------"
   ]
  },
  {
   "cell_type": "markdown",
   "id": "68b9ec77",
   "metadata": {
    "cell_ktag": "mS2TS6PvgIgF"
   },
   "source": [
    "Make a function that counts the number of parameters introduced by lora ( use the function torch.numel() )"
   ]
  },
  {
   "cell_type": "markdown",
   "id": "6d244772-00f2-4436-bf17-cadf6ec84f2c",
   "metadata": {},
   "source": [
    "On adapte le script précédent pour le comptage de poids et on dénombre le nombre de paramètres associés aux différentes matrices de l'extension LoRa."
   ]
  },
  {
   "cell_type": "code",
   "execution_count": 44,
   "id": "e7a8dd13",
   "metadata": {
    "cell_ktag": "mS2TS6PvgIgF"
   },
   "outputs": [
    {
     "name": "stdout",
     "output_type": "stream",
     "text": [
      "Layer 1 : A : 784\n",
      "Layer 1 : B : 1000\n",
      "Layer 2 : A : 1000\n",
      "Layer 2 : B : 2000\n",
      "Layer 3 : A : 2000\n",
      "Layer 3 : B : 5\n",
      "Total number of parameters: 6,789\n"
     ]
    }
   ],
   "source": [
    "lora_rank=1\n",
    "# Create an instance of the modified network\n",
    "modified_net = ModifiedClassifier(lora_rank).to(device)\n",
    "\n",
    "# Count the parameters introduced by lora layers\n",
    "# Print the size of the weights matrices of the network\n",
    "# Save the count of the total number of parameters\n",
    "#TO-DO#-----------------------\n",
    "modified_net.eval()\n",
    "total_parameters_original = 0\n",
    "\n",
    "# matrices Lora\n",
    "lst_lora_layers = [\n",
    "    modified_net.l1_lora_A, \n",
    "    modified_net.l1_lora_B, \n",
    "    modified_net.l2_lora_A, \n",
    "    modified_net.l2_lora_B, \n",
    "    modified_net.l3_lora_A, \n",
    "    modified_net.l3_lora_B\n",
    "]\n",
    "\n",
    "# dénombrement des paramètres\n",
    "for index, layer in enumerate(lst_lora_layers):\n",
    "    npara = torch.numel(layer)\n",
    "    if index%2==0:\n",
    "        print(f\"Layer {index//2+1} : A : {npara}\")\n",
    "    else:\n",
    "        print(f\"Layer {index//2+1} : B : {npara}\")\n",
    "    \n",
    "    total_parameters_original += npara\n",
    "print(f'Total number of parameters: {total_parameters_original:,}')\n",
    "##------------------------------"
   ]
  },
  {
   "cell_type": "markdown",
   "id": "599e0b11-8e6b-443e-8d56-41cec402a4c2",
   "metadata": {},
   "source": [
    "On est bien loin des 2,797,005 paramètres à réentrainer !"
   ]
  },
  {
   "cell_type": "markdown",
   "id": "5f4b88c3",
   "metadata": {
    "cell_ktag": "mS2TS6PvgIgF"
   },
   "source": [
    "# Fine-Tune using LoRA of rank 1"
   ]
  },
  {
   "cell_type": "markdown",
   "id": "d6fe2fbb",
   "metadata": {
    "cell_ktag": "mS2TS6PvgIgF"
   },
   "source": [
    "__Question 5 (0.5 points) :__"
   ]
  },
  {
   "cell_type": "markdown",
   "id": "8e3b195e-e187-46a5-b7c7-3700976bf09f",
   "metadata": {},
   "source": [
    "Suite à plusieurs essais concernant l'initailisation des matrices A, la loi normale a été remplacée par un nn.init.kaiming_uniform_ ce qui a permis de passer d'une accuracy de 0.42 à 0.568."
   ]
  },
  {
   "cell_type": "code",
   "execution_count": null,
   "id": "b7958e68",
   "metadata": {
    "cell_ktag": "mS2TS6PvgIgF"
   },
   "outputs": [],
   "source": [
    "#Fine tune this new model with loras of rank 1, on MNIST 5...9\n",
    "#TO-DO#-----------------------\n",
    "train_loss_lora1, val_loss_lora1 = train(train_loader_subset2, val_loader_subset2, \"subset2\", modified_net, epochs=30)\n",
    "print(\"__________________End training__________________\")\n",
    "##------------------------------\n",
    "\n"
   ]
  },
  {
   "cell_type": "code",
   "execution_count": 52,
   "id": "68a1c256-6a93-4e60-b246-44ca29570c00",
   "metadata": {},
   "outputs": [
    {
     "name": "stdout",
     "output_type": "stream",
     "text": [
      "\n",
      " All same = True\n"
     ]
    }
   ],
   "source": [
    "# Check that the frozen parameters are still unchanged by the finetuning\n",
    "# Remember the dictionary \"original_weights\"\n",
    "#TO-DO#-----------------------\n",
    "all_same = all( [\n",
    "    False not in (v == torch.load(path2)[k]) \n",
    "    for k,v in modified_net.pretrained_net.state_dict().items()\n",
    "])\n",
    "print(\"\\n All same =\",all_same)\n",
    "##------------------------------"
   ]
  },
  {
   "cell_type": "markdown",
   "id": "169778e7-a911-4502-b9f6-83d8335c31b0",
   "metadata": {},
   "source": [
    "Les poids du classifier sont bien inchangés."
   ]
  },
  {
   "cell_type": "code",
   "execution_count": null,
   "id": "4f4705db",
   "metadata": {
    "cell_ktag": "mS2TS6PvgIgF"
   },
   "outputs": [],
   "source": [
    "#plot losses\n",
    "#TO-DO#-----------------------\n",
    "px.line(pd.DataFrame({\"Train loss\": train_loss_lora1, \"Valid loss\": val_loss_lora1}), title = \"<b>LoRa r=1</b> Train 5-9 \").show()\n",
    "##------------------------------"
   ]
  },
  {
   "attachments": {
    "8c46b392-5024-488f-b280-6fd0c1f4ba7d.png": {
     "image/png": "[encoded data removed]"
    }
   },
   "cell_type": "markdown",
   "id": "2519adff-55d6-45d4-a1a7-1f971d213dd2",
   "metadata": {},
   "source": [
    "![Lora1.png](attachment:8c46b392-5024-488f-b280-6fd0c1f4ba7d.png)"
   ]
  },
  {
   "cell_type": "markdown",
   "id": "73e0c9f6-87c2-4c10-b342-b9db313040ea",
   "metadata": {},
   "source": [
    "La décroissance de la loss est plus lente que dans le cas avec tous les poids, et la performance diminue du fait de la perte en expressivité du modèle:"
   ]
  },
  {
   "cell_type": "code",
   "execution_count": 67,
   "id": "d724669b",
   "metadata": {
    "cell_ktag": "mS2TS6PvgIgF"
   },
   "outputs": [
    {
     "name": "stderr",
     "output_type": "stream",
     "text": [
      "Test subset2 after retraining: 100%|██████████| 38/38 [00:01<00:00, 19.91it/s]"
     ]
    },
    {
     "name": "stdout",
     "output_type": "stream",
     "text": [
      "Accuracy: 0.568\n",
      "Wrong counts for the digit 5: 427\n",
      "Wrong counts for the digit 6: 321\n",
      "Wrong counts for the digit 7: 422\n",
      "Wrong counts for the digit 8: 726\n",
      "Wrong counts for the digit 9: 202\n"
     ]
    },
    {
     "name": "stderr",
     "output_type": "stream",
     "text": [
      "\n"
     ]
    }
   ],
   "source": [
    "#Compute test accuracy on MNIST 5...9 for that lora rank\n",
    "#######\n",
    "#TO-DO#\n",
    "#######\n",
    "score_lora1 = test(test_loader_subset2, \"Test subset2 after retraining\", modified_net, {i: 0 for i in range(5,10)})"
   ]
  },
  {
   "cell_type": "markdown",
   "id": "7f870381-1ea3-4dae-9f43-cd080ff1c227",
   "metadata": {},
   "source": [
    "La diminution en poids c'est fait au pris d'une baisse de performance. Il peut être utile de de trouver un meilleure compromis entre complexité spatial et accuracy."
   ]
  },
  {
   "cell_type": "markdown",
   "id": "f091656b",
   "metadata": {
    "cell_ktag": "mS2TS6PvgIgF"
   },
   "source": [
    "# Try different LoRA rank"
   ]
  },
  {
   "cell_type": "markdown",
   "id": "2319ba15",
   "metadata": {
    "cell_ktag": "mS2TS6PvgIgF"
   },
   "source": [
    "__Question 6 (4 points) :__"
   ]
  },
  {
   "cell_type": "markdown",
   "id": "fad40a09",
   "metadata": {
    "cell_ktag": "mS2TS6PvgIgF"
   },
   "source": [
    "Fine-tune the pre-trained model using different lora ranks [1,2,4,8,16,32,64], evaluate it on the test set\n",
    "and store the number of parameters added \n",
    "\n",
    "Make a plot showing the test accuracy as a function of lora rank. \\\n",
    "Compare it to the test accuracy of the pre-trained model fine-tuned in the usual way on MNIST 5...9 \n",
    "\n",
    "Conclude by looking at the number of parameters added\n",
    "\n",
    "Discuss what are the pros of LoRA, what possible applications do you envision for it ?"
   ]
  },
  {
   "cell_type": "code",
   "execution_count": null,
   "id": "1e0be5da-8a93-4850-8ae4-f18b6d88189e",
   "metadata": {},
   "outputs": [],
   "source": [
    "############\n",
    "# Pipeline #\n",
    "############\n",
    "def lora_train_test(lora_rank):\n",
    "    # définition du modèle\n",
    "    modif_net = ModifiedClassifier(lora_rank).to(device)\n",
    "    # comptage du nombre de paramètres à train\n",
    "    modif_net.eval()\n",
    "    total_parameters = 0\n",
    "    lst_lora_layers = [\n",
    "        modif_net.l1_lora_A, \n",
    "        modif_net.l1_lora_B, \n",
    "        modif_net.l2_lora_A, \n",
    "        modif_net.l2_lora_B, \n",
    "        modif_net.l3_lora_A, \n",
    "        modif_net.l3_lora_B\n",
    "    ]\n",
    "\n",
    "    for layer in lst_lora_layers:\n",
    "        total_parameters += torch.numel(layer)\n",
    "\n",
    "    # Train and test\n",
    "    train_loss_lora, val_loss_lora = train(train_loader_subset2, val_loader_subset2, \"subset2\", modif_net, epochs=10)\n",
    "    score_lora = test(test_loader_subset2, \"Test subset2 after retraining\", modif_net, {i: 0 for i in range(5,10)})\n",
    "    return total_parameters, train_loss_lora, val_loss_lora, score_lora\n",
    "\n",
    "\n",
    "##########################\n",
    "# Script data collection #\n",
    "##########################\n",
    "accu_npara = []\n",
    "accu_score = []\n",
    "df_loss = pd.DataFrame({})\n",
    "\n",
    "lst_rank = [1,2,4,8,16,32,64]\n",
    "for lora_rank in tqdm(lst_rank):\n",
    "    total_parameters, train_loss_lora, val_loss_lora, score_lora = lora_train_test(lora_rank)\n",
    "    accu_npara.append(total_parameters)\n",
    "    accu_score.append(score_lora)\n",
    "    df_loss[f\"Train loss k={lora_rank}\"] = train_loss_lora\n",
    "    df_loss[f\"Valid loss k={lora_rank}\"] = val_loss_lora\n",
    "\n",
    "df_score = pd.DataFrame({\"number of parameters\":accu_npara, \"Accuracy\": accu_score, \"Rank\":lst_rank})"
   ]
  },
  {
   "cell_type": "code",
   "execution_count": 51,
   "id": "c596836c",
   "metadata": {
    "cell_ktag": "mS2TS6PvgIgF"
   },
   "outputs": [
    {
     "data": {
      "application/vnd.plotly.v1+json": {
       "config": {
        "plotlyServerURL": "https://plot.ly"
       },
       "data": [
        {
         "hovertemplate": "variable=Train loss k=1<br>index=%{x}<br>value=%{y}<extra></extra>",
         "legendgroup": "Train loss k=1",
         "line": {
          "color": "#636efa",
          "dash": "solid"
         },
         "marker": {
          "symbol": "circle"
         },
         "mode": "lines",
         "name": "Train loss k=1",
         "orientation": "v",
         "showlegend": true,
         "type": "scatter",
         "x": [
          0,
          1,
          2,
          3,
          4,
          5,
          6,
          7,
          8,
          9
         ],
         "xaxis": "x",
         "y": [
          6.36431158255346,
          6.249106250194289,
          6.124814927948187,
          5.9821328435625345,
          5.844567301850882,
          5.690322325096368,
          5.517526607335724,
          5.345812557646947,
          5.182888664814256,
          4.972692621420629
         ],
         "yaxis": "y"
        },
        {
         "hovertemplate": "variable=Valid loss k=1<br>index=%{x}<br>value=%{y}<extra></extra>",
         "legendgroup": "Valid loss k=1",
         "line": {
          "color": "#EF553B",
          "dash": "solid"
         },
         "marker": {
          "symbol": "circle"
         },
         "mode": "lines",
         "name": "Valid loss k=1",
         "orientation": "v",
         "showlegend": true,
         "type": "scatter",
         "x": [
          0,
          1,
          2,
          3,
          4,
          5,
          6,
          7,
          8,
          9
         ],
         "xaxis": "x",
         "y": [
          6.364116876021676,
          6.23787458392157,
          6.102542448734892,
          5.958437076513318,
          5.80600198801013,
          5.643148947453153,
          5.470862264218538,
          5.288757821787959,
          5.094442160233207,
          4.888959539109382
         ],
         "yaxis": "y"
        },
        {
         "hovertemplate": "variable=Train loss k=2<br>index=%{x}<br>value=%{y}<extra></extra>",
         "legendgroup": "Train loss k=2",
         "line": {
          "color": "#00cc96",
          "dash": "solid"
         },
         "marker": {
          "symbol": "circle"
         },
         "mode": "lines",
         "name": "Train loss k=2",
         "orientation": "v",
         "showlegend": true,
         "type": "scatter",
         "x": [
          0,
          1,
          2,
          3,
          4,
          5,
          6,
          7,
          8,
          9
         ],
         "xaxis": "x",
         "y": [
          6.365932630456013,
          6.139168594194495,
          5.96024989785615,
          5.7328653424422935,
          5.476649022250442,
          5.204552363164677,
          4.9307744991705285,
          4.595915724772103,
          4.286743529835102,
          3.9354150369300607
         ],
         "yaxis": "y"
        },
        {
         "hovertemplate": "variable=Valid loss k=2<br>index=%{x}<br>value=%{y}<extra></extra>",
         "legendgroup": "Valid loss k=2",
         "line": {
          "color": "#ab63fa",
          "dash": "solid"
         },
         "marker": {
          "symbol": "circle"
         },
         "mode": "lines",
         "name": "Valid loss k=2",
         "orientation": "v",
         "showlegend": true,
         "type": "scatter",
         "x": [
          0,
          1,
          2,
          3,
          4,
          5,
          6,
          7,
          8,
          9
         ],
         "xaxis": "x",
         "y": [
          6.294512486112291,
          6.090897926385852,
          5.868603312450906,
          5.6251325952833975,
          5.361653790957686,
          5.074017455612403,
          4.764545779297317,
          4.431470262831536,
          4.077859930370165,
          3.709817886352539
         ],
         "yaxis": "y"
        },
        {
         "hovertemplate": "variable=Train loss k=4<br>index=%{x}<br>value=%{y}<extra></extra>",
         "legendgroup": "Train loss k=4",
         "line": {
          "color": "#FFA15A",
          "dash": "solid"
         },
         "marker": {
          "symbol": "circle"
         },
         "mode": "lines",
         "name": "Train loss k=4",
         "orientation": "v",
         "showlegend": true,
         "type": "scatter",
         "x": [
          0,
          1,
          2,
          3,
          4,
          5,
          6,
          7,
          8,
          9
         ],
         "xaxis": "x",
         "y": [
          6.336286011689938,
          6.140981406158542,
          5.885225506302733,
          5.6049935180948385,
          5.207858689823506,
          4.781124024657729,
          4.263388356807069,
          3.7097612745273185,
          3.196504360400372,
          2.7651798673298047
         ],
         "yaxis": "y"
        },
        {
         "hovertemplate": "variable=Valid loss k=4<br>index=%{x}<br>value=%{y}<extra></extra>",
         "legendgroup": "Valid loss k=4",
         "line": {
          "color": "#19d3f3",
          "dash": "solid"
         },
         "marker": {
          "symbol": "circle"
         },
         "mode": "lines",
         "name": "Valid loss k=4",
         "orientation": "v",
         "showlegend": true,
         "type": "scatter",
         "x": [
          0,
          1,
          2,
          3,
          4,
          5,
          6,
          7,
          8,
          9
         ],
         "xaxis": "x",
         "y": [
          6.291918892791306,
          6.061411373857139,
          5.77722806515901,
          5.431162122367085,
          5.018612004708553,
          4.53338815163875,
          3.984938977421194,
          3.4115607220193613,
          2.90512656474459,
          2.5361343173013218
         ],
         "yaxis": "y"
        },
        {
         "hovertemplate": "variable=Train loss k=8<br>index=%{x}<br>value=%{y}<extra></extra>",
         "legendgroup": "Train loss k=8",
         "line": {
          "color": "#FF6692",
          "dash": "solid"
         },
         "marker": {
          "symbol": "circle"
         },
         "mode": "lines",
         "name": "Train loss k=8",
         "orientation": "v",
         "showlegend": true,
         "type": "scatter",
         "x": [
          0,
          1,
          2,
          3,
          4,
          5,
          6,
          7,
          8,
          9
         ],
         "xaxis": "x",
         "y": [
          6.306836871626954,
          5.9653687032853595,
          5.53601955034718,
          4.977975772774738,
          4.333624697620084,
          3.542822911872627,
          2.7801346571549126,
          2.224734796500354,
          1.80390733517475,
          1.4627008530664147
         ],
         "yaxis": "y"
        },
        {
         "hovertemplate": "variable=Valid loss k=8<br>index=%{x}<br>value=%{y}<extra></extra>",
         "legendgroup": "Valid loss k=8",
         "line": {
          "color": "#B6E880",
          "dash": "solid"
         },
         "marker": {
          "symbol": "circle"
         },
         "mode": "lines",
         "name": "Valid loss k=8",
         "orientation": "v",
         "showlegend": true,
         "type": "scatter",
         "x": [
          0,
          1,
          2,
          3,
          4,
          5,
          6,
          7,
          8,
          9
         ],
         "xaxis": "x",
         "y": [
          6.18499968017357,
          5.789880130601966,
          5.289584733437801,
          4.681996960570847,
          3.93821912917538,
          3.11340400101482,
          2.425767936568329,
          1.9440776714380237,
          1.5617630809977434,
          1.2542294142902761
         ],
         "yaxis": "y"
        },
        {
         "hovertemplate": "variable=Train loss k=16<br>index=%{x}<br>value=%{y}<extra></extra>",
         "legendgroup": "Train loss k=16",
         "line": {
          "color": "#FF97FF",
          "dash": "solid"
         },
         "marker": {
          "symbol": "circle"
         },
         "mode": "lines",
         "name": "Train loss k=16",
         "orientation": "v",
         "showlegend": true,
         "type": "scatter",
         "x": [
          0,
          1,
          2,
          3,
          4,
          5,
          6,
          7,
          8,
          9
         ],
         "xaxis": "x",
         "y": [
          6.254743744867929,
          5.810779916573756,
          5.196110144905422,
          4.439060156389793,
          3.5467647913820253,
          2.690974213321757,
          2.054623258780248,
          1.5953637354122185,
          1.2471962030629935,
          1.0038524244142615
         ],
         "yaxis": "y"
        },
        {
         "hovertemplate": "variable=Valid loss k=16<br>index=%{x}<br>value=%{y}<extra></extra>",
         "legendgroup": "Valid loss k=16",
         "line": {
          "color": "#FECB52",
          "dash": "solid"
         },
         "marker": {
          "symbol": "circle"
         },
         "mode": "lines",
         "name": "Valid loss k=16",
         "orientation": "v",
         "showlegend": true,
         "type": "scatter",
         "x": [
          0,
          1,
          2,
          3,
          4,
          5,
          6,
          7,
          8,
          9
         ],
         "xaxis": "x",
         "y": [
          6.103412400121274,
          5.564411474310833,
          4.8647298743759375,
          4.023036815118099,
          3.0882155860679736,
          2.300514663475147,
          1.762006163597107,
          1.3685266677884087,
          1.0748184452886167,
          0.8786413203115049
         ],
         "yaxis": "y"
        },
        {
         "hovertemplate": "variable=Train loss k=32<br>index=%{x}<br>value=%{y}<extra></extra>",
         "legendgroup": "Train loss k=32",
         "line": {
          "color": "#636efa",
          "dash": "solid"
         },
         "marker": {
          "symbol": "circle"
         },
         "mode": "lines",
         "name": "Train loss k=32",
         "orientation": "v",
         "showlegend": true,
         "type": "scatter",
         "x": [
          0,
          1,
          2,
          3,
          4,
          5,
          6,
          7,
          8,
          9
         ],
         "xaxis": "x",
         "y": [
          6.149990872566744,
          5.398218159349809,
          4.399874385099233,
          3.2414248700467696,
          2.2112176062897864,
          1.5833186477607821,
          1.1510466126181325,
          0.880995402980295,
          0.7107814102439407,
          0.6121852573770914
         ],
         "yaxis": "y"
        },
        {
         "hovertemplate": "variable=Valid loss k=32<br>index=%{x}<br>value=%{y}<extra></extra>",
         "legendgroup": "Valid loss k=32",
         "line": {
          "color": "#EF553B",
          "dash": "solid"
         },
         "marker": {
          "symbol": "circle"
         },
         "mode": "lines",
         "name": "Valid loss k=32",
         "orientation": "v",
         "showlegend": true,
         "type": "scatter",
         "x": [
          0,
          1,
          2,
          3,
          4,
          5,
          6,
          7,
          8,
          9
         ],
         "xaxis": "x",
         "y": [
          5.862575434256291,
          4.957952209140943,
          3.8318101392276045,
          2.6452715621478315,
          1.8101741904797761,
          1.295045390509177,
          0.9464889687040577,
          0.7352712763392407,
          0.6119601039782815,
          0.5323514510755953
         ],
         "yaxis": "y"
        },
        {
         "hovertemplate": "variable=Train loss k=64<br>index=%{x}<br>value=%{y}<extra></extra>",
         "legendgroup": "Train loss k=64",
         "line": {
          "color": "#00cc96",
          "dash": "solid"
         },
         "marker": {
          "symbol": "circle"
         },
         "mode": "lines",
         "name": "Train loss k=64",
         "orientation": "v",
         "showlegend": true,
         "type": "scatter",
         "x": [
          0,
          1,
          2,
          3,
          4,
          5,
          6,
          7,
          8,
          9
         ],
         "xaxis": "x",
         "y": [
          6.013855024894572,
          4.831251394674645,
          3.259575479519293,
          1.9309692412429715,
          1.208170781964841,
          0.8242946472597419,
          0.6461657113540247,
          0.5409136190547706,
          0.4751108910726464,
          0.4298338756798217
         ],
         "yaxis": "y"
        },
        {
         "hovertemplate": "variable=Valid loss k=64<br>index=%{x}<br>value=%{y}<extra></extra>",
         "legendgroup": "Valid loss k=64",
         "line": {
          "color": "#ab63fa",
          "dash": "solid"
         },
         "marker": {
          "symbol": "circle"
         },
         "mode": "lines",
         "name": "Valid loss k=64",
         "orientation": "v",
         "showlegend": true,
         "type": "scatter",
         "x": [
          0,
          1,
          2,
          3,
          4,
          5,
          6,
          7,
          8,
          9
         ],
         "xaxis": "x",
         "y": [
          5.5319037437438965,
          4.08939072014629,
          2.422593913216522,
          1.4593642034392427,
          0.9218661111334095,
          0.6717706201733022,
          0.5466826730880184,
          0.4698671059332032,
          0.41464393704697705,
          0.3737168337987817
         ],
         "yaxis": "y"
        }
       ],
       "layout": {
        "autosize": true,
        "legend": {
         "title": {
          "text": "variable"
         },
         "tracegroupgap": 0
        },
        "template": {
         "data": {
          "bar": [
           {
            "error_x": {
             "color": "#2a3f5f"
            },
            "error_y": {
             "color": "#2a3f5f"
            },
            "marker": {
             "line": {
              "color": "#E5ECF6",
              "width": 0.5
             },
             "pattern": {
              "fillmode": "overlay",
              "size": 10,
              "solidity": 0.2
             }
            },
            "type": "bar"
           }
          ],
          "barpolar": [
           {
            "marker": {
             "line": {
              "color": "#E5ECF6",
              "width": 0.5
             },
             "pattern": {
              "fillmode": "overlay",
              "size": 10,
              "solidity": 0.2
             }
            },
            "type": "barpolar"
           }
          ],
          "carpet": [
           {
            "aaxis": {
             "endlinecolor": "#2a3f5f",
             "gridcolor": "white",
             "linecolor": "white",
             "minorgridcolor": "white",
             "startlinecolor": "#2a3f5f"
            },
            "baxis": {
             "endlinecolor": "#2a3f5f",
             "gridcolor": "white",
             "linecolor": "white",
             "minorgridcolor": "white",
             "startlinecolor": "#2a3f5f"
            },
            "type": "carpet"
           }
          ],
          "choropleth": [
           {
            "colorbar": {
             "outlinewidth": 0,
             "ticks": ""
            },
            "type": "choropleth"
           }
          ],
          "contour": [
           {
            "colorbar": {
             "outlinewidth": 0,
             "ticks": ""
            },
            "colorscale": [
             [
              0,
              "#0d0887"
             ],
             [
              0.1111111111111111,
              "#46039f"
             ],
             [
              0.2222222222222222,
              "#7201a8"
             ],
             [
              0.3333333333333333,
              "#9c179e"
             ],
             [
              0.4444444444444444,
              "#bd3786"
             ],
             [
              0.5555555555555556,
              "#d8576b"
             ],
             [
              0.6666666666666666,
              "#ed7953"
             ],
             [
              0.7777777777777778,
              "#fb9f3a"
             ],
             [
              0.8888888888888888,
              "#fdca26"
             ],
             [
              1,
              "#f0f921"
             ]
            ],
            "type": "contour"
           }
          ],
          "contourcarpet": [
           {
            "colorbar": {
             "outlinewidth": 0,
             "ticks": ""
            },
            "type": "contourcarpet"
           }
          ],
          "heatmap": [
           {
            "colorbar": {
             "outlinewidth": 0,
             "ticks": ""
            },
            "colorscale": [
             [
              0,
              "#0d0887"
             ],
             [
              0.1111111111111111,
              "#46039f"
             ],
             [
              0.2222222222222222,
              "#7201a8"
             ],
             [
              0.3333333333333333,
              "#9c179e"
             ],
             [
              0.4444444444444444,
              "#bd3786"
             ],
             [
              0.5555555555555556,
              "#d8576b"
             ],
             [
              0.6666666666666666,
              "#ed7953"
             ],
             [
              0.7777777777777778,
              "#fb9f3a"
             ],
             [
              0.8888888888888888,
              "#fdca26"
             ],
             [
              1,
              "#f0f921"
             ]
            ],
            "type": "heatmap"
           }
          ],
          "heatmapgl": [
           {
            "colorbar": {
             "outlinewidth": 0,
             "ticks": ""
            },
            "colorscale": [
             [
              0,
              "#0d0887"
             ],
             [
              0.1111111111111111,
              "#46039f"
             ],
             [
              0.2222222222222222,
              "#7201a8"
             ],
             [
              0.3333333333333333,
              "#9c179e"
             ],
             [
              0.4444444444444444,
              "#bd3786"
             ],
             [
              0.5555555555555556,
              "#d8576b"
             ],
             [
              0.6666666666666666,
              "#ed7953"
             ],
             [
              0.7777777777777778,
              "#fb9f3a"
             ],
             [
              0.8888888888888888,
              "#fdca26"
             ],
             [
              1,
              "#f0f921"
             ]
            ],
            "type": "heatmapgl"
           }
          ],
          "histogram": [
           {
            "marker": {
             "pattern": {
              "fillmode": "overlay",
              "size": 10,
              "solidity": 0.2
             }
            },
            "type": "histogram"
           }
          ],
          "histogram2d": [
           {
            "colorbar": {
             "outlinewidth": 0,
             "ticks": ""
            },
            "colorscale": [
             [
              0,
              "#0d0887"
             ],
             [
              0.1111111111111111,
              "#46039f"
             ],
             [
              0.2222222222222222,
              "#7201a8"
             ],
             [
              0.3333333333333333,
              "#9c179e"
             ],
             [
              0.4444444444444444,
              "#bd3786"
             ],
             [
              0.5555555555555556,
              "#d8576b"
             ],
             [
              0.6666666666666666,
              "#ed7953"
             ],
             [
              0.7777777777777778,
              "#fb9f3a"
             ],
             [
              0.8888888888888888,
              "#fdca26"
             ],
             [
              1,
              "#f0f921"
             ]
            ],
            "type": "histogram2d"
           }
          ],
          "histogram2dcontour": [
           {
            "colorbar": {
             "outlinewidth": 0,
             "ticks": ""
            },
            "colorscale": [
             [
              0,
              "#0d0887"
             ],
             [
              0.1111111111111111,
              "#46039f"
             ],
             [
              0.2222222222222222,
              "#7201a8"
             ],
             [
              0.3333333333333333,
              "#9c179e"
             ],
             [
              0.4444444444444444,
              "#bd3786"
             ],
             [
              0.5555555555555556,
              "#d8576b"
             ],
             [
              0.6666666666666666,
              "#ed7953"
             ],
             [
              0.7777777777777778,
              "#fb9f3a"
             ],
             [
              0.8888888888888888,
              "#fdca26"
             ],
             [
              1,
              "#f0f921"
             ]
            ],
            "type": "histogram2dcontour"
           }
          ],
          "mesh3d": [
           {
            "colorbar": {
             "outlinewidth": 0,
             "ticks": ""
            },
            "type": "mesh3d"
           }
          ],
          "parcoords": [
           {
            "line": {
             "colorbar": {
              "outlinewidth": 0,
              "ticks": ""
             }
            },
            "type": "parcoords"
           }
          ],
          "pie": [
           {
            "automargin": true,
            "type": "pie"
           }
          ],
          "scatter": [
           {
            "fillpattern": {
             "fillmode": "overlay",
             "size": 10,
             "solidity": 0.2
            },
            "type": "scatter"
           }
          ],
          "scatter3d": [
           {
            "line": {
             "colorbar": {
              "outlinewidth": 0,
              "ticks": ""
             }
            },
            "marker": {
             "colorbar": {
              "outlinewidth": 0,
              "ticks": ""
             }
            },
            "type": "scatter3d"
           }
          ],
          "scattercarpet": [
           {
            "marker": {
             "colorbar": {
              "outlinewidth": 0,
              "ticks": ""
             }
            },
            "type": "scattercarpet"
           }
          ],
          "scattergeo": [
           {
            "marker": {
             "colorbar": {
              "outlinewidth": 0,
              "ticks": ""
             }
            },
            "type": "scattergeo"
           }
          ],
          "scattergl": [
           {
            "marker": {
             "colorbar": {
              "outlinewidth": 0,
              "ticks": ""
             }
            },
            "type": "scattergl"
           }
          ],
          "scattermapbox": [
           {
            "marker": {
             "colorbar": {
              "outlinewidth": 0,
              "ticks": ""
             }
            },
            "type": "scattermapbox"
           }
          ],
          "scatterpolar": [
           {
            "marker": {
             "colorbar": {
              "outlinewidth": 0,
              "ticks": ""
             }
            },
            "type": "scatterpolar"
           }
          ],
          "scatterpolargl": [
           {
            "marker": {
             "colorbar": {
              "outlinewidth": 0,
              "ticks": ""
             }
            },
            "type": "scatterpolargl"
           }
          ],
          "scatterternary": [
           {
            "marker": {
             "colorbar": {
              "outlinewidth": 0,
              "ticks": ""
             }
            },
            "type": "scatterternary"
           }
          ],
          "surface": [
           {
            "colorbar": {
             "outlinewidth": 0,
             "ticks": ""
            },
            "colorscale": [
             [
              0,
              "#0d0887"
             ],
             [
              0.1111111111111111,
              "#46039f"
             ],
             [
              0.2222222222222222,
              "#7201a8"
             ],
             [
              0.3333333333333333,
              "#9c179e"
             ],
             [
              0.4444444444444444,
              "#bd3786"
             ],
             [
              0.5555555555555556,
              "#d8576b"
             ],
             [
              0.6666666666666666,
              "#ed7953"
             ],
             [
              0.7777777777777778,
              "#fb9f3a"
             ],
             [
              0.8888888888888888,
              "#fdca26"
             ],
             [
              1,
              "#f0f921"
             ]
            ],
            "type": "surface"
           }
          ],
          "table": [
           {
            "cells": {
             "fill": {
              "color": "#EBF0F8"
             },
             "line": {
              "color": "white"
             }
            },
            "header": {
             "fill": {
              "color": "#C8D4E3"
             },
             "line": {
              "color": "white"
             }
            },
            "type": "table"
           }
          ]
         },
         "layout": {
          "annotationdefaults": {
           "arrowcolor": "#2a3f5f",
           "arrowhead": 0,
           "arrowwidth": 1
          },
          "autotypenumbers": "strict",
          "coloraxis": {
           "colorbar": {
            "outlinewidth": 0,
            "ticks": ""
           }
          },
          "colorscale": {
           "diverging": [
            [
             0,
             "#8e0152"
            ],
            [
             0.1,
             "#c51b7d"
            ],
            [
             0.2,
             "#de77ae"
            ],
            [
             0.3,
             "#f1b6da"
            ],
            [
             0.4,
             "#fde0ef"
            ],
            [
             0.5,
             "#f7f7f7"
            ],
            [
             0.6,
             "#e6f5d0"
            ],
            [
             0.7,
             "#b8e186"
            ],
            [
             0.8,
             "#7fbc41"
            ],
            [
             0.9,
             "#4d9221"
            ],
            [
             1,
             "#276419"
            ]
           ],
           "sequential": [
            [
             0,
             "#0d0887"
            ],
            [
             0.1111111111111111,
             "#46039f"
            ],
            [
             0.2222222222222222,
             "#7201a8"
            ],
            [
             0.3333333333333333,
             "#9c179e"
            ],
            [
             0.4444444444444444,
             "#bd3786"
            ],
            [
             0.5555555555555556,
             "#d8576b"
            ],
            [
             0.6666666666666666,
             "#ed7953"
            ],
            [
             0.7777777777777778,
             "#fb9f3a"
            ],
            [
             0.8888888888888888,
             "#fdca26"
            ],
            [
             1,
             "#f0f921"
            ]
           ],
           "sequentialminus": [
            [
             0,
             "#0d0887"
            ],
            [
             0.1111111111111111,
             "#46039f"
            ],
            [
             0.2222222222222222,
             "#7201a8"
            ],
            [
             0.3333333333333333,
             "#9c179e"
            ],
            [
             0.4444444444444444,
             "#bd3786"
            ],
            [
             0.5555555555555556,
             "#d8576b"
            ],
            [
             0.6666666666666666,
             "#ed7953"
            ],
            [
             0.7777777777777778,
             "#fb9f3a"
            ],
            [
             0.8888888888888888,
             "#fdca26"
            ],
            [
             1,
             "#f0f921"
            ]
           ]
          },
          "colorway": [
           "#636efa",
           "#EF553B",
           "#00cc96",
           "#ab63fa",
           "#FFA15A",
           "#19d3f3",
           "#FF6692",
           "#B6E880",
           "#FF97FF",
           "#FECB52"
          ],
          "font": {
           "color": "#2a3f5f"
          },
          "geo": {
           "bgcolor": "white",
           "lakecolor": "white",
           "landcolor": "#E5ECF6",
           "showlakes": true,
           "showland": true,
           "subunitcolor": "white"
          },
          "hoverlabel": {
           "align": "left"
          },
          "hovermode": "closest",
          "mapbox": {
           "style": "light"
          },
          "paper_bgcolor": "white",
          "plot_bgcolor": "#E5ECF6",
          "polar": {
           "angularaxis": {
            "gridcolor": "white",
            "linecolor": "white",
            "ticks": ""
           },
           "bgcolor": "#E5ECF6",
           "radialaxis": {
            "gridcolor": "white",
            "linecolor": "white",
            "ticks": ""
           }
          },
          "scene": {
           "xaxis": {
            "backgroundcolor": "#E5ECF6",
            "gridcolor": "white",
            "gridwidth": 2,
            "linecolor": "white",
            "showbackground": true,
            "ticks": "",
            "zerolinecolor": "white"
           },
           "yaxis": {
            "backgroundcolor": "#E5ECF6",
            "gridcolor": "white",
            "gridwidth": 2,
            "linecolor": "white",
            "showbackground": true,
            "ticks": "",
            "zerolinecolor": "white"
           },
           "zaxis": {
            "backgroundcolor": "#E5ECF6",
            "gridcolor": "white",
            "gridwidth": 2,
            "linecolor": "white",
            "showbackground": true,
            "ticks": "",
            "zerolinecolor": "white"
           }
          },
          "shapedefaults": {
           "line": {
            "color": "#2a3f5f"
           }
          },
          "ternary": {
           "aaxis": {
            "gridcolor": "white",
            "linecolor": "white",
            "ticks": ""
           },
           "baxis": {
            "gridcolor": "white",
            "linecolor": "white",
            "ticks": ""
           },
           "bgcolor": "#E5ECF6",
           "caxis": {
            "gridcolor": "white",
            "linecolor": "white",
            "ticks": ""
           }
          },
          "title": {
           "x": 0.05
          },
          "xaxis": {
           "automargin": true,
           "gridcolor": "white",
           "linecolor": "white",
           "ticks": "",
           "title": {
            "standoff": 15
           },
           "zerolinecolor": "white",
           "zerolinewidth": 2
          },
          "yaxis": {
           "automargin": true,
           "gridcolor": "white",
           "linecolor": "white",
           "ticks": "",
           "title": {
            "standoff": 15
           },
           "zerolinecolor": "white",
           "zerolinewidth": 2
          }
         }
        },
        "title": {
         "text": "<b>LoRa Loss</b> Train 5-9 <br> 10 epochs"
        },
        "xaxis": {
         "anchor": "y",
         "autorange": true,
         "domain": [
          0,
          1
         ],
         "range": [
          0,
          9
         ],
         "title": {
          "text": "index"
         },
         "type": "linear"
        },
        "yaxis": {
         "anchor": "x",
         "autorange": true,
         "domain": [
          0,
          1
         ],
         "range": [
          0.040815956206713355,
          6.6988335080480805
         ],
         "title": {
          "text": "value"
         },
         "type": "linear"
        }
       }
      },
      "image/png": "[encoded data removed]",
      "text/html": [
       "<div>                            <div id=\"c6d82f4a-3fe1-4c08-948d-6c10e0bec1d2\" class=\"plotly-graph-div\" style=\"height:525px; width:100%;\"></div>            <script type=\"text/javascript\">                require([\"plotly\"], function(Plotly) {                    window.PLOTLYENV=window.PLOTLYENV || {};                                    if (document.getElementById(\"c6d82f4a-3fe1-4c08-948d-6c10e0bec1d2\")) {                    Plotly.newPlot(                        \"c6d82f4a-3fe1-4c08-948d-6c10e0bec1d2\",                        [{\"hovertemplate\":\"variable=Train loss k=1\\u003cbr\\u003eindex=%{x}\\u003cbr\\u003evalue=%{y}\\u003cextra\\u003e\\u003c\\u002fextra\\u003e\",\"legendgroup\":\"Train loss k=1\",\"line\":{\"color\":\"#636efa\",\"dash\":\"solid\"},\"marker\":{\"symbol\":\"circle\"},\"mode\":\"lines\",\"name\":\"Train loss k=1\",\"orientation\":\"v\",\"showlegend\":true,\"x\":[0,1,2,3,4,5,6,7,8,9],\"xaxis\":\"x\",\"y\":[6.36431158255346,6.249106250194289,6.124814927948187,5.9821328435625345,5.844567301850882,5.690322325096368,5.517526607335724,5.345812557646947,5.182888664814256,4.972692621420629],\"yaxis\":\"y\",\"type\":\"scatter\"},{\"hovertemplate\":\"variable=Valid loss k=1\\u003cbr\\u003eindex=%{x}\\u003cbr\\u003evalue=%{y}\\u003cextra\\u003e\\u003c\\u002fextra\\u003e\",\"legendgroup\":\"Valid loss k=1\",\"line\":{\"color\":\"#EF553B\",\"dash\":\"solid\"},\"marker\":{\"symbol\":\"circle\"},\"mode\":\"lines\",\"name\":\"Valid loss k=1\",\"orientation\":\"v\",\"showlegend\":true,\"x\":[0,1,2,3,4,5,6,7,8,9],\"xaxis\":\"x\",\"y\":[6.364116876021676,6.23787458392157,6.102542448734892,5.958437076513318,5.80600198801013,5.643148947453153,5.470862264218538,5.288757821787959,5.094442160233207,4.888959539109382],\"yaxis\":\"y\",\"type\":\"scatter\"},{\"hovertemplate\":\"variable=Train loss k=2\\u003cbr\\u003eindex=%{x}\\u003cbr\\u003evalue=%{y}\\u003cextra\\u003e\\u003c\\u002fextra\\u003e\",\"legendgroup\":\"Train loss k=2\",\"line\":{\"color\":\"#00cc96\",\"dash\":\"solid\"},\"marker\":{\"symbol\":\"circle\"},\"mode\":\"lines\",\"name\":\"Train loss k=2\",\"orientation\":\"v\",\"showlegend\":true,\"x\":[0,1,2,3,4,5,6,7,8,9],\"xaxis\":\"x\",\"y\":[6.365932630456013,6.139168594194495,5.96024989785615,5.7328653424422935,5.476649022250442,5.204552363164677,4.9307744991705285,4.595915724772103,4.286743529835102,3.9354150369300607],\"yaxis\":\"y\",\"type\":\"scatter\"},{\"hovertemplate\":\"variable=Valid loss k=2\\u003cbr\\u003eindex=%{x}\\u003cbr\\u003evalue=%{y}\\u003cextra\\u003e\\u003c\\u002fextra\\u003e\",\"legendgroup\":\"Valid loss k=2\",\"line\":{\"color\":\"#ab63fa\",\"dash\":\"solid\"},\"marker\":{\"symbol\":\"circle\"},\"mode\":\"lines\",\"name\":\"Valid loss k=2\",\"orientation\":\"v\",\"showlegend\":true,\"x\":[0,1,2,3,4,5,6,7,8,9],\"xaxis\":\"x\",\"y\":[6.294512486112291,6.090897926385852,5.868603312450906,5.6251325952833975,5.361653790957686,5.074017455612403,4.764545779297317,4.431470262831536,4.077859930370165,3.709817886352539],\"yaxis\":\"y\",\"type\":\"scatter\"},{\"hovertemplate\":\"variable=Train loss k=4\\u003cbr\\u003eindex=%{x}\\u003cbr\\u003evalue=%{y}\\u003cextra\\u003e\\u003c\\u002fextra\\u003e\",\"legendgroup\":\"Train loss k=4\",\"line\":{\"color\":\"#FFA15A\",\"dash\":\"solid\"},\"marker\":{\"symbol\":\"circle\"},\"mode\":\"lines\",\"name\":\"Train loss k=4\",\"orientation\":\"v\",\"showlegend\":true,\"x\":[0,1,2,3,4,5,6,7,8,9],\"xaxis\":\"x\",\"y\":[6.336286011689938,6.140981406158542,5.885225506302733,5.6049935180948385,5.207858689823506,4.781124024657729,4.263388356807069,3.7097612745273185,3.196504360400372,2.7651798673298047],\"yaxis\":\"y\",\"type\":\"scatter\"},{\"hovertemplate\":\"variable=Valid loss k=4\\u003cbr\\u003eindex=%{x}\\u003cbr\\u003evalue=%{y}\\u003cextra\\u003e\\u003c\\u002fextra\\u003e\",\"legendgroup\":\"Valid loss k=4\",\"line\":{\"color\":\"#19d3f3\",\"dash\":\"solid\"},\"marker\":{\"symbol\":\"circle\"},\"mode\":\"lines\",\"name\":\"Valid loss k=4\",\"orientation\":\"v\",\"showlegend\":true,\"x\":[0,1,2,3,4,5,6,7,8,9],\"xaxis\":\"x\",\"y\":[6.291918892791306,6.061411373857139,5.77722806515901,5.431162122367085,5.018612004708553,4.53338815163875,3.984938977421194,3.4115607220193613,2.90512656474459,2.5361343173013218],\"yaxis\":\"y\",\"type\":\"scatter\"},{\"hovertemplate\":\"variable=Train loss k=8\\u003cbr\\u003eindex=%{x}\\u003cbr\\u003evalue=%{y}\\u003cextra\\u003e\\u003c\\u002fextra\\u003e\",\"legendgroup\":\"Train loss k=8\",\"line\":{\"color\":\"#FF6692\",\"dash\":\"solid\"},\"marker\":{\"symbol\":\"circle\"},\"mode\":\"lines\",\"name\":\"Train loss k=8\",\"orientation\":\"v\",\"showlegend\":true,\"x\":[0,1,2,3,4,5,6,7,8,9],\"xaxis\":\"x\",\"y\":[6.306836871626954,5.9653687032853595,5.53601955034718,4.977975772774738,4.333624697620084,3.542822911872627,2.7801346571549126,2.224734796500354,1.80390733517475,1.4627008530664147],\"yaxis\":\"y\",\"type\":\"scatter\"},{\"hovertemplate\":\"variable=Valid loss k=8\\u003cbr\\u003eindex=%{x}\\u003cbr\\u003evalue=%{y}\\u003cextra\\u003e\\u003c\\u002fextra\\u003e\",\"legendgroup\":\"Valid loss k=8\",\"line\":{\"color\":\"#B6E880\",\"dash\":\"solid\"},\"marker\":{\"symbol\":\"circle\"},\"mode\":\"lines\",\"name\":\"Valid loss k=8\",\"orientation\":\"v\",\"showlegend\":true,\"x\":[0,1,2,3,4,5,6,7,8,9],\"xaxis\":\"x\",\"y\":[6.18499968017357,5.789880130601966,5.289584733437801,4.681996960570847,3.93821912917538,3.11340400101482,2.425767936568329,1.9440776714380237,1.5617630809977434,1.2542294142902761],\"yaxis\":\"y\",\"type\":\"scatter\"},{\"hovertemplate\":\"variable=Train loss k=16\\u003cbr\\u003eindex=%{x}\\u003cbr\\u003evalue=%{y}\\u003cextra\\u003e\\u003c\\u002fextra\\u003e\",\"legendgroup\":\"Train loss k=16\",\"line\":{\"color\":\"#FF97FF\",\"dash\":\"solid\"},\"marker\":{\"symbol\":\"circle\"},\"mode\":\"lines\",\"name\":\"Train loss k=16\",\"orientation\":\"v\",\"showlegend\":true,\"x\":[0,1,2,3,4,5,6,7,8,9],\"xaxis\":\"x\",\"y\":[6.254743744867929,5.810779916573756,5.196110144905422,4.439060156389793,3.5467647913820253,2.690974213321757,2.054623258780248,1.5953637354122185,1.2471962030629935,1.0038524244142615],\"yaxis\":\"y\",\"type\":\"scatter\"},{\"hovertemplate\":\"variable=Valid loss k=16\\u003cbr\\u003eindex=%{x}\\u003cbr\\u003evalue=%{y}\\u003cextra\\u003e\\u003c\\u002fextra\\u003e\",\"legendgroup\":\"Valid loss k=16\",\"line\":{\"color\":\"#FECB52\",\"dash\":\"solid\"},\"marker\":{\"symbol\":\"circle\"},\"mode\":\"lines\",\"name\":\"Valid loss k=16\",\"orientation\":\"v\",\"showlegend\":true,\"x\":[0,1,2,3,4,5,6,7,8,9],\"xaxis\":\"x\",\"y\":[6.103412400121274,5.564411474310833,4.8647298743759375,4.023036815118099,3.0882155860679736,2.300514663475147,1.762006163597107,1.3685266677884087,1.0748184452886167,0.8786413203115049],\"yaxis\":\"y\",\"type\":\"scatter\"},{\"hovertemplate\":\"variable=Train loss k=32\\u003cbr\\u003eindex=%{x}\\u003cbr\\u003evalue=%{y}\\u003cextra\\u003e\\u003c\\u002fextra\\u003e\",\"legendgroup\":\"Train loss k=32\",\"line\":{\"color\":\"#636efa\",\"dash\":\"solid\"},\"marker\":{\"symbol\":\"circle\"},\"mode\":\"lines\",\"name\":\"Train loss k=32\",\"orientation\":\"v\",\"showlegend\":true,\"x\":[0,1,2,3,4,5,6,7,8,9],\"xaxis\":\"x\",\"y\":[6.149990872566744,5.398218159349809,4.399874385099233,3.2414248700467696,2.2112176062897864,1.5833186477607821,1.1510466126181325,0.880995402980295,0.7107814102439407,0.6121852573770914],\"yaxis\":\"y\",\"type\":\"scatter\"},{\"hovertemplate\":\"variable=Valid loss k=32\\u003cbr\\u003eindex=%{x}\\u003cbr\\u003evalue=%{y}\\u003cextra\\u003e\\u003c\\u002fextra\\u003e\",\"legendgroup\":\"Valid loss k=32\",\"line\":{\"color\":\"#EF553B\",\"dash\":\"solid\"},\"marker\":{\"symbol\":\"circle\"},\"mode\":\"lines\",\"name\":\"Valid loss k=32\",\"orientation\":\"v\",\"showlegend\":true,\"x\":[0,1,2,3,4,5,6,7,8,9],\"xaxis\":\"x\",\"y\":[5.862575434256291,4.957952209140943,3.8318101392276045,2.6452715621478315,1.8101741904797761,1.295045390509177,0.9464889687040577,0.7352712763392407,0.6119601039782815,0.5323514510755953],\"yaxis\":\"y\",\"type\":\"scatter\"},{\"hovertemplate\":\"variable=Train loss k=64\\u003cbr\\u003eindex=%{x}\\u003cbr\\u003evalue=%{y}\\u003cextra\\u003e\\u003c\\u002fextra\\u003e\",\"legendgroup\":\"Train loss k=64\",\"line\":{\"color\":\"#00cc96\",\"dash\":\"solid\"},\"marker\":{\"symbol\":\"circle\"},\"mode\":\"lines\",\"name\":\"Train loss k=64\",\"orientation\":\"v\",\"showlegend\":true,\"x\":[0,1,2,3,4,5,6,7,8,9],\"xaxis\":\"x\",\"y\":[6.013855024894572,4.831251394674645,3.259575479519293,1.9309692412429715,1.208170781964841,0.8242946472597419,0.6461657113540247,0.5409136190547706,0.4751108910726464,0.4298338756798217],\"yaxis\":\"y\",\"type\":\"scatter\"},{\"hovertemplate\":\"variable=Valid loss k=64\\u003cbr\\u003eindex=%{x}\\u003cbr\\u003evalue=%{y}\\u003cextra\\u003e\\u003c\\u002fextra\\u003e\",\"legendgroup\":\"Valid loss k=64\",\"line\":{\"color\":\"#ab63fa\",\"dash\":\"solid\"},\"marker\":{\"symbol\":\"circle\"},\"mode\":\"lines\",\"name\":\"Valid loss k=64\",\"orientation\":\"v\",\"showlegend\":true,\"x\":[0,1,2,3,4,5,6,7,8,9],\"xaxis\":\"x\",\"y\":[5.5319037437438965,4.08939072014629,2.422593913216522,1.4593642034392427,0.9218661111334095,0.6717706201733022,0.5466826730880184,0.4698671059332032,0.41464393704697705,0.3737168337987817],\"yaxis\":\"y\",\"type\":\"scatter\"}],                        {\"template\":{\"data\":{\"histogram2dcontour\":[{\"type\":\"histogram2dcontour\",\"colorbar\":{\"outlinewidth\":0,\"ticks\":\"\"},\"colorscale\":[[0.0,\"#0d0887\"],[0.1111111111111111,\"#46039f\"],[0.2222222222222222,\"#7201a8\"],[0.3333333333333333,\"#9c179e\"],[0.4444444444444444,\"#bd3786\"],[0.5555555555555556,\"#d8576b\"],[0.6666666666666666,\"#ed7953\"],[0.7777777777777778,\"#fb9f3a\"],[0.8888888888888888,\"#fdca26\"],[1.0,\"#f0f921\"]]}],\"choropleth\":[{\"type\":\"choropleth\",\"colorbar\":{\"outlinewidth\":0,\"ticks\":\"\"}}],\"histogram2d\":[{\"type\":\"histogram2d\",\"colorbar\":{\"outlinewidth\":0,\"ticks\":\"\"},\"colorscale\":[[0.0,\"#0d0887\"],[0.1111111111111111,\"#46039f\"],[0.2222222222222222,\"#7201a8\"],[0.3333333333333333,\"#9c179e\"],[0.4444444444444444,\"#bd3786\"],[0.5555555555555556,\"#d8576b\"],[0.6666666666666666,\"#ed7953\"],[0.7777777777777778,\"#fb9f3a\"],[0.8888888888888888,\"#fdca26\"],[1.0,\"#f0f921\"]]}],\"heatmap\":[{\"type\":\"heatmap\",\"colorbar\":{\"outlinewidth\":0,\"ticks\":\"\"},\"colorscale\":[[0.0,\"#0d0887\"],[0.1111111111111111,\"#46039f\"],[0.2222222222222222,\"#7201a8\"],[0.3333333333333333,\"#9c179e\"],[0.4444444444444444,\"#bd3786\"],[0.5555555555555556,\"#d8576b\"],[0.6666666666666666,\"#ed7953\"],[0.7777777777777778,\"#fb9f3a\"],[0.8888888888888888,\"#fdca26\"],[1.0,\"#f0f921\"]]}],\"heatmapgl\":[{\"type\":\"heatmapgl\",\"colorbar\":{\"outlinewidth\":0,\"ticks\":\"\"},\"colorscale\":[[0.0,\"#0d0887\"],[0.1111111111111111,\"#46039f\"],[0.2222222222222222,\"#7201a8\"],[0.3333333333333333,\"#9c179e\"],[0.4444444444444444,\"#bd3786\"],[0.5555555555555556,\"#d8576b\"],[0.6666666666666666,\"#ed7953\"],[0.7777777777777778,\"#fb9f3a\"],[0.8888888888888888,\"#fdca26\"],[1.0,\"#f0f921\"]]}],\"contourcarpet\":[{\"type\":\"contourcarpet\",\"colorbar\":{\"outlinewidth\":0,\"ticks\":\"\"}}],\"contour\":[{\"type\":\"contour\",\"colorbar\":{\"outlinewidth\":0,\"ticks\":\"\"},\"colorscale\":[[0.0,\"#0d0887\"],[0.1111111111111111,\"#46039f\"],[0.2222222222222222,\"#7201a8\"],[0.3333333333333333,\"#9c179e\"],[0.4444444444444444,\"#bd3786\"],[0.5555555555555556,\"#d8576b\"],[0.6666666666666666,\"#ed7953\"],[0.7777777777777778,\"#fb9f3a\"],[0.8888888888888888,\"#fdca26\"],[1.0,\"#f0f921\"]]}],\"surface\":[{\"type\":\"surface\",\"colorbar\":{\"outlinewidth\":0,\"ticks\":\"\"},\"colorscale\":[[0.0,\"#0d0887\"],[0.1111111111111111,\"#46039f\"],[0.2222222222222222,\"#7201a8\"],[0.3333333333333333,\"#9c179e\"],[0.4444444444444444,\"#bd3786\"],[0.5555555555555556,\"#d8576b\"],[0.6666666666666666,\"#ed7953\"],[0.7777777777777778,\"#fb9f3a\"],[0.8888888888888888,\"#fdca26\"],[1.0,\"#f0f921\"]]}],\"mesh3d\":[{\"type\":\"mesh3d\",\"colorbar\":{\"outlinewidth\":0,\"ticks\":\"\"}}],\"scatter\":[{\"fillpattern\":{\"fillmode\":\"overlay\",\"size\":10,\"solidity\":0.2},\"type\":\"scatter\"}],\"parcoords\":[{\"type\":\"parcoords\",\"line\":{\"colorbar\":{\"outlinewidth\":0,\"ticks\":\"\"}}}],\"scatterpolargl\":[{\"type\":\"scatterpolargl\",\"marker\":{\"colorbar\":{\"outlinewidth\":0,\"ticks\":\"\"}}}],\"bar\":[{\"error_x\":{\"color\":\"#2a3f5f\"},\"error_y\":{\"color\":\"#2a3f5f\"},\"marker\":{\"line\":{\"color\":\"#E5ECF6\",\"width\":0.5},\"pattern\":{\"fillmode\":\"overlay\",\"size\":10,\"solidity\":0.2}},\"type\":\"bar\"}],\"scattergeo\":[{\"type\":\"scattergeo\",\"marker\":{\"colorbar\":{\"outlinewidth\":0,\"ticks\":\"\"}}}],\"scatterpolar\":[{\"type\":\"scatterpolar\",\"marker\":{\"colorbar\":{\"outlinewidth\":0,\"ticks\":\"\"}}}],\"histogram\":[{\"marker\":{\"pattern\":{\"fillmode\":\"overlay\",\"size\":10,\"solidity\":0.2}},\"type\":\"histogram\"}],\"scattergl\":[{\"type\":\"scattergl\",\"marker\":{\"colorbar\":{\"outlinewidth\":0,\"ticks\":\"\"}}}],\"scatter3d\":[{\"type\":\"scatter3d\",\"line\":{\"colorbar\":{\"outlinewidth\":0,\"ticks\":\"\"}},\"marker\":{\"colorbar\":{\"outlinewidth\":0,\"ticks\":\"\"}}}],\"scattermapbox\":[{\"type\":\"scattermapbox\",\"marker\":{\"colorbar\":{\"outlinewidth\":0,\"ticks\":\"\"}}}],\"scatterternary\":[{\"type\":\"scatterternary\",\"marker\":{\"colorbar\":{\"outlinewidth\":0,\"ticks\":\"\"}}}],\"scattercarpet\":[{\"type\":\"scattercarpet\",\"marker\":{\"colorbar\":{\"outlinewidth\":0,\"ticks\":\"\"}}}],\"carpet\":[{\"aaxis\":{\"endlinecolor\":\"#2a3f5f\",\"gridcolor\":\"white\",\"linecolor\":\"white\",\"minorgridcolor\":\"white\",\"startlinecolor\":\"#2a3f5f\"},\"baxis\":{\"endlinecolor\":\"#2a3f5f\",\"gridcolor\":\"white\",\"linecolor\":\"white\",\"minorgridcolor\":\"white\",\"startlinecolor\":\"#2a3f5f\"},\"type\":\"carpet\"}],\"table\":[{\"cells\":{\"fill\":{\"color\":\"#EBF0F8\"},\"line\":{\"color\":\"white\"}},\"header\":{\"fill\":{\"color\":\"#C8D4E3\"},\"line\":{\"color\":\"white\"}},\"type\":\"table\"}],\"barpolar\":[{\"marker\":{\"line\":{\"color\":\"#E5ECF6\",\"width\":0.5},\"pattern\":{\"fillmode\":\"overlay\",\"size\":10,\"solidity\":0.2}},\"type\":\"barpolar\"}],\"pie\":[{\"automargin\":true,\"type\":\"pie\"}]},\"layout\":{\"autotypenumbers\":\"strict\",\"colorway\":[\"#636efa\",\"#EF553B\",\"#00cc96\",\"#ab63fa\",\"#FFA15A\",\"#19d3f3\",\"#FF6692\",\"#B6E880\",\"#FF97FF\",\"#FECB52\"],\"font\":{\"color\":\"#2a3f5f\"},\"hovermode\":\"closest\",\"hoverlabel\":{\"align\":\"left\"},\"paper_bgcolor\":\"white\",\"plot_bgcolor\":\"#E5ECF6\",\"polar\":{\"bgcolor\":\"#E5ECF6\",\"angularaxis\":{\"gridcolor\":\"white\",\"linecolor\":\"white\",\"ticks\":\"\"},\"radialaxis\":{\"gridcolor\":\"white\",\"linecolor\":\"white\",\"ticks\":\"\"}},\"ternary\":{\"bgcolor\":\"#E5ECF6\",\"aaxis\":{\"gridcolor\":\"white\",\"linecolor\":\"white\",\"ticks\":\"\"},\"baxis\":{\"gridcolor\":\"white\",\"linecolor\":\"white\",\"ticks\":\"\"},\"caxis\":{\"gridcolor\":\"white\",\"linecolor\":\"white\",\"ticks\":\"\"}},\"coloraxis\":{\"colorbar\":{\"outlinewidth\":0,\"ticks\":\"\"}},\"colorscale\":{\"sequential\":[[0.0,\"#0d0887\"],[0.1111111111111111,\"#46039f\"],[0.2222222222222222,\"#7201a8\"],[0.3333333333333333,\"#9c179e\"],[0.4444444444444444,\"#bd3786\"],[0.5555555555555556,\"#d8576b\"],[0.6666666666666666,\"#ed7953\"],[0.7777777777777778,\"#fb9f3a\"],[0.8888888888888888,\"#fdca26\"],[1.0,\"#f0f921\"]],\"sequentialminus\":[[0.0,\"#0d0887\"],[0.1111111111111111,\"#46039f\"],[0.2222222222222222,\"#7201a8\"],[0.3333333333333333,\"#9c179e\"],[0.4444444444444444,\"#bd3786\"],[0.5555555555555556,\"#d8576b\"],[0.6666666666666666,\"#ed7953\"],[0.7777777777777778,\"#fb9f3a\"],[0.8888888888888888,\"#fdca26\"],[1.0,\"#f0f921\"]],\"diverging\":[[0,\"#8e0152\"],[0.1,\"#c51b7d\"],[0.2,\"#de77ae\"],[0.3,\"#f1b6da\"],[0.4,\"#fde0ef\"],[0.5,\"#f7f7f7\"],[0.6,\"#e6f5d0\"],[0.7,\"#b8e186\"],[0.8,\"#7fbc41\"],[0.9,\"#4d9221\"],[1,\"#276419\"]]},\"xaxis\":{\"gridcolor\":\"white\",\"linecolor\":\"white\",\"ticks\":\"\",\"title\":{\"standoff\":15},\"zerolinecolor\":\"white\",\"automargin\":true,\"zerolinewidth\":2},\"yaxis\":{\"gridcolor\":\"white\",\"linecolor\":\"white\",\"ticks\":\"\",\"title\":{\"standoff\":15},\"zerolinecolor\":\"white\",\"automargin\":true,\"zerolinewidth\":2},\"scene\":{\"xaxis\":{\"backgroundcolor\":\"#E5ECF6\",\"gridcolor\":\"white\",\"linecolor\":\"white\",\"showbackground\":true,\"ticks\":\"\",\"zerolinecolor\":\"white\",\"gridwidth\":2},\"yaxis\":{\"backgroundcolor\":\"#E5ECF6\",\"gridcolor\":\"white\",\"linecolor\":\"white\",\"showbackground\":true,\"ticks\":\"\",\"zerolinecolor\":\"white\",\"gridwidth\":2},\"zaxis\":{\"backgroundcolor\":\"#E5ECF6\",\"gridcolor\":\"white\",\"linecolor\":\"white\",\"showbackground\":true,\"ticks\":\"\",\"zerolinecolor\":\"white\",\"gridwidth\":2}},\"shapedefaults\":{\"line\":{\"color\":\"#2a3f5f\"}},\"annotationdefaults\":{\"arrowcolor\":\"#2a3f5f\",\"arrowhead\":0,\"arrowwidth\":1},\"geo\":{\"bgcolor\":\"white\",\"landcolor\":\"#E5ECF6\",\"subunitcolor\":\"white\",\"showland\":true,\"showlakes\":true,\"lakecolor\":\"white\"},\"title\":{\"x\":0.05},\"mapbox\":{\"style\":\"light\"}}},\"xaxis\":{\"anchor\":\"y\",\"domain\":[0.0,1.0],\"title\":{\"text\":\"index\"}},\"yaxis\":{\"anchor\":\"x\",\"domain\":[0.0,1.0],\"title\":{\"text\":\"value\"}},\"legend\":{\"title\":{\"text\":\"variable\"},\"tracegroupgap\":0},\"title\":{\"text\":\"\\u003cb\\u003eLoRa Loss\\u003c\\u002fb\\u003e Train 5-9 \\u003cbr\\u003e 10 epochs\"}},                        {\"responsive\": true}                    ).then(function(){\n",
       "                            \n",
       "var gd = document.getElementById('c6d82f4a-3fe1-4c08-948d-6c10e0bec1d2');\n",
       "var x = new MutationObserver(function (mutations, observer) {{\n",
       "        var display = window.getComputedStyle(gd).display;\n",
       "        if (!display || display === 'none') {{\n",
       "            console.log([gd, 'removed!']);\n",
       "            Plotly.purge(gd);\n",
       "            observer.disconnect();\n",
       "        }}\n",
       "}});\n",
       "\n",
       "// Listen for the removal of the full notebook cells\n",
       "var notebookContainer = gd.closest('#notebook-container');\n",
       "if (notebookContainer) {{\n",
       "    x.observe(notebookContainer, {childList: true});\n",
       "}}\n",
       "\n",
       "// Listen for the clearing of the current output cell\n",
       "var outputEl = gd.closest('.output');\n",
       "if (outputEl) {{\n",
       "    x.observe(outputEl, {childList: true});\n",
       "}}\n",
       "\n",
       "                        })                };                });            </script>        </div>"
      ]
     },
     "metadata": {},
     "output_type": "display_data"
    },
    {
     "data": {
      "application/vnd.plotly.v1+json": {
       "config": {
        "plotlyServerURL": "https://plot.ly"
       },
       "data": [
        {
         "customdata": [
          [
           1
          ],
          [
           2
          ],
          [
           4
          ],
          [
           8
          ],
          [
           16
          ],
          [
           32
          ],
          [
           64
          ]
         ],
         "hovertemplate": "number of parameters=%{x}<br>Accuracy=%{y}<br>Rank=%{customdata[0]}<extra></extra>",
         "legendgroup": "",
         "line": {
          "color": "#636efa",
          "dash": "solid"
         },
         "marker": {
          "symbol": "circle"
         },
         "mode": "lines",
         "name": "",
         "orientation": "v",
         "showlegend": false,
         "type": "scatter",
         "x": [
          6789,
          13578,
          27156,
          54312,
          108624,
          217248,
          434496
         ],
         "xaxis": "x",
         "y": [
          0.416,
          0.443,
          0.495,
          0.681,
          0.757,
          0.852,
          0.895
         ],
         "yaxis": "y"
        }
       ],
       "layout": {
        "autosize": true,
        "legend": {
         "tracegroupgap": 0
        },
        "shapes": [
         {
          "line": {
           "color": "green",
           "dash": "dash"
          },
          "name": "accuracy rétraining on 10 epochs",
          "showlegend": true,
          "type": "line",
          "x0": 0,
          "x1": 1,
          "xref": "x domain",
          "y0": 0.929,
          "y1": 0.929,
          "yref": "y"
         }
        ],
        "template": {
         "data": {
          "bar": [
           {
            "error_x": {
             "color": "#2a3f5f"
            },
            "error_y": {
             "color": "#2a3f5f"
            },
            "marker": {
             "line": {
              "color": "#E5ECF6",
              "width": 0.5
             },
             "pattern": {
              "fillmode": "overlay",
              "size": 10,
              "solidity": 0.2
             }
            },
            "type": "bar"
           }
          ],
          "barpolar": [
           {
            "marker": {
             "line": {
              "color": "#E5ECF6",
              "width": 0.5
             },
             "pattern": {
              "fillmode": "overlay",
              "size": 10,
              "solidity": 0.2
             }
            },
            "type": "barpolar"
           }
          ],
          "carpet": [
           {
            "aaxis": {
             "endlinecolor": "#2a3f5f",
             "gridcolor": "white",
             "linecolor": "white",
             "minorgridcolor": "white",
             "startlinecolor": "#2a3f5f"
            },
            "baxis": {
             "endlinecolor": "#2a3f5f",
             "gridcolor": "white",
             "linecolor": "white",
             "minorgridcolor": "white",
             "startlinecolor": "#2a3f5f"
            },
            "type": "carpet"
           }
          ],
          "choropleth": [
           {
            "colorbar": {
             "outlinewidth": 0,
             "ticks": ""
            },
            "type": "choropleth"
           }
          ],
          "contour": [
           {
            "colorbar": {
             "outlinewidth": 0,
             "ticks": ""
            },
            "colorscale": [
             [
              0,
              "#0d0887"
             ],
             [
              0.1111111111111111,
              "#46039f"
             ],
             [
              0.2222222222222222,
              "#7201a8"
             ],
             [
              0.3333333333333333,
              "#9c179e"
             ],
             [
              0.4444444444444444,
              "#bd3786"
             ],
             [
              0.5555555555555556,
              "#d8576b"
             ],
             [
              0.6666666666666666,
              "#ed7953"
             ],
             [
              0.7777777777777778,
              "#fb9f3a"
             ],
             [
              0.8888888888888888,
              "#fdca26"
             ],
             [
              1,
              "#f0f921"
             ]
            ],
            "type": "contour"
           }
          ],
          "contourcarpet": [
           {
            "colorbar": {
             "outlinewidth": 0,
             "ticks": ""
            },
            "type": "contourcarpet"
           }
          ],
          "heatmap": [
           {
            "colorbar": {
             "outlinewidth": 0,
             "ticks": ""
            },
            "colorscale": [
             [
              0,
              "#0d0887"
             ],
             [
              0.1111111111111111,
              "#46039f"
             ],
             [
              0.2222222222222222,
              "#7201a8"
             ],
             [
              0.3333333333333333,
              "#9c179e"
             ],
             [
              0.4444444444444444,
              "#bd3786"
             ],
             [
              0.5555555555555556,
              "#d8576b"
             ],
             [
              0.6666666666666666,
              "#ed7953"
             ],
             [
              0.7777777777777778,
              "#fb9f3a"
             ],
             [
              0.8888888888888888,
              "#fdca26"
             ],
             [
              1,
              "#f0f921"
             ]
            ],
            "type": "heatmap"
           }
          ],
          "heatmapgl": [
           {
            "colorbar": {
             "outlinewidth": 0,
             "ticks": ""
            },
            "colorscale": [
             [
              0,
              "#0d0887"
             ],
             [
              0.1111111111111111,
              "#46039f"
             ],
             [
              0.2222222222222222,
              "#7201a8"
             ],
             [
              0.3333333333333333,
              "#9c179e"
             ],
             [
              0.4444444444444444,
              "#bd3786"
             ],
             [
              0.5555555555555556,
              "#d8576b"
             ],
             [
              0.6666666666666666,
              "#ed7953"
             ],
             [
              0.7777777777777778,
              "#fb9f3a"
             ],
             [
              0.8888888888888888,
              "#fdca26"
             ],
             [
              1,
              "#f0f921"
             ]
            ],
            "type": "heatmapgl"
           }
          ],
          "histogram": [
           {
            "marker": {
             "pattern": {
              "fillmode": "overlay",
              "size": 10,
              "solidity": 0.2
             }
            },
            "type": "histogram"
           }
          ],
          "histogram2d": [
           {
            "colorbar": {
             "outlinewidth": 0,
             "ticks": ""
            },
            "colorscale": [
             [
              0,
              "#0d0887"
             ],
             [
              0.1111111111111111,
              "#46039f"
             ],
             [
              0.2222222222222222,
              "#7201a8"
             ],
             [
              0.3333333333333333,
              "#9c179e"
             ],
             [
              0.4444444444444444,
              "#bd3786"
             ],
             [
              0.5555555555555556,
              "#d8576b"
             ],
             [
              0.6666666666666666,
              "#ed7953"
             ],
             [
              0.7777777777777778,
              "#fb9f3a"
             ],
             [
              0.8888888888888888,
              "#fdca26"
             ],
             [
              1,
              "#f0f921"
             ]
            ],
            "type": "histogram2d"
           }
          ],
          "histogram2dcontour": [
           {
            "colorbar": {
             "outlinewidth": 0,
             "ticks": ""
            },
            "colorscale": [
             [
              0,
              "#0d0887"
             ],
             [
              0.1111111111111111,
              "#46039f"
             ],
             [
              0.2222222222222222,
              "#7201a8"
             ],
             [
              0.3333333333333333,
              "#9c179e"
             ],
             [
              0.4444444444444444,
              "#bd3786"
             ],
             [
              0.5555555555555556,
              "#d8576b"
             ],
             [
              0.6666666666666666,
              "#ed7953"
             ],
             [
              0.7777777777777778,
              "#fb9f3a"
             ],
             [
              0.8888888888888888,
              "#fdca26"
             ],
             [
              1,
              "#f0f921"
             ]
            ],
            "type": "histogram2dcontour"
           }
          ],
          "mesh3d": [
           {
            "colorbar": {
             "outlinewidth": 0,
             "ticks": ""
            },
            "type": "mesh3d"
           }
          ],
          "parcoords": [
           {
            "line": {
             "colorbar": {
              "outlinewidth": 0,
              "ticks": ""
             }
            },
            "type": "parcoords"
           }
          ],
          "pie": [
           {
            "automargin": true,
            "type": "pie"
           }
          ],
          "scatter": [
           {
            "fillpattern": {
             "fillmode": "overlay",
             "size": 10,
             "solidity": 0.2
            },
            "type": "scatter"
           }
          ],
          "scatter3d": [
           {
            "line": {
             "colorbar": {
              "outlinewidth": 0,
              "ticks": ""
             }
            },
            "marker": {
             "colorbar": {
              "outlinewidth": 0,
              "ticks": ""
             }
            },
            "type": "scatter3d"
           }
          ],
          "scattercarpet": [
           {
            "marker": {
             "colorbar": {
              "outlinewidth": 0,
              "ticks": ""
             }
            },
            "type": "scattercarpet"
           }
          ],
          "scattergeo": [
           {
            "marker": {
             "colorbar": {
              "outlinewidth": 0,
              "ticks": ""
             }
            },
            "type": "scattergeo"
           }
          ],
          "scattergl": [
           {
            "marker": {
             "colorbar": {
              "outlinewidth": 0,
              "ticks": ""
             }
            },
            "type": "scattergl"
           }
          ],
          "scattermapbox": [
           {
            "marker": {
             "colorbar": {
              "outlinewidth": 0,
              "ticks": ""
             }
            },
            "type": "scattermapbox"
           }
          ],
          "scatterpolar": [
           {
            "marker": {
             "colorbar": {
              "outlinewidth": 0,
              "ticks": ""
             }
            },
            "type": "scatterpolar"
           }
          ],
          "scatterpolargl": [
           {
            "marker": {
             "colorbar": {
              "outlinewidth": 0,
              "ticks": ""
             }
            },
            "type": "scatterpolargl"
           }
          ],
          "scatterternary": [
           {
            "marker": {
             "colorbar": {
              "outlinewidth": 0,
              "ticks": ""
             }
            },
            "type": "scatterternary"
           }
          ],
          "surface": [
           {
            "colorbar": {
             "outlinewidth": 0,
             "ticks": ""
            },
            "colorscale": [
             [
              0,
              "#0d0887"
             ],
             [
              0.1111111111111111,
              "#46039f"
             ],
             [
              0.2222222222222222,
              "#7201a8"
             ],
             [
              0.3333333333333333,
              "#9c179e"
             ],
             [
              0.4444444444444444,
              "#bd3786"
             ],
             [
              0.5555555555555556,
              "#d8576b"
             ],
             [
              0.6666666666666666,
              "#ed7953"
             ],
             [
              0.7777777777777778,
              "#fb9f3a"
             ],
             [
              0.8888888888888888,
              "#fdca26"
             ],
             [
              1,
              "#f0f921"
             ]
            ],
            "type": "surface"
           }
          ],
          "table": [
           {
            "cells": {
             "fill": {
              "color": "#EBF0F8"
             },
             "line": {
              "color": "white"
             }
            },
            "header": {
             "fill": {
              "color": "#C8D4E3"
             },
             "line": {
              "color": "white"
             }
            },
            "type": "table"
           }
          ]
         },
         "layout": {
          "annotationdefaults": {
           "arrowcolor": "#2a3f5f",
           "arrowhead": 0,
           "arrowwidth": 1
          },
          "autotypenumbers": "strict",
          "coloraxis": {
           "colorbar": {
            "outlinewidth": 0,
            "ticks": ""
           }
          },
          "colorscale": {
           "diverging": [
            [
             0,
             "#8e0152"
            ],
            [
             0.1,
             "#c51b7d"
            ],
            [
             0.2,
             "#de77ae"
            ],
            [
             0.3,
             "#f1b6da"
            ],
            [
             0.4,
             "#fde0ef"
            ],
            [
             0.5,
             "#f7f7f7"
            ],
            [
             0.6,
             "#e6f5d0"
            ],
            [
             0.7,
             "#b8e186"
            ],
            [
             0.8,
             "#7fbc41"
            ],
            [
             0.9,
             "#4d9221"
            ],
            [
             1,
             "#276419"
            ]
           ],
           "sequential": [
            [
             0,
             "#0d0887"
            ],
            [
             0.1111111111111111,
             "#46039f"
            ],
            [
             0.2222222222222222,
             "#7201a8"
            ],
            [
             0.3333333333333333,
             "#9c179e"
            ],
            [
             0.4444444444444444,
             "#bd3786"
            ],
            [
             0.5555555555555556,
             "#d8576b"
            ],
            [
             0.6666666666666666,
             "#ed7953"
            ],
            [
             0.7777777777777778,
             "#fb9f3a"
            ],
            [
             0.8888888888888888,
             "#fdca26"
            ],
            [
             1,
             "#f0f921"
            ]
           ],
           "sequentialminus": [
            [
             0,
             "#0d0887"
            ],
            [
             0.1111111111111111,
             "#46039f"
            ],
            [
             0.2222222222222222,
             "#7201a8"
            ],
            [
             0.3333333333333333,
             "#9c179e"
            ],
            [
             0.4444444444444444,
             "#bd3786"
            ],
            [
             0.5555555555555556,
             "#d8576b"
            ],
            [
             0.6666666666666666,
             "#ed7953"
            ],
            [
             0.7777777777777778,
             "#fb9f3a"
            ],
            [
             0.8888888888888888,
             "#fdca26"
            ],
            [
             1,
             "#f0f921"
            ]
           ]
          },
          "colorway": [
           "#636efa",
           "#EF553B",
           "#00cc96",
           "#ab63fa",
           "#FFA15A",
           "#19d3f3",
           "#FF6692",
           "#B6E880",
           "#FF97FF",
           "#FECB52"
          ],
          "font": {
           "color": "#2a3f5f"
          },
          "geo": {
           "bgcolor": "white",
           "lakecolor": "white",
           "landcolor": "#E5ECF6",
           "showlakes": true,
           "showland": true,
           "subunitcolor": "white"
          },
          "hoverlabel": {
           "align": "left"
          },
          "hovermode": "closest",
          "mapbox": {
           "style": "light"
          },
          "paper_bgcolor": "white",
          "plot_bgcolor": "#E5ECF6",
          "polar": {
           "angularaxis": {
            "gridcolor": "white",
            "linecolor": "white",
            "ticks": ""
           },
           "bgcolor": "#E5ECF6",
           "radialaxis": {
            "gridcolor": "white",
            "linecolor": "white",
            "ticks": ""
           }
          },
          "scene": {
           "xaxis": {
            "backgroundcolor": "#E5ECF6",
            "gridcolor": "white",
            "gridwidth": 2,
            "linecolor": "white",
            "showbackground": true,
            "ticks": "",
            "zerolinecolor": "white"
           },
           "yaxis": {
            "backgroundcolor": "#E5ECF6",
            "gridcolor": "white",
            "gridwidth": 2,
            "linecolor": "white",
            "showbackground": true,
            "ticks": "",
            "zerolinecolor": "white"
           },
           "zaxis": {
            "backgroundcolor": "#E5ECF6",
            "gridcolor": "white",
            "gridwidth": 2,
            "linecolor": "white",
            "showbackground": true,
            "ticks": "",
            "zerolinecolor": "white"
           }
          },
          "shapedefaults": {
           "line": {
            "color": "#2a3f5f"
           }
          },
          "ternary": {
           "aaxis": {
            "gridcolor": "white",
            "linecolor": "white",
            "ticks": ""
           },
           "baxis": {
            "gridcolor": "white",
            "linecolor": "white",
            "ticks": ""
           },
           "bgcolor": "#E5ECF6",
           "caxis": {
            "gridcolor": "white",
            "linecolor": "white",
            "ticks": ""
           }
          },
          "title": {
           "x": 0.05
          },
          "xaxis": {
           "automargin": true,
           "gridcolor": "white",
           "linecolor": "white",
           "ticks": "",
           "title": {
            "standoff": 15
           },
           "zerolinecolor": "white",
           "zerolinewidth": 2
          },
          "yaxis": {
           "automargin": true,
           "gridcolor": "white",
           "linecolor": "white",
           "ticks": "",
           "title": {
            "standoff": 15
           },
           "zerolinecolor": "white",
           "zerolinewidth": 2
          }
         }
        },
        "title": {
         "text": "<b>LoRa Accuracy</b> Test 5-9 <br> 10 epochs"
        },
        "xaxis": {
         "anchor": "y",
         "autorange": true,
         "domain": [
          0,
          1
         ],
         "range": [
          3.8318058086743907,
          5.637985782658278
         ],
         "title": {
          "text": "number of parameters"
         },
         "type": "log"
        },
        "yaxis": {
         "anchor": "x",
         "autorange": true,
         "domain": [
          0,
          1
         ],
         "range": [
          0.3888411764705882,
          0.9320176470588236
         ],
         "title": {
          "text": "Accuracy"
         },
         "type": "linear"
        }
       }
      },
      "image/png": "[encoded data removed]",
      "text/html": [
       "<div>                            <div id=\"1efc2b59-b576-41ef-9740-2d2ba9ce7493\" class=\"plotly-graph-div\" style=\"height:525px; width:100%;\"></div>            <script type=\"text/javascript\">                require([\"plotly\"], function(Plotly) {                    window.PLOTLYENV=window.PLOTLYENV || {};                                    if (document.getElementById(\"1efc2b59-b576-41ef-9740-2d2ba9ce7493\")) {                    Plotly.newPlot(                        \"1efc2b59-b576-41ef-9740-2d2ba9ce7493\",                        [{\"customdata\":[[1],[2],[4],[8],[16],[32],[64]],\"hovertemplate\":\"number of parameters=%{x}\\u003cbr\\u003eAccuracy=%{y}\\u003cbr\\u003eRank=%{customdata[0]}\\u003cextra\\u003e\\u003c\\u002fextra\\u003e\",\"legendgroup\":\"\",\"line\":{\"color\":\"#636efa\",\"dash\":\"solid\"},\"marker\":{\"symbol\":\"circle\"},\"mode\":\"lines\",\"name\":\"\",\"orientation\":\"v\",\"showlegend\":false,\"x\":[6789,13578,27156,54312,108624,217248,434496],\"xaxis\":\"x\",\"y\":[0.416,0.443,0.495,0.681,0.757,0.852,0.895],\"yaxis\":\"y\",\"type\":\"scatter\"}],                        {\"template\":{\"data\":{\"histogram2dcontour\":[{\"type\":\"histogram2dcontour\",\"colorbar\":{\"outlinewidth\":0,\"ticks\":\"\"},\"colorscale\":[[0.0,\"#0d0887\"],[0.1111111111111111,\"#46039f\"],[0.2222222222222222,\"#7201a8\"],[0.3333333333333333,\"#9c179e\"],[0.4444444444444444,\"#bd3786\"],[0.5555555555555556,\"#d8576b\"],[0.6666666666666666,\"#ed7953\"],[0.7777777777777778,\"#fb9f3a\"],[0.8888888888888888,\"#fdca26\"],[1.0,\"#f0f921\"]]}],\"choropleth\":[{\"type\":\"choropleth\",\"colorbar\":{\"outlinewidth\":0,\"ticks\":\"\"}}],\"histogram2d\":[{\"type\":\"histogram2d\",\"colorbar\":{\"outlinewidth\":0,\"ticks\":\"\"},\"colorscale\":[[0.0,\"#0d0887\"],[0.1111111111111111,\"#46039f\"],[0.2222222222222222,\"#7201a8\"],[0.3333333333333333,\"#9c179e\"],[0.4444444444444444,\"#bd3786\"],[0.5555555555555556,\"#d8576b\"],[0.6666666666666666,\"#ed7953\"],[0.7777777777777778,\"#fb9f3a\"],[0.8888888888888888,\"#fdca26\"],[1.0,\"#f0f921\"]]}],\"heatmap\":[{\"type\":\"heatmap\",\"colorbar\":{\"outlinewidth\":0,\"ticks\":\"\"},\"colorscale\":[[0.0,\"#0d0887\"],[0.1111111111111111,\"#46039f\"],[0.2222222222222222,\"#7201a8\"],[0.3333333333333333,\"#9c179e\"],[0.4444444444444444,\"#bd3786\"],[0.5555555555555556,\"#d8576b\"],[0.6666666666666666,\"#ed7953\"],[0.7777777777777778,\"#fb9f3a\"],[0.8888888888888888,\"#fdca26\"],[1.0,\"#f0f921\"]]}],\"heatmapgl\":[{\"type\":\"heatmapgl\",\"colorbar\":{\"outlinewidth\":0,\"ticks\":\"\"},\"colorscale\":[[0.0,\"#0d0887\"],[0.1111111111111111,\"#46039f\"],[0.2222222222222222,\"#7201a8\"],[0.3333333333333333,\"#9c179e\"],[0.4444444444444444,\"#bd3786\"],[0.5555555555555556,\"#d8576b\"],[0.6666666666666666,\"#ed7953\"],[0.7777777777777778,\"#fb9f3a\"],[0.8888888888888888,\"#fdca26\"],[1.0,\"#f0f921\"]]}],\"contourcarpet\":[{\"type\":\"contourcarpet\",\"colorbar\":{\"outlinewidth\":0,\"ticks\":\"\"}}],\"contour\":[{\"type\":\"contour\",\"colorbar\":{\"outlinewidth\":0,\"ticks\":\"\"},\"colorscale\":[[0.0,\"#0d0887\"],[0.1111111111111111,\"#46039f\"],[0.2222222222222222,\"#7201a8\"],[0.3333333333333333,\"#9c179e\"],[0.4444444444444444,\"#bd3786\"],[0.5555555555555556,\"#d8576b\"],[0.6666666666666666,\"#ed7953\"],[0.7777777777777778,\"#fb9f3a\"],[0.8888888888888888,\"#fdca26\"],[1.0,\"#f0f921\"]]}],\"surface\":[{\"type\":\"surface\",\"colorbar\":{\"outlinewidth\":0,\"ticks\":\"\"},\"colorscale\":[[0.0,\"#0d0887\"],[0.1111111111111111,\"#46039f\"],[0.2222222222222222,\"#7201a8\"],[0.3333333333333333,\"#9c179e\"],[0.4444444444444444,\"#bd3786\"],[0.5555555555555556,\"#d8576b\"],[0.6666666666666666,\"#ed7953\"],[0.7777777777777778,\"#fb9f3a\"],[0.8888888888888888,\"#fdca26\"],[1.0,\"#f0f921\"]]}],\"mesh3d\":[{\"type\":\"mesh3d\",\"colorbar\":{\"outlinewidth\":0,\"ticks\":\"\"}}],\"scatter\":[{\"fillpattern\":{\"fillmode\":\"overlay\",\"size\":10,\"solidity\":0.2},\"type\":\"scatter\"}],\"parcoords\":[{\"type\":\"parcoords\",\"line\":{\"colorbar\":{\"outlinewidth\":0,\"ticks\":\"\"}}}],\"scatterpolargl\":[{\"type\":\"scatterpolargl\",\"marker\":{\"colorbar\":{\"outlinewidth\":0,\"ticks\":\"\"}}}],\"bar\":[{\"error_x\":{\"color\":\"#2a3f5f\"},\"error_y\":{\"color\":\"#2a3f5f\"},\"marker\":{\"line\":{\"color\":\"#E5ECF6\",\"width\":0.5},\"pattern\":{\"fillmode\":\"overlay\",\"size\":10,\"solidity\":0.2}},\"type\":\"bar\"}],\"scattergeo\":[{\"type\":\"scattergeo\",\"marker\":{\"colorbar\":{\"outlinewidth\":0,\"ticks\":\"\"}}}],\"scatterpolar\":[{\"type\":\"scatterpolar\",\"marker\":{\"colorbar\":{\"outlinewidth\":0,\"ticks\":\"\"}}}],\"histogram\":[{\"marker\":{\"pattern\":{\"fillmode\":\"overlay\",\"size\":10,\"solidity\":0.2}},\"type\":\"histogram\"}],\"scattergl\":[{\"type\":\"scattergl\",\"marker\":{\"colorbar\":{\"outlinewidth\":0,\"ticks\":\"\"}}}],\"scatter3d\":[{\"type\":\"scatter3d\",\"line\":{\"colorbar\":{\"outlinewidth\":0,\"ticks\":\"\"}},\"marker\":{\"colorbar\":{\"outlinewidth\":0,\"ticks\":\"\"}}}],\"scattermapbox\":[{\"type\":\"scattermapbox\",\"marker\":{\"colorbar\":{\"outlinewidth\":0,\"ticks\":\"\"}}}],\"scatterternary\":[{\"type\":\"scatterternary\",\"marker\":{\"colorbar\":{\"outlinewidth\":0,\"ticks\":\"\"}}}],\"scattercarpet\":[{\"type\":\"scattercarpet\",\"marker\":{\"colorbar\":{\"outlinewidth\":0,\"ticks\":\"\"}}}],\"carpet\":[{\"aaxis\":{\"endlinecolor\":\"#2a3f5f\",\"gridcolor\":\"white\",\"linecolor\":\"white\",\"minorgridcolor\":\"white\",\"startlinecolor\":\"#2a3f5f\"},\"baxis\":{\"endlinecolor\":\"#2a3f5f\",\"gridcolor\":\"white\",\"linecolor\":\"white\",\"minorgridcolor\":\"white\",\"startlinecolor\":\"#2a3f5f\"},\"type\":\"carpet\"}],\"table\":[{\"cells\":{\"fill\":{\"color\":\"#EBF0F8\"},\"line\":{\"color\":\"white\"}},\"header\":{\"fill\":{\"color\":\"#C8D4E3\"},\"line\":{\"color\":\"white\"}},\"type\":\"table\"}],\"barpolar\":[{\"marker\":{\"line\":{\"color\":\"#E5ECF6\",\"width\":0.5},\"pattern\":{\"fillmode\":\"overlay\",\"size\":10,\"solidity\":0.2}},\"type\":\"barpolar\"}],\"pie\":[{\"automargin\":true,\"type\":\"pie\"}]},\"layout\":{\"autotypenumbers\":\"strict\",\"colorway\":[\"#636efa\",\"#EF553B\",\"#00cc96\",\"#ab63fa\",\"#FFA15A\",\"#19d3f3\",\"#FF6692\",\"#B6E880\",\"#FF97FF\",\"#FECB52\"],\"font\":{\"color\":\"#2a3f5f\"},\"hovermode\":\"closest\",\"hoverlabel\":{\"align\":\"left\"},\"paper_bgcolor\":\"white\",\"plot_bgcolor\":\"#E5ECF6\",\"polar\":{\"bgcolor\":\"#E5ECF6\",\"angularaxis\":{\"gridcolor\":\"white\",\"linecolor\":\"white\",\"ticks\":\"\"},\"radialaxis\":{\"gridcolor\":\"white\",\"linecolor\":\"white\",\"ticks\":\"\"}},\"ternary\":{\"bgcolor\":\"#E5ECF6\",\"aaxis\":{\"gridcolor\":\"white\",\"linecolor\":\"white\",\"ticks\":\"\"},\"baxis\":{\"gridcolor\":\"white\",\"linecolor\":\"white\",\"ticks\":\"\"},\"caxis\":{\"gridcolor\":\"white\",\"linecolor\":\"white\",\"ticks\":\"\"}},\"coloraxis\":{\"colorbar\":{\"outlinewidth\":0,\"ticks\":\"\"}},\"colorscale\":{\"sequential\":[[0.0,\"#0d0887\"],[0.1111111111111111,\"#46039f\"],[0.2222222222222222,\"#7201a8\"],[0.3333333333333333,\"#9c179e\"],[0.4444444444444444,\"#bd3786\"],[0.5555555555555556,\"#d8576b\"],[0.6666666666666666,\"#ed7953\"],[0.7777777777777778,\"#fb9f3a\"],[0.8888888888888888,\"#fdca26\"],[1.0,\"#f0f921\"]],\"sequentialminus\":[[0.0,\"#0d0887\"],[0.1111111111111111,\"#46039f\"],[0.2222222222222222,\"#7201a8\"],[0.3333333333333333,\"#9c179e\"],[0.4444444444444444,\"#bd3786\"],[0.5555555555555556,\"#d8576b\"],[0.6666666666666666,\"#ed7953\"],[0.7777777777777778,\"#fb9f3a\"],[0.8888888888888888,\"#fdca26\"],[1.0,\"#f0f921\"]],\"diverging\":[[0,\"#8e0152\"],[0.1,\"#c51b7d\"],[0.2,\"#de77ae\"],[0.3,\"#f1b6da\"],[0.4,\"#fde0ef\"],[0.5,\"#f7f7f7\"],[0.6,\"#e6f5d0\"],[0.7,\"#b8e186\"],[0.8,\"#7fbc41\"],[0.9,\"#4d9221\"],[1,\"#276419\"]]},\"xaxis\":{\"gridcolor\":\"white\",\"linecolor\":\"white\",\"ticks\":\"\",\"title\":{\"standoff\":15},\"zerolinecolor\":\"white\",\"automargin\":true,\"zerolinewidth\":2},\"yaxis\":{\"gridcolor\":\"white\",\"linecolor\":\"white\",\"ticks\":\"\",\"title\":{\"standoff\":15},\"zerolinecolor\":\"white\",\"automargin\":true,\"zerolinewidth\":2},\"scene\":{\"xaxis\":{\"backgroundcolor\":\"#E5ECF6\",\"gridcolor\":\"white\",\"linecolor\":\"white\",\"showbackground\":true,\"ticks\":\"\",\"zerolinecolor\":\"white\",\"gridwidth\":2},\"yaxis\":{\"backgroundcolor\":\"#E5ECF6\",\"gridcolor\":\"white\",\"linecolor\":\"white\",\"showbackground\":true,\"ticks\":\"\",\"zerolinecolor\":\"white\",\"gridwidth\":2},\"zaxis\":{\"backgroundcolor\":\"#E5ECF6\",\"gridcolor\":\"white\",\"linecolor\":\"white\",\"showbackground\":true,\"ticks\":\"\",\"zerolinecolor\":\"white\",\"gridwidth\":2}},\"shapedefaults\":{\"line\":{\"color\":\"#2a3f5f\"}},\"annotationdefaults\":{\"arrowcolor\":\"#2a3f5f\",\"arrowhead\":0,\"arrowwidth\":1},\"geo\":{\"bgcolor\":\"white\",\"landcolor\":\"#E5ECF6\",\"subunitcolor\":\"white\",\"showland\":true,\"showlakes\":true,\"lakecolor\":\"white\"},\"title\":{\"x\":0.05},\"mapbox\":{\"style\":\"light\"}}},\"xaxis\":{\"anchor\":\"y\",\"domain\":[0.0,1.0],\"title\":{\"text\":\"number of parameters\"},\"type\":\"log\"},\"yaxis\":{\"anchor\":\"x\",\"domain\":[0.0,1.0],\"title\":{\"text\":\"Accuracy\"}},\"legend\":{\"tracegroupgap\":0},\"title\":{\"text\":\"\\u003cb\\u003eLoRa Accuracy\\u003c\\u002fb\\u003e Test 5-9 \\u003cbr\\u003e 10 epochs\"},\"shapes\":[{\"line\":{\"color\":\"green\",\"dash\":\"dash\"},\"name\":\"accuracy r\\u00e9training on 10 epochs\",\"showlegend\":true,\"type\":\"line\",\"x0\":0,\"x1\":1,\"xref\":\"x domain\",\"y0\":0.929,\"y1\":0.929,\"yref\":\"y\"}]},                        {\"responsive\": true}                    ).then(function(){\n",
       "                            \n",
       "var gd = document.getElementById('1efc2b59-b576-41ef-9740-2d2ba9ce7493');\n",
       "var x = new MutationObserver(function (mutations, observer) {{\n",
       "        var display = window.getComputedStyle(gd).display;\n",
       "        if (!display || display === 'none') {{\n",
       "            console.log([gd, 'removed!']);\n",
       "            Plotly.purge(gd);\n",
       "            observer.disconnect();\n",
       "        }}\n",
       "}});\n",
       "\n",
       "// Listen for the removal of the full notebook cells\n",
       "var notebookContainer = gd.closest('#notebook-container');\n",
       "if (notebookContainer) {{\n",
       "    x.observe(notebookContainer, {childList: true});\n",
       "}}\n",
       "\n",
       "// Listen for the clearing of the current output cell\n",
       "var outputEl = gd.closest('.output');\n",
       "if (outputEl) {{\n",
       "    x.observe(outputEl, {childList: true});\n",
       "}}\n",
       "\n",
       "                        })                };                });            </script>        </div>"
      ]
     },
     "metadata": {},
     "output_type": "display_data"
    }
   ],
   "source": [
    "################\n",
    "# Script plots #\n",
    "################\n",
    "\n",
    "px.line(df_loss, title = \"<b>LoRa Loss</b> Train 5-9 <br> 10 epochs\").show()\n",
    "px.line(\n",
    "        df_score, \n",
    "        x = \"number of parameters\", \n",
    "        y = \"Accuracy\",  \n",
    "        title = \"<b>LoRa Accuracy</b> Test 5-9 <br> 10 epochs\",\n",
    "        hover_data=[\"number of parameters\", \"Accuracy\", \"Rank\"],\n",
    "        log_x=True\n",
    "    ).add_hline(\n",
    "        y=score_10epoch, \n",
    "        line_dash=\"dash\", \n",
    "        line_color=\"green\",\n",
    "        name='accuracy rétraining on 10 epochs',\n",
    "        showlegend=True\n",
    "    ).show()"
   ]
  },
  {
   "cell_type": "markdown",
   "id": "9f884619-de1a-4b3c-b7af-f2f8d603a437",
   "metadata": {},
   "source": [
    "Comme attendu, le rang contrôle le nombre de paramètres, donc l'expressivité du modèle, ce qui conduit à des pertes de performances plus ou moins grandes, en comparaison à un réentrainement du modèle initial (en vert ci dessus). Cependant, on rappelle que ce niveau de précision est atteint avec un réentrainement de 10 epochs sur 2,797,005 paramètres, ce qui est largement plus grand que le modèle à r=64 qui contient 434k paramètres et qui frole déjà les 0.9 d'accuracy. Le 'manifold hypothesis' de l'espace des paramètres est ici vérifié et une base locale à 8 dimensions laisse déjà suffisament de liberté au modèle pour s'adapter à la nouvelle classification, et avoir des performances correctes. On observe aussi que plus le rang est faible et plus le temps d'entraînement est long pour obtenir de bonnes performances, et ce faisant, le choix du rang doit se faire conjointement au nombre d'epochs. Le gain en précision n'est pas très éloigné d'une croissance logarithmique en le nombre de paramètres, il y a ainsi un tread off à faire entre le coût computationnel de réentrainement et les performances. Au vu des impactes envirronnementaux des entraînements de depp learning, LoRa est une méthode qui devrait être davantage enseignée et s'incrit dans le paradygme du \"Frugal Machine Learning\". Certes, ce n'est pas conseillé de l'utiliser pour des taches de précision (aide au diagnostique médical, détection de feu de forêt ...) mais pour des taches de classification à fort volumes et peu risquée (détection de Spam, étude marketing ...) cela offre un levier de réduction de coût très intéressant!"
   ]
  }
 ],
 "metadata": {
  "kernelspec": {
   "display_name": "Python 3 (ipykernel)",
   "language": "python",
   "name": "python3"
  },
  "kfiletag": "mS2TS6PvgIgF",
  "language_info": {
   "codemirror_mode": {
    "name": "ipython",
    "version": 3
   },
   "file_extension": ".py",
   "mimetype": "text/x-python",
   "name": "python",
   "nbconvert_exporter": "python",
   "pygments_lexer": "ipython3",
   "version": "3.9.18"
  }
 },
 "nbformat": 4,
 "nbformat_minor": 5
}
