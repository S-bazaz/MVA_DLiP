{
 "cells": [
  {
   "cell_type": "markdown",
   "metadata": {
    "cell_ktag": "YJ9dDNjUhiMN"
   },
   "source": [
    "# Generative modelling in deep learning\n",
    "\n",
    "### Students : \n",
    "\n",
    "- Reymond Mathis \n",
    "- Bazaz Samuel\n",
    "\n",
    "### Choosen models:\n",
    "\n",
    "- VAE\n",
    "- Diffusion models"
   ]
  },
  {
   "cell_type": "markdown",
   "metadata": {
    "cell_ktag": "YJ9dDNjUhiMN"
   },
   "source": [
    "*This notebook consists of common introductory questions, followed by 4 different generative models, and a common conclusive question. **Choose & implement 2 among the 4 models**, not all of them! If you train more models, write down below the 2 ones you want to be graded on. Do not forget the last common question.*"
   ]
  },
  {
   "cell_type": "markdown",
   "metadata": {
    "cell_ktag": "YJ9dDNjUhiMN"
   },
   "source": [
    "Generative modelling in machine learning can aim at achieving different goals.\n",
    "\n",
    "The first, obvious one is that a generative model can be used to generate more data, to be used afterwards by another algorithm. While a generative model cannot create more information to solve the issue of having too small datasets, it could be used to solve anonymity questions. Typically, sharing a generative model trained on private data could allow the exploitation of the statistical property of this data without sharing the data itself (which can be protected by privacy matters for example).\n",
    "\n",
    "Another goal is to use generative modelling to better understand the data at hand. This is based on the hypothesis that a model that successfully learned to generate (and generalize) a dataset should have internally learned some efficient and compressed representation of the information contained in the data. In this case, analysing a posteriori the learned representation may give us insights on the data itself.\n",
    "\n",
    "The notion of a generative model however needs to be more formally specified, in order to work with. What does it mean for the model to generate data that \"looks like\" the original dataset? A mathematical formulation of that is necessary, in order to define a training objective that can be used efficiently. Having some expert rate the quality of all generated datapoints one by one is definitely not an option.\n",
    "\n",
    "Thus, modelling our data and models as probability distributions comes to the rescue. If we consider our data as coming from some underlying probability distribution, that we will name $p_D$, our goal is thus to train our model to represent another probability distribution, which we will name $p_\\theta$, that should be some good approximation of $p_D$. Given that we only know $p_D$ through some set of realisations from it (the dataset), we can never hope to learn it exactly."
   ]
  },
  {
   "cell_type": "markdown",
   "metadata": {
    "cell_ktag": "YJ9dDNjUhiMN"
   },
   "source": [
    "**Q1: Can you name some metrics that can be used to compare two given distributions $p_D$ and $p_\\theta$?**"
   ]
  },
  {
   "cell_type": "markdown",
   "metadata": {
    "cell_ktag": "YJ9dDNjUhiMN"
   },
   "source": [
    "The stakes behind model callibration prompted statisticians, and later data scientists, to introduce a number of metrics for comparing distributions. The work of Fisher and his maximum likelihood methodology made the use of **Kullback Leibner divergence** ubiquitous: \r\n",
    "$$\n",
    "D_{KL}(p || q) =\n",
    "\\int\n",
    "p(x) log\n",
    "\\frac{p(x)}{q(x)}\n",
    "dx\n",
    "$$<br>\n",
    "\n",
    "This divergence is used in all Bayesian approaches, in particular Bayesian networks such as VAE.\n",
    "Then, there exists a symmetrical version of KL divergence known as the **Jenshen Shannon divergence** used in particular for GANs.\n",
    "\n",
    "$$\n",
    "D_{JS}(p || q) = \\frac{1}{2} D_{KL}(p || q) + \\frac{1}{2} D_{KL}(q || p)\n",
    "$$\n",
    "\n",
    "Other approaches were then invented with the aim of minimizing transport costs. The optimal transport literature introduces with the **Sinkhorn divergence** a whole continuum metrics between the  **Maximum Mean discreapancy** and the **Wassertein distance**. Since the Wassertein distance can be constructed with any notion of cost, we understand how this field leaves a wide range of choices for distribution comparison. The point is to find more natural metrics for the object under consideration, so that interpolation and barycentration make sense: the average of two faces should respect the structure of what a face is. \n",
    "\n",
    "In reality, optimal transport metrics are special cases of **geodesic distance**, and a wider variety of metrics can be constructed by Hamiltonian equation integration, with LDDMM approaches for example. However, the high cost of these methods restricts their application to low-dimensional problems. Finally, we can add stochasticity to the flow equations, which offers a range of possibilities widely exploited by diffusion models, which takes advantage of mathematical results on Gaussian processes to simplify calculations.r>"
   ]
  },
  {
   "cell_type": "markdown",
   "metadata": {
    "cell_ktag": "YJ9dDNjUhiMN"
   },
   "source": [
    "Most comparison methods can be separated into two kinds: those that compare the density of the distributions ($p_\\theta(x)$ vs $p_D(x)$), and those that compare the values sampled from them. These two kinds of approaches have different behavior and trade-offs."
   ]
  },
  {
   "cell_type": "markdown",
   "metadata": {
    "cell_ktag": "YJ9dDNjUhiMN"
   },
   "source": [
    "**Q2: Given we want to use them as an optimisation objective, what are the caveats to keep in mind about these two kinds?**"
   ]
  },
  {
   "cell_type": "markdown",
   "metadata": {
    "cell_ktag": "YJ9dDNjUhiMN"
   },
   "source": [
    "As long as the dimension is not too large and we restrict ourselves to a certain probabilistic modeling, the density approach offers an inexpensive way to have a representative generation.\n",
    "\n",
    "Alas, the probability density is not always explicit, and must therefore be estimated by sampling, or even by using a lower bound for optimization in a Majorition Minimization logic. This is what is used in EM approaches, for example, with the introduction of an ELBOW . This trick is used for both VAE and diffusion models.\n",
    "\n",
    "Also when the dimension is high, the phenomenon of concentration of the measurement makes this approach ineffective: the probability measurement is then mainly explained by the volume. It is therefore necessary to estimate by integration of the density which leads us to a Bayesian estimation and most of the time, a sampling problem. \n",
    "\n",
    "However, the question of sampling is difficult and a very large number of points are required to estimate a high-dimensional measurement. Also classic sampling approaches have a lot of difficulty with multimodal distributions. It is therefore necessary to be cunning in the exploration of states and this is what diffusion methods do in particular with Langevin dynamics which take advantage of the local information of the density gradient. However, there is no miracle recipe in this field and fine tuning is almost always unstable and tedious."
   ]
  },
  {
   "cell_type": "markdown",
   "metadata": {
    "cell_ktag": "YJ9dDNjUhiMN"
   },
   "source": [
    "In this work, we will focus on the most widely used generative models based on deep neural networks: Generative Adversarial Networks (GAN), Variational AutoEncoders (VAE), Normalizing Flows and Diffusion Models, in order to compare them and understand their strengths and weaknesses."
   ]
  },
  {
   "cell_type": "markdown",
   "metadata": {
    "cell_ktag": "YJ9dDNjUhiMN"
   },
   "source": [
    "### Dataset"
   ]
  },
  {
   "cell_type": "markdown",
   "metadata": {
    "cell_ktag": "YJ9dDNjUhiMN"
   },
   "source": [
    "#### Checkerboard (prioritize this dataset)"
   ]
  },
  {
   "cell_type": "code",
   "execution_count": 1,
   "metadata": {
    "cell_ktag": "YJ9dDNjUhiMN"
   },
   "outputs": [
    {
     "name": "stdout",
     "output_type": "stream",
     "text": [
      "NVIDIA GeForce GTX 1070 with Max-Q Design\n",
      "Memory Usage:\n",
      "Allocated: 0.0 GB\n",
      "Cached:    0.0 GB\n"
     ]
    }
   ],
   "source": [
    "############\n",
    "# Packages #\n",
    "############\n",
    "\n",
    "import torch\n",
    "import math\n",
    "from sklearn import datasets\n",
    "import numpy as np\n",
    "import matplotlib.pyplot as plt\n",
    "\n",
    "##################\n",
    "# added Packages #\n",
    "##################\n",
    "\n",
    "import plotly.express as px\n",
    "import plotly.io as pio\n",
    "import seaborn as sns\n",
    "sns.set()\n",
    "\n",
    "##########\n",
    "# Config #\n",
    "##########\n",
    "\n",
    "# Decide which device we want to run on\n",
    "ngpu=1\n",
    "device = torch.device(\"cuda:0\" if (torch.cuda.is_available() and ngpu > 0) else \"cpu\")\n",
    "\n",
    "if device.type == 'cuda':\n",
    "    print(torch.cuda.get_device_name(0))\n",
    "    print('Memory Usage:')\n",
    "    print('Allocated:', round(torch.cuda.memory_allocated(0)/1024**3,1), 'GB')\n",
    "    print('Cached:   ', round(torch.cuda.memory_reserved(0)/1024**3,1), 'GB')\n",
    "\n",
    "# root_path = Path(os.getcwd())\n",
    "pio.renderers.default = \"plotly_mimetype+notebook\"\n",
    "\n",
    "###########\n",
    "# dataset #\n",
    "###########\n",
    "\n",
    "def generate_batch(num_datapoints: int) -> np.ndarray:\n",
    "  \"\"\"Checkerboard dataset.\"\"\"\n",
    "  x1 = np.random.rand(num_datapoints) * 4 - 2\n",
    "  x2 = np.random.rand(num_datapoints) - np.random.randint(0, 2, [num_datapoints]) * 2. + np.floor(x1) % 2\n",
    "  data = np.stack([x1, x2]).T * 2\n",
    "  data = (data - data.mean(axis=0)) / data.std(axis=0) # normalize\n",
    "  return torch.from_numpy(data.astype(np.float32))\n",
    "\n",
    "train_data = generate_batch(5000)"
   ]
  },
  {
   "cell_type": "code",
   "execution_count": 2,
   "metadata": {
    "cell_ktag": "YJ9dDNjUhiMN"
   },
   "outputs": [
    {
     "data": {
      "image/png": "[encoded data removed]",
      "text/plain": [
       "<Figure size 300x300 with 1 Axes>"
      ]
     },
     "metadata": {},
     "output_type": "display_data"
    }
   ],
   "source": [
    "plt.figure(figsize=(3, 3))\n",
    "plt.scatter(train_data.numpy()[:,0], train_data.numpy()[:,1], s=1.0, alpha=0.5)\n",
    "plt.show()"
   ]
  },
  {
   "cell_type": "markdown",
   "metadata": {
    "cell_ktag": "YJ9dDNjUhiMN"
   },
   "source": [
    "It's also good to visualize the density as sometimes generative models overfit particular region of space. Once models are trained, when you sample from them, plot the two densities side-by-side to compare real & synthetic dataset."
   ]
  },
  {
   "cell_type": "code",
   "execution_count": 3,
   "metadata": {
    "cell_ktag": "YJ9dDNjUhiMN"
   },
   "outputs": [
    {
     "data": {
      "image/png": "[encoded data removed]",
      "text/plain": [
       "<Figure size 300x300 with 1 Axes>"
      ]
     },
     "metadata": {},
     "output_type": "display_data"
    }
   ],
   "source": [
    "plt.figure(figsize=(3, 3))\n",
    "plt.hist2d(train_data.numpy()[:,0], train_data.numpy()[:,1], bins=100)\n",
    "plt.show()"
   ]
  },
  {
   "cell_type": "markdown",
   "metadata": {
    "cell_ktag": "YJ9dDNjUhiMN"
   },
   "source": [
    "#### Moon (use this one only if your models struggle on checkerboard)"
   ]
  },
  {
   "cell_type": "code",
   "execution_count": null,
   "metadata": {
    "cell_ktag": "YJ9dDNjUhiMN"
   },
   "outputs": [],
   "source": [
    "import torch\n",
    "import math\n",
    "from sklearn import datasets\n",
    "import numpy as np\n",
    "\n",
    "# Our dataset is mathematically defined, we can generate batches on the fly and enjoy\n",
    "# an infinite-size dataset\n",
    "def generate_batch(batchlen):\n",
    "    \"\"\"This function generates a batch of length 'batchlen' from the dataset\n",
    "    \"\"\"\n",
    "    data = datasets.make_moons(n_samples=batchlen, noise=0.05)[0].astype(np.float32)\n",
    "    return torch.from_numpy(data)"
   ]
  },
  {
   "cell_type": "markdown",
   "metadata": {
    "cell_ktag": "YJ9dDNjUhiMN"
   },
   "source": [
    "Let's plot a large batch, to see what the dataset looks like."
   ]
  },
  {
   "cell_type": "code",
   "execution_count": null,
   "metadata": {
    "cell_ktag": "YJ9dDNjUhiMN"
   },
   "outputs": [],
   "source": [
    "%matplotlib inline\n",
    "import matplotlib.pyplot as plt\n",
    "\n",
    "batch = generate_batch(5000)\n",
    "\n",
    "plt.scatter(batch[:,0], batch[:,1], s=2.0)\n",
    "plt.show()"
   ]
  },
  {
   "cell_type": "markdown",
   "metadata": {
    "cell_ktag": "YJ9dDNjUhiMN"
   },
   "source": [
    "It's also good to visualize the density as sometimes generative models overfit particular areas. Once models are trained, when you sample from them, plot the two densities side-by-side to compare real & synthetic dataset."
   ]
  },
  {
   "cell_type": "code",
   "execution_count": null,
   "metadata": {
    "cell_ktag": "YJ9dDNjUhiMN"
   },
   "outputs": [],
   "source": [
    "plt.hist2d(batch.numpy()[:,0], batch.numpy()[:,1], bins=100)\n",
    "plt.xlim([-1.2,2.2])\n",
    "plt.ylim([-0.7,1.2])\n",
    "plt.show()"
   ]
  },
  {
   "cell_type": "markdown",
   "metadata": {
    "cell_ktag": "YJ9dDNjUhiMN"
   },
   "source": [
    "----\n",
    "### Generative Adversarial Networks"
   ]
  },
  {
   "cell_type": "markdown",
   "metadata": {
    "cell_ktag": "YJ9dDNjUhiMN"
   },
   "source": [
    "GANs structure is based on modelling the distribution $p_\\theta$ as a learned deterministic function applied to a standard noise. Sampling from it is thus done as follows: first, some noise is sampled from a standard N-dimensional Gaussian distribution: $\\epsilon \\sim \\mathcal{N}(0;I)$, and then the output is computed as a deterministic function $x = f_\\theta(\\epsilon)$. The function $f_\\theta$ is implemented as a neural network, $\\theta$ representing its learned parameters."
   ]
  },
  {
   "cell_type": "markdown",
   "metadata": {
    "cell_ktag": "YJ9dDNjUhiMN"
   },
   "source": [
    "**Q3: What is, a priori, the impact of the choice of N, the dimension of the input noise $\\epsilon$?**"
   ]
  },
  {
   "cell_type": "markdown",
   "metadata": {
    "cell_ktag": "YJ9dDNjUhiMN"
   },
   "source": [
    "> (Write your answer here)"
   ]
  },
  {
   "cell_type": "markdown",
   "metadata": {
    "cell_ktag": "YJ9dDNjUhiMN"
   },
   "source": [
    "By construction, this generator structure only allows sampling the distribution $p_\\theta$, and does not allow the computation of the density $p_\\theta(x)$ (at least not without strong assumptions on $f_\\theta$). Such a model thus needs a comparison method based on samples to be trained.\n",
    "\n",
    "The smart idea of GANs is to instead use another neural network to model the objective. Another neural network is introduced: a classifier (that we call the discriminator) which is trained to distinguish examples from the dataset from examples generated by $p_\\theta$. The reasoning is as follows:\n",
    "\n",
    "The discriminator $D$ is trained using a classic classifier loss between the two classes defined as the samples generated by either $p_D$ or $p_\\theta$. This way $D(x)$ can be interpreted as the probability that $x$ came from the real dataset:\n",
    "\n",
    "$$ \\mathcal{L}_D = \\mathbb{E}_{p_D} \\left[ -\\log D(x) \\right] + \\mathbb{E}_{p_\\theta} \\left[ -\\log \\left(1-D(x)\\right) \\right] $$\n",
    "\n",
    "From that, it can be shown that for the generator fixed, the optimal discriminator is given by $D(x) = \\frac{p_D(x)}{p_\\theta(x) + p_D(x)}$, and when reached its loss takes a specific value:\n",
    "\n",
    "$$ \\mathcal{L}_D = 2 \\left( \\log 2 - JSD(p_\\theta \\| p_D) \\right) $$\n",
    ", where JSD is the JS divergence used to measure the similarity of two distributions. \n",
    "$$JSD(p_\\theta \\| p_D) = \\frac{1}{2} \\mathbb{E}_{p_D} \\left[ log(\\frac{2p_D}{p_D+p_\\theta}) \\right] + \\frac{1}{2} \\mathbb{E}_{p_\\theta} \\left[ log(\\frac{2p_\\theta}{p_D+p_\\theta}) \\right]$$\n",
    "So, training the generator network to *maximize* the same loss would, assuming the discriminator is always trained to optimality, minimize the Jensen-Shannon Divergence between $p_\\theta$ and $p_D$, and thus bring $p_\\theta$ closer to $p_D$."
   ]
  },
  {
   "cell_type": "markdown",
   "metadata": {
    "cell_ktag": "YJ9dDNjUhiMN"
   },
   "source": [
    "**Q4: Can you anticipate a caveat of using the JSD as a training objective for the generator?**"
   ]
  },
  {
   "cell_type": "markdown",
   "metadata": {
    "cell_ktag": "YJ9dDNjUhiMN"
   },
   "source": [
    "> (Write your answer here, consider the case where the two distribution are totally different)"
   ]
  },
  {
   "cell_type": "markdown",
   "metadata": {
    "cell_ktag": "YJ9dDNjUhiMN"
   },
   "source": [
    "Having the generator trained to maximize $\\mathcal{L}_D$ is equivalent to setting its training loss to $ \\mathcal{L}_G = \\mathbb{E}_{p_\\theta} \\log(1-D(x)) $."
   ]
  },
  {
   "cell_type": "markdown",
   "metadata": {
    "cell_ktag": "YJ9dDNjUhiMN"
   },
   "source": [
    "**Q5: This loss only gives feedback to the generator on samples it generated, what problem may this cause?**"
   ]
  },
  {
   "cell_type": "markdown",
   "metadata": {
    "cell_ktag": "YJ9dDNjUhiMN"
   },
   "source": [
    "> (Write your answer here)"
   ]
  },
  {
   "cell_type": "markdown",
   "metadata": {
    "cell_ktag": "YJ9dDNjUhiMN"
   },
   "source": [
    "We will now work on implementing a GAN on a simple toy problem, to get a feeling of its behavior and test our theoretical insights. For this we will use the `pytorch` library.\n",
    "\n",
    "While a real problem would be generating images for example (each datapoint $x$ would then be a different image), this is a kind of task that easily requires intensive CPU/GPU power, and image datasets are difficult to visualize from a geometric point of view (even small images contains hundreds of pixels, and nobody can visualize points in a 100-dimensional space). So instead we will focus on points in the plane: each datapoint $x$ will actually be a couple of numbers $(x1, x2)$, and our target dataset will be a 2D two-moons shape with some noise."
   ]
  },
  {
   "cell_type": "markdown",
   "metadata": {
    "cell_ktag": "YJ9dDNjUhiMN"
   },
   "source": [
    "We now need to define our two neural networks, the generator and the discriminator. The generator will take as input a value $z$ sampled from a Gaussian prior, and output a value $x$ (thus a couple $(x_1,x_2)$). The discriminator takes as input a value $x$, and is a binary classifier."
   ]
  },
  {
   "cell_type": "code",
   "execution_count": null,
   "metadata": {
    "cell_ktag": "YJ9dDNjUhiMN"
   },
   "outputs": [],
   "source": [
    "import torch.nn as nn\n",
    "import torch.nn.functional as F\n",
    "\n",
    "# Choose a value for the prior dimension\n",
    "PRIOR_N = 2\n",
    "\n",
    "# Define the generator\n",
    "class Generator(nn.Module):\n",
    "    def __init__(self):\n",
    "        super().__init__()\n",
    "        self.fc1 = nn.Linear(PRIOR_N, 2)\n",
    "        \n",
    "    def __call__(self, z):\n",
    "        return self.fc1(z)\n",
    "    \n",
    "    def generate(self, batchlen):\n",
    "        z = torch.normal(torch.zeros(batchlen, PRIOR_N), 1.0)\n",
    "        return self.__call__(z)\n",
    "    \n",
    "\n",
    "# Define the discriminator\n",
    "class Discriminator(nn.Module):\n",
    "    def __init__(self):\n",
    "        super().__init__()\n",
    "        self.fc1 = nn.Linear(2, 1)\n",
    "    \n",
    "    def __call__(self, x):\n",
    "        return self.fc1(x)"
   ]
  },
  {
   "cell_type": "markdown",
   "metadata": {
    "cell_ktag": "YJ9dDNjUhiMN"
   },
   "source": [
    "With these classes in shape, now is only needed the training loop. To stick with the mathematical GAN framework, we should train the discriminator until convergence between each training step of the generator. This is not practical for two reasons: first it takes a lot of time, and second if the discriminator is too good, it will generate vanishing gradients to the generator (as seen in **Q4**).\n",
    "\n",
    "We will thus train the discriminator a fixed number of times between each training iteration of the generator."
   ]
  },
  {
   "cell_type": "code",
   "execution_count": null,
   "metadata": {
    "cell_ktag": "YJ9dDNjUhiMN"
   },
   "outputs": [],
   "source": [
    "# Number of times to train the discriminator between two generator steps\n",
    "TRAIN_RATIO = 1\n",
    "# Total number of training iterations for the generator\n",
    "N_ITER = 20001\n",
    "# Batch size to use\n",
    "BATCHLEN = 128\n",
    "\n",
    "generator = Generator()\n",
    "optim_gen = torch.optim.Adam(generator.parameters(), lr=0.001, betas=(0.5,0.9))\n",
    "discriminator = Discriminator()\n",
    "optim_disc = torch.optim.Adam(discriminator.parameters(), lr=0.001, betas=(0.5,0.9))\n",
    "\n",
    "for i in range(N_ITER):\n",
    "    # train the discriminator\n",
    "    for _ in range(TRAIN_RATIO):\n",
    "        discriminator.zero_grad()\n",
    "        real_batch = generate_batch(BATCHLEN)\n",
    "        fake_batch = generator.generate(BATCHLEN)\n",
    "        #\n",
    "        # == COMPUTE THE DISCRIMINATOR LOSS HERE ==\n",
    "        #\n",
    "        disc_loss = 0\n",
    "        disc_loss.backward()\n",
    "        optim_disc.step()\n",
    "    # train the generator\n",
    "    generator.zero_grad()\n",
    "    fake_batch = generator.generate(BATCHLEN)\n",
    "    #\n",
    "    # == COMPUTE THE GENERATOR LOSS HERE\n",
    "    #\n",
    "    gen_loss = 0\n",
    "    gen_loss.backward()\n",
    "    optim_gen.step()\n",
    "    if i%1000 == 0:\n",
    "        print('step {}: discriminator: {:.3e}, generator: {:.3e}'.format(i, float(disc_loss), float(gen_loss)))\n",
    "        # plot the result\n",
    "        real_batch = generate_batch(1024)\n",
    "        fake_batch = generator.generate(1024).detach()\n",
    "        plt.scatter(real_batch[:,0], real_batch[:,1], s=2.0, label='real data')\n",
    "        plt.scatter(fake_batch[:,0], fake_batch[:,1], s=2.0, label='fake data')\n",
    "        plt.legend()\n",
    "        plt.show()"
   ]
  },
  {
   "cell_type": "markdown",
   "metadata": {
    "cell_ktag": "YJ9dDNjUhiMN"
   },
   "source": [
    "Complete the previous code and train your model.\n",
    "\n",
    "Depending on your choice of parameters, the training may not go well at all, with the generator completely collapsing quickly at the beginning of the training. It has been observed by the litterature that the generator's loss $\\mathcal{L}_G = \\mathbb{E}_{p_\\theta} \\log(1-D(x))$ is often to blame."
   ]
  },
  {
   "cell_type": "markdown",
   "metadata": {
    "cell_ktag": "YJ9dDNjUhiMN"
   },
   "source": [
    "**Q6: Why could we anticipate that this loss could cause this?**"
   ]
  },
  {
   "cell_type": "markdown",
   "metadata": {
    "cell_ktag": "YJ9dDNjUhiMN"
   },
   "source": [
    "> (Write your answer here, consider about gradient vanishing when discriminator is trained very well)"
   ]
  },
  {
   "cell_type": "markdown",
   "metadata": {
    "cell_ktag": "YJ9dDNjUhiMN"
   },
   "source": [
    "This issue is solved by replacing the generator loss by an alternative loss: $\\mathcal{L}_G = \\mathbb{E}_{p_\\theta} [ -\\log D(x) ]$ to avoid gradient vanishing."
   ]
  },
  {
   "cell_type": "markdown",
   "metadata": {
    "cell_ktag": "YJ9dDNjUhiMN"
   },
   "source": [
    "**Q7: Inspect the impact of these different factors:**\n",
    "\n",
    "- depth / width of the generator network\n",
    "- depth / width of the discriminator network\n",
    "- impact of `TRAIN_RATIO`"
   ]
  },
  {
   "cell_type": "markdown",
   "metadata": {
    "cell_ktag": "YJ9dDNjUhiMN"
   },
   "source": [
    "> (Write your answer here)"
   ]
  },
  {
   "cell_type": "markdown",
   "metadata": {
    "cell_ktag": "YJ9dDNjUhiMN"
   },
   "source": [
    "For further readings on GANs, you can see the following papers:\n",
    "\n",
    "- Generative Adversarial Networks *(Goodfellow et al.)*: [arXiv:1406.2661](https://arxiv.org/abs/1406.2661)\n",
    "- Unsupervised Representation Learning with Deep Convolutional Generative Adversarial Networks *(Radford et al.)*: [arXiv:1511.06434](https://arxiv.org/abs/1511.06434)\n",
    "- A Style-Based Generator Architecture for Generative Adversarial Networks *(Karras et al.)* [arxiv:1812.04948v3](https://arxiv.org/abs/1812.04948v3)"
   ]
  },
  {
   "cell_type": "markdown",
   "metadata": {
    "cell_ktag": "YJ9dDNjUhiMN"
   },
   "source": [
    "----\n",
    "### Variational AutoEncoders"
   ]
  },
  {
   "cell_type": "markdown",
   "metadata": {
    "cell_ktag": "YJ9dDNjUhiMN"
   },
   "source": [
    "Another well-known approach to generative modelling is embodied by Variational AutoEncoders (VAEs). While the generative model itself and the procedure to sample it is similar to GANs, the way it is trained is not.\n",
    "\n",
    "The main goal of VAEs is to optimize the likelihood of the real data according to the generative model. In other words, maximize $\\mathbb{E}_{p_D} \\left[\\log p_\\theta(x) \\right ]$, which is equivalent to minimizing $D_{KL}(p_D \\| p_\\theta)$.\n",
    "$$D_{KL}(p_D \\| p_\\theta) = \\mathbb{E}_{p_D}\\left[ log(\\frac{p_D}{p_\\theta}) \\right]$$"
   ]
  },
  {
   "cell_type": "markdown",
   "metadata": {
    "cell_ktag": "YJ9dDNjUhiMN"
   },
   "source": [
    "**Q8: Prove this equivalence.**"
   ]
  },
  {
   "cell_type": "markdown",
   "metadata": {
    "cell_ktag": "YJ9dDNjUhiMN"
   },
   "source": [
    "> (Write your answer here)"
   ]
  },
  {
   "cell_type": "markdown",
   "metadata": {
    "cell_ktag": "YJ9dDNjUhiMN"
   },
   "source": [
    "However, the classes of distributions for which $\\log p_\\theta(x)$ can be analytically computed and optimized is very restricted, and not suitable for real world problems. The main idea of the VAE is thus to introduce a latent variable $z$ and decompose the distribution as: $p_\\theta(x, z) = p_\\theta(x | z) p(z)$. Here $p(z)$ is some fixed prior and $p_\\theta(x | z)$ is a simple distribution whose parameters are the output of a neural network.\n",
    "\n",
    "For example, you could have $p(z)$ be a standard $\\mathcal{N}(0;1)$ and $p_\\theta(x | z)$ be defined as a gaussian $\\mathcal{N}(\\mu_\\theta(z); \\sigma_\\theta(z))$ where $\\mu_\\theta(z)$ and $\\sigma_\\theta(z)$ are created by the neural network you will train. In this case, the resulting distribution $p_\\theta(x) = \\int_z p_\\theta(x|z)p(z)dz$ is an infinite mixture of Gaussians, which is a much more expressive class of distributions.\n",
    "\n",
    "Now, this cannot stop here, as we are not able to analitically compute the density $p_\\theta(x)$. The second main idea of the VAE is to introduce another, auxilliary distribution: $q_\\phi(z | x)$, which will be modelled by a neural network similarly to $p_\\theta(x | z)$. Introducing it allows us to create a lower bound for $\\log p_\\theta(x)$:\n",
    "\n",
    "$$\\log p_\\theta(x) = \\mathbb{E}_{z \\sim q_\\phi} \\log p_\\theta(x) = \\mathbb{E}_{z \\sim q_\\phi} \\left[ \\log p_\\theta(x) \\frac {q_\\phi(z|x)}{q_\\phi(z|x)} \\right]$$\n",
    "\n",
    "Following Bayes theorem, $p_\\theta(x) p_\\theta(z|x) = p_\\theta(x, z) = p_\\theta(x|z) p(z)$, so we get:\n",
    "\n",
    "$$\\log p_\\theta(x) = \\mathbb{E}_{z \\sim q_\\phi} \\left[ \\log \\frac{p_\\theta(x|z) p(z)}{p_\\theta(z|x)} \\frac {q_\\phi(z|x)}{q_\\phi(z|x)} \\right]$$\n",
    "\n",
    "Re-organizing the terms:\n",
    "\n",
    "$$\\log p_\\theta(x) = \\mathbb{E}_{z \\sim q_\\phi} \\log \\frac{q_\\phi(z|x)}{p_\\theta(z|x)} + \\mathbb{E}_{z \\sim q_\\phi} \\log \\frac{p(z)}{q_\\phi(z|x)} + \\mathbb{E}_{z \\sim q_\\phi} \\log p_\\theta(x | z)$$\n",
    "\n",
    "This can be re-expressed like so:\n",
    "\n",
    "$$\\log p_\\theta(x) = D_{KL}(q_\\phi(z | x) \\| p_\\theta(z | x)) - D_{KL}(q_\\phi(z | x) \\| p(z)) + \\mathbb{E}_{z \\sim q_\\phi} \\log p_\\theta(x|z)$$\n",
    "\n",
    "The 3 terms of this equality can be interpreted like so:\n",
    "\n",
    "- the first term measures how much $q_\\phi(z | x)$ is similar to $p_\\theta(z | x)$, or in other words is a good inverse of $p_\\theta(x | z)$\n",
    "- the second term measures how similar $q_\\phi(z|x)$ is from the latent prior $p(z)$\n",
    "- the third term is linked to how likely $p_\\theta$ is to yield the given $x$ when $z$ is sampled from $q_\\phi(z | x)$ rather than $p(z)$\n",
    "\n",
    "It is interesting to note that the first term, being a KL-divergence is always positive. As such the combination of the last two terms forms a lower bound of $\\log p_\\theta(x)$ which *can* be computed and used as a training objective. This bound is called the *Evidence Lower-Bound (ELBO)*. Simply flipping its sign can make it into a loss that can be minimized by gradient descent:\n",
    "\n",
    "$$ \\mathcal{L}_{ELBO} = D_{KL}(q_\\phi(z | x) \\| p(z)) + \\mathbb{E}_{z \\sim q_\\phi} [ - \\log p_\\theta(x|z) ]$$\n",
    "\n",
    "From this formulation comes the parallel with auto-encoders that give the VAE its name: $q_\\phi(z | x)$ can be seen as a *probabilistic encoder* from the data $x$ to the latent space $z$, and $p_\\theta(x | z)$ can be seen as a *probabilistic decoder* from the latent space $z$ to the data $x$. In this case the second term of $\\mathcal{L}_{ELBO}$ is the loss measuring the reconstruction quality of the auto-encoder, and the first term can be seens as a regularization of the latent space."
   ]
  },
  {
   "cell_type": "markdown",
   "metadata": {
    "cell_ktag": "YJ9dDNjUhiMN"
   },
   "source": [
    "![VAE](./vae-gaussian.png)"
   ]
  },
  {
   "cell_type": "markdown",
   "metadata": {
    "cell_ktag": "YJ9dDNjUhiMN"
   },
   "source": [
    "**Q9: We can see that $p(z)$ is never sampled during the training process, how can that be a problem?**"
   ]
  },
  {
   "cell_type": "markdown",
   "metadata": {
    "cell_ktag": "YJ9dDNjUhiMN"
   },
   "source": [
    "> (Write your answer here, what will be the influence on data generation by VAE)"
   ]
  },
  {
   "cell_type": "markdown",
   "metadata": {
    "cell_ktag": "YJ9dDNjUhiMN"
   },
   "source": [
    "A typical choice to represent $q_\\phi(z | x)$ is to use a diagonal Gaussian distribution $\\mathcal{N}(\\mu_\\phi(x); Diag(\\sigma_\\phi^2(x)))$, which makes the KL-divergence term of $\\mathcal{L}_{ELBO}$ analytically computable."
   ]
  },
  {
   "cell_type": "markdown",
   "metadata": {
    "cell_ktag": "YJ9dDNjUhiMN"
   },
   "source": [
    "**Q10: Assuming $p(z)$ is a $\\mathcal{N}(0; Id)$ gaussian, what is the value of $D_{KL}(q_\\phi(z | x) \\| p(z))$?**"
   ]
  },
  {
   "cell_type": "markdown",
   "metadata": {
    "cell_ktag": "YJ9dDNjUhiMN"
   },
   "source": [
    "> (Write your answer here)"
   ]
  },
  {
   "cell_type": "markdown",
   "metadata": {
    "cell_ktag": "YJ9dDNjUhiMN"
   },
   "source": [
    "We will also model $p_\\theta(x | z)$ as a diagonal Gaussian $\\mathcal{N}(\\mu_\\theta(z); Diag(\\sigma_\\theta^2(z)))$.\n",
    "\n",
    "\n",
    "**Note:** For the following, be careful about the difference between $\\mu_\\phi, \\sigma_\\phi$ which define the Gaussian distribution of the *encoder* $q_\\phi$ and $\\mu_\\theta, \\sigma_\\theta$ which define the Gaussian distribution of the *decoder* $p_\\theta$."
   ]
  },
  {
   "cell_type": "markdown",
   "metadata": {
    "cell_ktag": "YJ9dDNjUhiMN"
   },
   "source": [
    "**Q11: What is the expression of $-\\log p_\\theta(x | z)$ for given $x$ and $z$?**"
   ]
  },
  {
   "cell_type": "markdown",
   "metadata": {
    "cell_ktag": "YJ9dDNjUhiMN"
   },
   "source": [
    "> (Write your answer here)"
   ]
  },
  {
   "cell_type": "markdown",
   "metadata": {
    "cell_ktag": "YJ9dDNjUhiMN"
   },
   "source": [
    "We will build and train a VAE using the same dataset as previously, in order to compare its behavior to GANs. For numerical stability, we will interpret the output of the encoder and decoder networks as $(\\mu, \\log\\sigma^2)$, rather than $(\\mu, \\sigma)$."
   ]
  },
  {
   "cell_type": "code",
   "execution_count": null,
   "metadata": {
    "cell_ktag": "YJ9dDNjUhiMN"
   },
   "outputs": [],
   "source": [
    "# Choose a value for the latent dimension\n",
    "LATENT_N = 10\n",
    "\n",
    "# Define the generator\n",
    "class Encoder(nn.Module):\n",
    "    def __init__(self):\n",
    "        super().__init__()\n",
    "        self.fc_mu = nn.Linear(2, LATENT_N)\n",
    "        self.fc_logvar = nn.Linear(2, LATENT_N)\n",
    "        \n",
    "    # encode a datapoint. This should return a couple of tensors (mu, logvar) representing\n",
    "    # the parameters of the Gaussian q_\\phi(z | x)\n",
    "    def __call__(self, x):\n",
    "        mu = self.fc_mu(x)\n",
    "        logvar = self.fc_logvar(x)\n",
    "        return (mu, logvar)\n",
    "    \n",
    "\n",
    "# Define the discriminator\n",
    "class Decoder(nn.Module):\n",
    "    def __init__(self):\n",
    "        super().__init__()\n",
    "        self.fc_mu = nn.Linear(LATENT_N, 2)\n",
    "        self.fc_logvar = nn.Linear(LATENT_N, 2)\n",
    "    \n",
    "    # decode a datapoint. This should return a couple of tensors (mu, logvar) representing\n",
    "    # the parameters of the Gaussian p_\\theta(z | x)\n",
    "    def __call__(self, z):\n",
    "        mu = self.fc_mu(z)\n",
    "        logvar = self.fc_logvar(z)\n",
    "        return (mu, logvar)\n",
    "\n",
    "    def generate(self, batchlen):\n",
    "        z = torch.normal(torch.zeros(batchlen, LATENT_N), 1.0)\n",
    "        (mu, logvar) = self.__call__(z)\n",
    "        return torch.normal(mu, torch.exp(0.5*logvar))"
   ]
  },
  {
   "cell_type": "markdown",
   "metadata": {
    "cell_ktag": "YJ9dDNjUhiMN"
   },
   "source": [
    "From this, the parameters of both networks are trained conjointly using the same loss $\\mathcal{L}_{ELBO}$. "
   ]
  },
  {
   "cell_type": "code",
   "execution_count": null,
   "metadata": {
    "cell_ktag": "YJ9dDNjUhiMN"
   },
   "outputs": [],
   "source": [
    "# Total number of training iterations for the VAE\n",
    "N_ITER = 40001\n",
    "# Batch size to use\n",
    "BATCHLEN = 128\n",
    "\n",
    "encoder = Encoder()\n",
    "optim_enc = torch.optim.Adam(encoder.parameters(), lr=0.001, betas=(0.5,0.9))\n",
    "decoder = Decoder()\n",
    "optim_dec = torch.optim.Adam(decoder.parameters(), lr=0.001, betas=(0.5,0.9))\n",
    "\n",
    "for i in range(N_ITER):\n",
    "    encoder.zero_grad()\n",
    "    decoder.zero_grad()\n",
    "    \n",
    "    x = generate_batch(BATCHLEN)\n",
    "    \n",
    "    enc_mu, enc_logvar = encoder(x)\n",
    "    #\n",
    "    # COMPUTE THE KL PART OF THE LOSS HERE\n",
    "    #\n",
    "    loss_kl = 0\n",
    "    #\n",
    "    # SAMPLE z FROM q(z|x) HERE\n",
    "    #\n",
    "    z = 0\n",
    "    \n",
    "    dec_mu, dec_logvar = decoder(z)\n",
    "    #\n",
    "    # COMPUTE THE RECONSTRUCTION PART OF THE LOSS HERE\n",
    "    #\n",
    "    loss_rec = 0\n",
    "    \n",
    "    (loss_kl + loss_rec).backward()\n",
    "    optim_enc.step()\n",
    "    optim_dec.step()\n",
    "    if i%1000 == 0:\n",
    "        print('step {}: KL: {:.3e}, rec: {:.3e}'.format(i, float(loss_kl), float(loss_rec)))\n",
    "        # plot the result\n",
    "        real_batch = generate_batch(1024)\n",
    "        rec_batch = torch.normal(dec_mu, torch.exp(0.5*dec_logvar)).detach()\n",
    "        fake_batch = decoder.generate(1024).detach()\n",
    "        plt.scatter(real_batch[:,0], real_batch[:,1], s=2.0, label='real data')\n",
    "        plt.scatter(rec_batch[:,0], rec_batch[:,1], s=2.0, label='rec data')\n",
    "        plt.scatter(fake_batch[:,0], fake_batch[:,1], s=2.0, label='fake data')\n",
    "        plt.legend()\n",
    "        plt.show()"
   ]
  },
  {
   "cell_type": "markdown",
   "metadata": {
    "cell_ktag": "YJ9dDNjUhiMN"
   },
   "source": [
    "**Q12: Try hardcoding $\\sigma_\\theta(z)$ to some small value (like 1E-4) rather than allowing the decoder to learn it. What does it change?**"
   ]
  },
  {
   "cell_type": "markdown",
   "metadata": {
    "cell_ktag": "YJ9dDNjUhiMN"
   },
   "source": [
    "> (Write your answer here, observe the plots)"
   ]
  },
  {
   "cell_type": "markdown",
   "metadata": {
    "cell_ktag": "YJ9dDNjUhiMN"
   },
   "source": [
    "**Q13: How do the power of encoder and decoder affect the overall training of the VAE?**"
   ]
  },
  {
   "cell_type": "markdown",
   "metadata": {
    "cell_ktag": "YJ9dDNjUhiMN"
   },
   "source": [
    "> (Write your answer here)"
   ]
  },
  {
   "cell_type": "markdown",
   "metadata": {
    "cell_ktag": "YJ9dDNjUhiMN"
   },
   "source": [
    "---\n",
    "### Normalizing flows"
   ]
  },
  {
   "cell_type": "markdown",
   "metadata": {
    "cell_ktag": "YJ9dDNjUhiMN"
   },
   "source": [
    "Another approach to generative modelling is given by Normalizing flows. The idea is to learn a mapping $f$ from the data distribution $p_D$ (defined over a space $\\mathcal{X}$) to a known distribution (typically, a normal distribution) from which we know how to sample. Two key points are to be noted:\n",
    "1. The mapping needs to be bijective (i.e., the network needs to be invertible).\n",
    "2. The exact likelihood of a data point should be easily computable.\n",
    "\n",
    "To tackle point 2, let us introduce some notations.\n",
    "Let us denote by $p_\\mathcal{N} = \\mathcal{N}(0,1)$ the normal distribution from which we sample $z$. We obtain points $x$ by computing $x = f^{-1}(z)$, and we hope that the distribution of points obtained this way will match more or less the dataset distribution $p_D$ of real examples.\n",
    "We denote by $p_G$ this obtained distribution, that is, the image of $p_\\mathcal{N}$ through $f^{-1}$: $p_G$ is a probability distribution defined on $\\mathcal{X}$, and our goal will be to optimize the mapping $f$ so that $p_G$ is close to $p_D$. If you are not familiar with images of distributions, the definition is here: https://en.wikipedia.org/wiki/Pushforward_measure ; it can be defined as the measure that satisfies this change of variables: $\\int_{z\\sim p_\\mathcal{N}} g(f^{-1}(z)) dz = \\int_{x\\sim p_{G}} g(x) dx$ for all functions $g$. Another notation for this is $\\int_{z} g(f^{-1}(z)) \\;dp_\\mathcal{N}(z) = \\int_{x} g(x) \\;dp_{G}(x)$. \n",
    "We will build on the following identity:\n",
    "$$\n",
    "\\log(p_X(x))=\\log(p_Z(z))+\\log \\det J_f\n",
    "$$\n",
    "where $J_f = \\frac{df(x)}{dx}$ is the Jacobian matrix of the function $f$."
   ]
  },
  {
   "cell_type": "markdown",
   "metadata": {
    "cell_ktag": "YJ9dDNjUhiMN"
   },
   "source": [
    "**Q14: Justify the above equality**"
   ]
  },
  {
   "cell_type": "markdown",
   "metadata": {
    "cell_ktag": "YJ9dDNjUhiMN"
   },
   "source": [
    "> (Write your answer here)"
   ]
  },
  {
   "cell_type": "markdown",
   "metadata": {
    "cell_ktag": "YJ9dDNjUhiMN"
   },
   "source": [
    "Let us consider, as an optimization criterion, the Kullback-Leibler divergence $KL(p_D||p_G)$.\n",
    "\n",
    "**Q15: Express this loss as a (very simple) function of the quantity above.**"
   ]
  },
  {
   "cell_type": "markdown",
   "metadata": {
    "cell_ktag": "YJ9dDNjUhiMN"
   },
   "source": [
    "> (Write your answer here)"
   ]
  },
  {
   "cell_type": "markdown",
   "metadata": {
    "cell_ktag": "YJ9dDNjUhiMN"
   },
   "source": [
    "A challenging task is then to find a network, such that f is:\n",
    "* invertible\n",
    "* $\\det J_f$ is tractable\n",
    "* $f$ is general enough\n",
    "\n",
    "A common architecture is the so called real-valued non-volume preserving (real-NVP), which is made of coupling layers.\n",
    "\n",
    "The idea of coupling layers is to cut the input $x$ in two (let say keeping only the $d < D$ first dimensions on one hand and the $D-d$ other dimensions on the other hand, with $D$ the dimension of the input space $\\mathcal{X}$). This gives inputs $x_{1:d}$ and $x_{d+1:D}$. Then the forward pass is defined as:\n",
    "* $y_{1:d}=x_{1:d}$\n",
    "* $y_{d+1:D}=x_{d+1:D}\\odot \\exp(s(x_{1:d})) + t(x_{1:d})$\n",
    "\n",
    "where $s,t:\\mathbb{R}^d\\to\\mathbb{R}^{D-d}$ and $\\odot$ is the coefficient-wise multiplication of two vectors of the same size.\n",
    "\n",
    "Those equations can be resumed in the following diagram:\n",
    "![real NVP diagram](./realNVPforward.png)"
   ]
  },
  {
   "cell_type": "markdown",
   "metadata": {
    "cell_ktag": "YJ9dDNjUhiMN"
   },
   "source": [
    "**Q16: Show that the defined mapping is indeed invertible**"
   ]
  },
  {
   "cell_type": "markdown",
   "metadata": {
    "cell_ktag": "YJ9dDNjUhiMN"
   },
   "source": [
    "> (Write your answer here)"
   ]
  },
  {
   "cell_type": "markdown",
   "metadata": {
    "cell_ktag": "YJ9dDNjUhiMN"
   },
   "source": [
    "**Q17: Show that the determinant of the Jacobian of such a mapping is $\\exp(\\sum_j s(x_{1:d})_j)$**"
   ]
  },
  {
   "cell_type": "markdown",
   "metadata": {
    "cell_ktag": "YJ9dDNjUhiMN"
   },
   "source": [
    "> (Write your answer here)"
   ]
  },
  {
   "cell_type": "markdown",
   "metadata": {
    "cell_ktag": "YJ9dDNjUhiMN"
   },
   "source": [
    "**Q18: Fill the Coupling layer structure below by defining suitable functions sfun and tfun (using a final tanh in sfun is highly recommended) and the inverse pass**"
   ]
  },
  {
   "cell_type": "code",
   "execution_count": null,
   "metadata": {
    "cell_ktag": "YJ9dDNjUhiMN"
   },
   "outputs": [],
   "source": [
    "import torch\n",
    "from torch import nn\n",
    "from torch.nn import functional as F\n",
    "\n",
    "\n",
    "class CouplingLayer(nn.Module):\n",
    "    def __init__(self, input_size, output_size, hidden_size, mask):\n",
    "        super().__init__()\n",
    "        ### define here variables to use in f and s ###\n",
    "        \n",
    "        ###\n",
    "        self.mask = mask #we use the mask variable to make the cut in input\n",
    "\n",
    "    def sfun(self, x_m):\n",
    "        return x_m\n",
    "        \n",
    "    def tfun(self, x_m):\n",
    "        return x_m\n",
    "        \n",
    "    def forward(self, x):\n",
    "        x_m = x * self.mask\n",
    "        s_out = self.sfun(x_m) # multiplicative block\n",
    "        t_out = self.tfun(x_m) # additive block\n",
    "        y = x_m + (1-self.mask)*(x*torch.exp(s_out)+t_out)\n",
    "        log_det_jacobian = s_out.sum(dim=1)  # CRITICAL\n",
    "        return y, log_det_jacobian\n",
    "\n",
    "    def inverse(self, y):\n",
    "        return y"
   ]
  },
  {
   "cell_type": "code",
   "execution_count": null,
   "metadata": {
    "cell_ktag": "YJ9dDNjUhiMN"
   },
   "outputs": [],
   "source": [
    "class RealNVP(nn.Module):\n",
    "    def __init__(self, input_size, output_size, hidden_size, mask, n_layers=6):\n",
    "        super().__init__()\n",
    "        assert n_layers >= 2, \"num of coupling layers should be greater or equal to 2\"\n",
    "\n",
    "        self.modules = []\n",
    "        self.modules.append(CouplingLayer(input_size, output_size, hidden_size, mask))\n",
    "        for _ in range(n_layers-2):\n",
    "            mask = 1 - mask\n",
    "            self.modules.append(CouplingLayer(input_size, output_size, hidden_size, mask))\n",
    "        self.modules.append(CouplingLayer(input_size, output_size, hidden_size, 1 - mask))\n",
    "        self.module_list = nn.ModuleList(self.modules)\n",
    "\n",
    "    def forward(self, x):\n",
    "        ldj_sum = 0  # sum of log determinant of jacobian\n",
    "        for module in self.module_list:\n",
    "            x, ldj = module(x)\n",
    "            ldj_sum += ldj\n",
    "        return x, ldj_sum\n",
    "\n",
    "    def inverse(self, z):\n",
    "        for module in reversed(self.module_list):\n",
    "            z = module.inverse(z)\n",
    "        return z"
   ]
  },
  {
   "cell_type": "code",
   "execution_count": null,
   "metadata": {
    "cell_ktag": "YJ9dDNjUhiMN"
   },
   "outputs": [],
   "source": [
    "import os\n",
    "\n",
    "import matplotlib.pyplot as plt\n",
    "import numpy as np\n",
    "import torch\n",
    "\n",
    "\n",
    "def train(epoch, model, optimizer, prior_z, train_loader, log_interval=50):\n",
    "    model.train()\n",
    "    train_loss = 0\n",
    "    for batch_idx, x_inputs in enumerate(train_loader):\n",
    "        optimizer.zero_grad()\n",
    "        z_outputs, log_det_j_sum = model.forward(x_inputs)  # train with the forward\n",
    "        loss = -(prior_z.log_prob(z_outputs)+log_det_j_sum).mean()  # CRITICAL\n",
    "        loss.backward()\n",
    "        cur_loss = loss.item()\n",
    "        train_loss += cur_loss\n",
    "        optimizer.step()\n",
    "        if batch_idx % log_interval == 0:\n",
    "            print(\"Train Epoch: {} [{}/{} ({:.0f}%)]\\tLoss: {:.6f}\".format(\n",
    "                epoch, batch_idx * len(x_inputs), len(train_loader.dataset),\n",
    "                100. * batch_idx / len(train_loader), cur_loss / len(x_inputs)))\n",
    "\n",
    "    average_train_loss = train_loss / len(train_loader.dataset)\n",
    "    print(f\"====> Epoch: {epoch} Average train loss: {average_train_loss:.4f}\")\n",
    "\n",
    "\n",
    "def test(epoch, model, prior_z, test_loader):\n",
    "    model.eval()\n",
    "    test_loss = 0\n",
    "    x_all = np.array([[]]).reshape(0, 2)\n",
    "    z_all = np.array([[]]).reshape(0, 2)\n",
    "    with torch.no_grad():\n",
    "        for batch_idx, x_inputs in enumerate(test_loader):\n",
    "            z_outputs, log_det_j_sum = model.forward(x_inputs)\n",
    "            cur_loss = -(prior_z.log_prob(z_outputs)+log_det_j_sum).mean().item()\n",
    "            test_loss += cur_loss\n",
    "            x_all = np.concatenate((x_all, x_inputs.numpy()))\n",
    "            z_all = np.concatenate((z_all, z_outputs.numpy()))\n",
    "\n",
    "        subfig_plot(1, x_all, -2, 3, -1, 1.5, \"Input: x ~ p(x)\", \"b\")\n",
    "        subfig_plot(2, z_all, -3, 3, -3, 3, \"Output: z = f(x)\", \"b\")\n",
    "\n",
    "        test_loss /= len(test_loader.dataset)\n",
    "        print(f\"====> Test loss: {test_loss:.4f}\")\n",
    "\n",
    "\n",
    "def sample(epoch, model, prior_z, save_plt_interval=5):\n",
    "    model.eval()\n",
    "    with torch.no_grad():\n",
    "        z_inputs = prior_z.sample((1000,))\n",
    "        x_outputs = model.inverse(z_inputs)  # generation with the inverse\n",
    "        z_inputs = z_inputs.numpy()\n",
    "        x_outputs = x_outputs.numpy()\n",
    "\n",
    "        subfig_plot(3, z_inputs, -3, 3, -3, 3, \"Input: z ~ p(z)\", \"r\")\n",
    "        subfig_plot(4, x_outputs, -2, 3, -1, 1.5, \"Output: x = g(z) (g: inverse of f)\", \"r\")\n",
    "\n",
    "        if epoch % save_plt_interval == 0:\n",
    "            if not os.path.exists(\"results\"):\n",
    "                os.makedirs(\"results\")\n",
    "            plt.savefig(\"results/\"+\"result_\"+str(epoch)+\".png\")\n",
    "\n",
    "\n",
    "def subfig_plot(location, data, x_start, x_end, y_start, y_end, title, color):\n",
    "    if location == 1:\n",
    "        plt.clf()\n",
    "    plt.subplot(2, 2, location)\n",
    "    plt.scatter(data[:, 0], data[:, 1], c=color, s=1)\n",
    "    plt.xlim(x_start, x_end)\n",
    "    plt.ylim(y_start, y_end)\n",
    "    plt.title(title)\n",
    "    plt.pause(1e-2)"
   ]
  },
  {
   "cell_type": "code",
   "execution_count": null,
   "metadata": {
    "cell_ktag": "YJ9dDNjUhiMN"
   },
   "outputs": [],
   "source": [
    "# globals\n",
    "BATCH_SIZE = 128\n",
    "LOG_INTERVAL = 50\n",
    "N_EPOCHS = 10\n",
    "INPUT_SIZE = 2\n",
    "OUTPUT_SIZE = 2\n",
    "HIDDEN_SIZE = 256\n",
    "SAVE_PLT_INTERVAL = 5\n",
    "N_COUPLING_LAYERS = 8"
   ]
  },
  {
   "cell_type": "code",
   "execution_count": null,
   "metadata": {
    "cell_ktag": "YJ9dDNjUhiMN"
   },
   "outputs": [],
   "source": [
    "# data loading\n",
    "train_data = datasets.make_moons(n_samples=50000, noise=.05)[0].astype(np.float32)\n",
    "test_data = datasets.make_moons(n_samples=1000, noise=.05)[0].astype(np.float32)\n",
    "device = torch.device(\"cuda\" if torch.cuda.is_available() else \"cpu\")\n",
    "loader_kwargs = {\"num_workers\": 1, \"pin_memory\": True} if device == \"cuda\" else {}\n",
    "train_loader = torch.utils.data.DataLoader(train_data, batch_size=BATCH_SIZE, shuffle=True, **loader_kwargs)\n",
    "test_loader = torch.utils.data.DataLoader(test_data, batch_size=BATCH_SIZE, shuffle=True, **loader_kwargs)"
   ]
  },
  {
   "cell_type": "code",
   "execution_count": null,
   "metadata": {
    "cell_ktag": "YJ9dDNjUhiMN"
   },
   "outputs": [],
   "source": [
    "from torch import distributions # optim, \n",
    "# model construction\n",
    "mask = torch.from_numpy(np.array([0, 1]).astype(np.float32))\n",
    "model = RealNVP(INPUT_SIZE, OUTPUT_SIZE, HIDDEN_SIZE, mask, N_COUPLING_LAYERS)\n",
    "optimizer = torch.optim.Adam(model.parameters(), lr=1e-4)\n",
    "prior_z = distributions.MultivariateNormal(torch.zeros(2), torch.eye(2))"
   ]
  },
  {
   "cell_type": "code",
   "execution_count": null,
   "metadata": {
    "cell_ktag": "YJ9dDNjUhiMN"
   },
   "outputs": [],
   "source": [
    "from timeit import default_timer as timer\n",
    "# run\n",
    "start = timer()\n",
    "for epoch in range(1, N_EPOCHS + 1):\n",
    "    train(epoch, model, optimizer, prior_z, train_loader)\n",
    "    test(epoch, model, prior_z, test_loader)\n",
    "    sample(epoch, model, prior_z)\n",
    "f\"{timer() - start:.02f}s\""
   ]
  },
  {
   "cell_type": "markdown",
   "metadata": {
    "cell_ktag": "YJ9dDNjUhiMN"
   },
   "source": [
    "**Q19: Explain why Normalizing flows do not fit well when there are many clusters in data**"
   ]
  },
  {
   "cell_type": "markdown",
   "metadata": {
    "cell_ktag": "YJ9dDNjUhiMN"
   },
   "source": [
    "> (Write your answer here)"
   ]
  },
  {
   "cell_type": "markdown",
   "metadata": {
    "cell_ktag": "YJ9dDNjUhiMN"
   },
   "source": [
    "---\n",
    "## Denoising Diffusion Model"
   ]
  },
  {
   "cell_type": "markdown",
   "metadata": {
    "cell_ktag": "YJ9dDNjUhiMN"
   },
   "source": [
    "Recently Diffusion Models received a lot of attention. __Diffusion Models Beat GANs on Image Synthesis__ *(Dhariwal,Nichol)* : [arXiv:2105.05233](https://arxiv.org/pdf/2105.05233.pdf) shows significant improvement on image generation with a model claimed to be easier to train than GANs.\n",
    "\n",
    "\n",
    "It is the key of the image generating process behind Latent Diffusion models such as Dall.e, Imagen or StableDiffusion. "
   ]
  },
  {
   "cell_type": "markdown",
   "metadata": {
    "cell_ktag": "YJ9dDNjUhiMN"
   },
   "source": [
    "We are going to implement a model inspired by the paper\n",
    "__Denoising Diffusion Probabilistic Models__  *(Ho et al.)*: [arXiv:2006.11239](https://arxiv.org/pdf/2006.11239.pdf) \n",
    "\n",
    "\n",
    " Denoising diffusion probabilistic model  introduce noise into data and gradually learn to reverse this process for generating new samples. It involves two Markov chains, one that forwards data to noise, and another that reverses this process by converting the noise back to data. The forward chain is usually designed to transform any data distribution into a simpler prior distribution, such as a standard Gaussian distribution, while the reverse Markov chain is parametrized by a neural network and learns to reverse this process. To generate new data points, we first sample a random vector from the prior distribution, then applies ancestral sampling through the reverse Markov chain.\n",
    "\n",
    " References:\n",
    "\n",
    "- Survey on Diffusion Models : https://arxiv.org/pdf/2209.00796.pdf\n",
    "- https://lilianweng.github.io/posts/2021-07-11-diffusion-models/\n",
    "- https://blog.alexalemi.com/diffusion.html\n",
    "- https://sander.ai/posts/\n",
    "\n"
   ]
  },
  {
   "cell_type": "markdown",
   "metadata": {
    "cell_ktag": "YJ9dDNjUhiMN"
   },
   "source": [
    "![Denoisingdiagram](./illustrationDenoising.png)"
   ]
  },
  {
   "cell_type": "markdown",
   "metadata": {
    "cell_ktag": "YJ9dDNjUhiMN"
   },
   "source": [
    "$q$ and $p_{\\theta}$ being the respective kernels of the two chains. \n"
   ]
  },
  {
   "cell_type": "markdown",
   "metadata": {
    "cell_ktag": "YJ9dDNjUhiMN"
   },
   "source": [
    "#### Forward Pass ####"
   ]
  },
  {
   "cell_type": "markdown",
   "metadata": {
    "cell_ktag": "YJ9dDNjUhiMN"
   },
   "source": [
    "For our purpose we are going to use a Gaussian Noise. The forward Kernel will have the following shape : \n",
    "\n",
    "$$q(x_t| x_{t-1}) = \\mathcal{N}(x_t;\\sqrt{1- \\beta_t} x_{t-1},\\beta_t I )$$\n",
    "\n",
    "with $\\mathcal{N}(x;\\mu,\\sigma I )$ a conditional gaussian :\n",
    "$$ y \\sim \\mathcal{N}(x;\\mu,\\sigma I ) \\equiv y|x \\sim  \\mathcal{N}(\\mu,\\sigma I )$$"
   ]
  },
  {
   "cell_type": "markdown",
   "metadata": {
    "cell_ktag": "YJ9dDNjUhiMN"
   },
   "source": [
    "**Q20: What does $\\beta_t$ represent in the formula ?**"
   ]
  },
  {
   "cell_type": "markdown",
   "metadata": {
    "cell_ktag": "YJ9dDNjUhiMN"
   },
   "source": [
    "This is the variance of the Gaussian process increment. In other words, this parameter controls the size of the step at a given step a bit like a learning rate: the larger it is, the weaker the autocorrelation of the process will be and the initialization will have little effect on the trajectory. The latter makes it possible to control the learning rate of the network although the formula is not obvious. Finally, we notice that this parameter also controls the drift of the process, that is to say its deterministic tendency, so by learning the latter we learn somewhere the typical positions of our dataset in the data space."
   ]
  },
  {
   "cell_type": "markdown",
   "metadata": {
    "cell_ktag": "YJ9dDNjUhiMN"
   },
   "source": [
    "In our example the sequence $\\beta_t$ will be chosen linearly wrt $t$. "
   ]
  },
  {
   "cell_type": "markdown",
   "metadata": {
    "cell_ktag": "YJ9dDNjUhiMN"
   },
   "source": [
    "We introduce $\\alpha_t := 1-\\beta_t$ and $\\overline{\\alpha_t} = \\prod_{s=1}^{t} \\alpha_s$ we can sample forward directly at timestep $t$ from the original image : \n",
    "$$q(\\mathbf{x}_{1:T}|\\mathbf{x}_0) = \\prod_{t=1}^{T}q(\\mathbf{x}_t|\\mathbf{x}_{t-1})$$\n",
    "$$ q(\\mathbf{x}_t| \\mathbf{x}_0) = \\mathcal{N}(\\mathbf{x}_t;\\sqrt{\\overline{\\alpha_t}} \\mathbf{x}_0, (1-\\overline{\\alpha_t})I)$$\n",
    "\n",
    "i.e. \n",
    "\\begin{align}\n",
    "\\boldsymbol{x}_t = \\sqrt{\\bar{\\alpha}_t} \\boldsymbol{x}_0 + \\sqrt{1 - \\bar{\\alpha}_t} \\boldsymbol{\\epsilon} \\;\\;\\; \\text{where} \\; \\boldsymbol{\\epsilon} \\sim \\mathcal{N}(\\mathbf{0}, \\mathbf{I})\n",
    "\\end{align}\n",
    "\n",
    "we will then fix $$\\sigma_t = \\sqrt{1 - \\bar{\\alpha}_t}$$"
   ]
  },
  {
   "cell_type": "markdown",
   "metadata": {
    "cell_ktag": "YJ9dDNjUhiMN"
   },
   "source": [
    "**Q22:  Implement the forward pass using $\\overline{\\alpha_t}$ (Hint : you may need to precalculate the $\\overline{\\alpha_t}$ from $\\beta_t$)**"
   ]
  },
  {
   "cell_type": "code",
   "execution_count": 73,
   "metadata": {
    "cell_ktag": "YJ9dDNjUhiMN"
   },
   "outputs": [],
   "source": [
    "def bcast_right(x: torch.Tensor, ndim: int) -> torch.Tensor:\n",
    "    \"\"\"Util function for broadcasting to the right.\"\"\"\n",
    "    if x.ndim > ndim:\n",
    "        raise ValueError(f'Cannot broadcast a value with {x.ndim} dims to {ndim} dims.')\n",
    "    elif x.ndim < ndim:\n",
    "        difference = ndim - x.ndim\n",
    "        return x.view(x.shape + (1,) * difference)\n",
    "    else:\n",
    "        return x\n"
   ]
  },
  {
   "cell_type": "code",
   "execution_count": 81,
   "metadata": {
    "cell_ktag": "YJ9dDNjUhiMN"
   },
   "outputs": [],
   "source": [
    "class DiscreteDDPMProcess:\n",
    "    \"\"\"A Gaussian diffusion process: q(xt|x0) = N(sqrt_alpha_bar(t)*x0, sigma(t)^2 * I),\n",
    "    which implies the following transition from x0 to xt:\n",
    "\n",
    "    xt = sqrt_alpha_bar(t) x0 + sigma(t) eps, eps ~ N(0, I).\n",
    "\n",
    "    Diffusion processes differ in how they specify sqrt_alpha_bar(t) and/or sigma(t).\n",
    "    Here we follow the DDPM paper.\n",
    "\n",
    "    \"\"\"\n",
    "    def __init__(\n",
    "        self,\n",
    "        num_diffusion_timesteps: int = 1000,\n",
    "        beta_start: float = 0.0001,\n",
    "        beta_end: float = 0.02,\n",
    "    ):\n",
    "        self._num_diffusion_timesteps = num_diffusion_timesteps\n",
    "        self._beta_start = beta_start\n",
    "        self._beta_end = beta_end\n",
    "        self._betas = np.linspace(self._beta_start, self._beta_end, self._num_diffusion_timesteps)\n",
    "\n",
    "        alphas_bar = self._get_alphas_bar()\n",
    "        \n",
    "        ############\n",
    "        # COMPLETE #\n",
    "        ############\n",
    "        self._sqrt_alphas_bar = torch.sqrt(torch.tensor(alphas_bar, dtype=torch.float32)) #put in dtype=torch.float32\n",
    "        self._sigmas =  torch.sqrt(torch.tensor(1-alphas_bar, dtype=torch.float32)) #put in dtype=torch.float32\n",
    "\n",
    "    @property\n",
    "    def tmin(self):\n",
    "        return 1\n",
    "\n",
    "    @property\n",
    "    def tmax(self):\n",
    "        return self._num_diffusion_timesteps\n",
    "\n",
    "    def _get_alphas_bar(self) -> np.ndarray:\n",
    "        ############\n",
    "        # COMPLETE #\n",
    "        ############\n",
    "        alphas = 1.0 - self._betas\n",
    "        alphas_bar = np.cumprod(alphas, axis=0)\n",
    "\n",
    "        # we can add this 1 in front to simplify indexing,\n",
    "        # and to make alpha[0]=1 and sigma[0]=0.\n",
    "        # these values at t=0 will be needed later when generating samples\n",
    "        alphas_bar = np.concatenate(([1.], alphas_bar))\n",
    "        return alphas_bar\n",
    "\n",
    "    def sqrt_alpha_bar(self, t: torch.Tensor) -> torch.Tensor:\n",
    "        return self._sqrt_alphas_bar[t.long()]\n",
    "\n",
    "    def sigma(self, t: torch.Tensor) -> torch.Tensor:\n",
    "        return self._sigmas[t.long()]\n",
    "\n",
    "    def sample(self, x0: torch.Tensor, t: torch.Tensor, eps: torch.Tensor) -> torch.Tensor:\n",
    "        \"\"\"Draws samples from the forward diffusion process q(xt|x0).\"\"\"\n",
    "        # on bruite sucessivement pour simuler le processus Gaussien en utilisant l'équation de xt\n",
    "        ############\n",
    "        # COMPLETE #\n",
    "        ############\n",
    "        return self.sqrt_alpha_bar(t) * x0 + self.sigma(t)*eps"
   ]
  },
  {
   "cell_type": "code",
   "execution_count": 6,
   "metadata": {
    "cell_ktag": "YJ9dDNjUhiMN"
   },
   "outputs": [],
   "source": [
    "# data loading\n",
    "test_data = generate_batch(1000)\n",
    "\n",
    "# le time sample et diffusion process ne permettent pas une implémentation cuda\n",
    "# device = torch.device(\"cuda\" if torch.cuda.is_available() else \"cpu\")\n",
    "device = \"cpu\"\n"
   ]
  },
  {
   "cell_type": "code",
   "execution_count": 7,
   "metadata": {
    "cell_ktag": "YJ9dDNjUhiMN"
   },
   "outputs": [],
   "source": [
    "process = DiscreteDDPMProcess(num_diffusion_timesteps=1000)\n",
    "ts = torch.Tensor(np.linspace(process.tmin, process.tmax, num=process.tmax, dtype=np.int32))"
   ]
  },
  {
   "cell_type": "code",
   "execution_count": 8,
   "metadata": {
    "cell_ktag": "YJ9dDNjUhiMN"
   },
   "outputs": [
    {
     "data": {
      "image/png": "[encoded data removed]",
      "text/plain": [
       "<Figure size 800x200 with 2 Axes>"
      ]
     },
     "metadata": {},
     "output_type": "display_data"
    }
   ],
   "source": [
    "fig, ax = plt.subplots(1, 2, figsize=(4 * 2, 2))\n",
    "\n",
    "# plot how sqrt_alpha_bar and sigma change over time\n",
    "ax[0].plot(ts.numpy(), process.sigma(ts), label=r'$\\sigma$')\n",
    "ax[0].plot(ts.numpy(), process.sqrt_alpha_bar(ts), label=r'$\\sqrt{\\bar\\alpha}$')\n",
    "ax[0].set_xlabel('time')\n",
    "ax[0].legend()\n",
    "\n",
    "# It is often helpful to reason in terms of signal-to-noise ratio:\n",
    "# SNR = sqrt_alpha_bar(t)^2 / sigma(t)^2 or more conveniently, its logarithm.\n",
    "# High SNR = little noise, low SNR = a lot of noise.\n",
    "lambda_ = [2. * np.log(process.sqrt_alpha_bar(t) / process.sigma(t)) for t in ts]\n",
    "ax[1].plot(ts.numpy(), lambda_, c='g', label=r'$log SNR$')\n",
    "ax[1].set_xlabel('time')\n",
    "ax[1].legend()\n",
    "\n",
    "plt.show()"
   ]
  },
  {
   "cell_type": "code",
   "execution_count": 9,
   "metadata": {
    "cell_ktag": "YJ9dDNjUhiMN"
   },
   "outputs": [
    {
     "data": {
      "image/png": "[encoded data removed]",
      "text/plain": [
       "<Figure size 2000x500 with 5 Axes>"
      ]
     },
     "metadata": {},
     "output_type": "display_data"
    }
   ],
   "source": [
    "# Effect on the distribution\n",
    "torch_test_data = torch.Tensor(test_data)\n",
    "def apply_on_dataset(dataset,t):\n",
    "    dataset_t = torch.zeros_like(dataset)\n",
    "    for i in range(dataset.shape[0]):\n",
    "        point = dataset[i]\n",
    "        eps = torch.randn_like(point)\n",
    "        point_t = process.sample(point, t, eps)\n",
    "        dataset_t[i] = point_t\n",
    "    return dataset_t\n",
    "\n",
    "fig,axes = plt.subplots(1,5,figsize=(20,5))\n",
    "axes[0].scatter(torch_test_data[:,0],torch_test_data[:,1])\n",
    "for i in range(1,5):\n",
    "    t = torch.Tensor([i*50]).type(torch.int64)\n",
    "    dataset_t = apply_on_dataset(torch_test_data,t)\n",
    "    axes[i].scatter(dataset_t[:,0],dataset_t[:,1])\n",
    "    axes[i].set_title(f\"After {t.detach().item()} walks\")\n",
    "fig.suptitle(\"Influence of the forward pass on the distribution\")\n",
    "plt.show()"
   ]
  },
  {
   "cell_type": "markdown",
   "metadata": {},
   "source": [
    "We notice that the drift term makes it possible to make the distribution tend towards a standard Gaussian, and therefore the inverse process makes it possible to always start from a standard Gaussian. "
   ]
  },
  {
   "cell_type": "markdown",
   "metadata": {
    "cell_ktag": "YJ9dDNjUhiMN"
   },
   "source": [
    "#### Backward Process"
   ]
  },
  {
   "cell_type": "markdown",
   "metadata": {
    "cell_ktag": "YJ9dDNjUhiMN"
   },
   "source": [
    "Hypothetically, We would like  to train the reverse kernel $p_\\theta\\left(\\mathbf{x}_{t-1} \\mid \\mathbf{x}_t\\right)$, with parameters $\\theta$ parametrized by a neural network \n",
    "\n",
    "$$\n",
    "p_\\theta\\left(\\mathbf{x}_{0: T}\\right):=p\\left(\\mathbf{x}_T\\right) \\prod_{t=1}^T p_\\theta\\left(\\mathbf{x}_{t-1} \\mid \\mathbf{x}_t\\right)\n",
    "$$"
   ]
  },
  {
   "cell_type": "markdown",
   "metadata": {
    "cell_ktag": "YJ9dDNjUhiMN"
   },
   "source": [
    "with $p(\\mathbf{x}_T)$ a Gaussian prior, $p(\\mathbf{x}_T) \\sim \\mathcal{N}(0,I)$ . We would use $p(\\mathbf{x}_T)$ to sample new data points for generation."
   ]
  },
  {
   "cell_type": "markdown",
   "metadata": {
    "cell_ktag": "YJ9dDNjUhiMN"
   },
   "source": [
    "#### Variational Lower Bound "
   ]
  },
  {
   "cell_type": "markdown",
   "metadata": {
    "cell_ktag": "YJ9dDNjUhiMN"
   },
   "source": [
    "In the paper, they used the knowledge of the forward pass and design a  Gaussian  reverse kernel"
   ]
  },
  {
   "cell_type": "markdown",
   "metadata": {
    "cell_ktag": "YJ9dDNjUhiMN"
   },
   "source": [
    "$$\n",
    "p_\\theta\\left(\\mathbf{x}_{t-1} \\mid \\mathbf{x}_t\\right)=\\mathcal{N}\\left(\\mathbf{x}_{t-1} ; \\mu_\\theta\\left(\\mathbf{x}_t, t\\right), \\Sigma_\\theta\\left(\\mathbf{x}_t, t\\right)\\right)\n",
    "$$"
   ]
  },
  {
   "cell_type": "markdown",
   "metadata": {
    "cell_ktag": "YJ9dDNjUhiMN"
   },
   "source": [
    "with $\\mu_{\\theta}$ and $\\Sigma_{\\theta}$  parametrized by a neural network"
   ]
  },
  {
   "cell_type": "markdown",
   "metadata": {
    "cell_ktag": "YJ9dDNjUhiMN"
   },
   "source": [
    "We can write the previous forward kernel\n",
    "$$\n",
    "\\begin{aligned}\n",
    "q\\left(\\mathbf{x}_t \\mid \\mathbf{x}_0\\right) & =\\mathcal{N}\\left(\\mathbf{x}_t ; \\sqrt{\\bar{\\alpha}_t} \\mathbf{x}_0,\\left(1-\\bar{\\alpha}_t\\right) \\mathbf{I}\\right) \\\\\n",
    "& =\\sqrt{\\bar{\\alpha}_t} \\mathbf{x}_0+\\epsilon \\sqrt{1-\\bar{\\alpha}_t}\n",
    "\\end{aligned}\n",
    "$$\n",
    "with $ \\epsilon \\sim \\mathcal{N}(0, \\mathbf{I})$ "
   ]
  },
  {
   "cell_type": "markdown",
   "metadata": {
    "cell_ktag": "YJ9dDNjUhiMN"
   },
   "source": [
    "The natural loss would be to optimize under the variational lower bound $L_t$ such that : \n",
    "$$\n",
    "\\begin{aligned}\n",
    "L_{\\mathrm{vlb}} & :=L_0+L_1+\\ldots+L_{T-1}+L_T \\\\\n",
    "L_0 & :=-\\log p_\\theta\\left(x_0 \\mid x_1\\right) \\\\\n",
    "L_{t-1} & :=D_{K L}\\left(q\\left(x_{t-1} \\mid x_t, x_0\\right) \\| p_\\theta\\left(x_{t-1} \\mid x_t\\right)\\right) \\\\\n",
    "L_T & :=D_{K L}\\left(q\\left(x_T \\mid x_0\\right) \\| p\\left(x_T\\right)\\right)\n",
    "\\end{aligned}\n",
    "$$"
   ]
  },
  {
   "cell_type": "markdown",
   "metadata": {
    "cell_ktag": "YJ9dDNjUhiMN"
   },
   "source": [
    "One can show that an alternative loss can be used that only take one parametrized estimator $\\epsilon_{\\theta}$. \\\n",
    "Hint: KL divergences between Gaussian distributions can be computed analytically\n",
    "$$\n",
    "L_{\\text {simple }}(\\theta):=\\mathbb{E}_{t, \\mathbf{x}_0, \\boldsymbol{\\epsilon}}\\left[\\left\\|\\boldsymbol{\\epsilon}-\\boldsymbol{\\epsilon}_\\theta\\left(\\sqrt{\\bar{\\alpha}_t} \\mathbf{x}_0+\\sqrt{1-\\bar{\\alpha}_t} \\boldsymbol{\\epsilon}, t\\right)\\right\\|^2\\right]\n",
    "$$"
   ]
  },
  {
   "cell_type": "markdown",
   "metadata": {
    "cell_ktag": "YJ9dDNjUhiMN"
   },
   "source": [
    "Let's start implementing the network that predicts $\\widehat \\epsilon(x_t, t; \\theta)$. Note that, as stated by its definition, $\\epsilon$ is the cumulated noise from $t=0$ and not just the noise added at the last step."
   ]
  },
  {
   "cell_type": "code",
   "execution_count": 80,
   "metadata": {
    "cell_ktag": "YJ9dDNjUhiMN"
   },
   "outputs": [],
   "source": [
    "import torch.nn as nn\n",
    "\n",
    "class ResidualMLP(nn.Module):\n",
    "    \"\"\"MLP with residual connections.\"\"\"\n",
    "\n",
    "    def __init__(\n",
    "        self,\n",
    "        n_blocks: int,\n",
    "        n_hidden: int,\n",
    "        n_out: int,\n",
    "        activation: str,\n",
    "        name: str = None\n",
    "    ):\n",
    "        super(ResidualMLP, self).__init__()\n",
    "        self._n_blocks = n_blocks\n",
    "        self._n_hidden = n_hidden\n",
    "        self._n_out = n_out\n",
    "        self._activation = getattr(nn.functional, activation)\n",
    "\n",
    "        self.linear_input = nn.Linear(n_out, n_hidden)\n",
    "        self.linear_time = nn.ModuleList([nn.Linear(n_hidden, n_hidden) for _ in range(self._n_blocks)])\n",
    "        self.linear_hidden = nn.Sequential(\n",
    "    nn.ModuleList([nn.Linear(n_hidden, n_hidden) for _ in range(self._n_blocks)]),\n",
    "    nn.ModuleList([nn.Linear(n_hidden, n_hidden) for _ in range(self._n_blocks)])\n",
    "        )\n",
    "        self.linear_output = nn.Linear(n_hidden, n_out)\n",
    "\n",
    "    def forward(self, xt: torch.Tensor, time: torch.Tensor) -> torch.Tensor:\n",
    "        x = self.linear_input(xt)\n",
    "\n",
    "        for _ in range(self._n_blocks):\n",
    "            h=self._activation(x)\n",
    "            h=self.linear_hidden[_][0](h)\n",
    "            h=h+self.linear_time[_](time)\n",
    "            h=self._activation(h)\n",
    "            h=self.linear_hidden[_][1](h)\n",
    "            x=x+h\n",
    "\n",
    "        outputs = self.linear_output(x)\n",
    "\n",
    "        return outputs\n"
   ]
  },
  {
   "cell_type": "markdown",
   "metadata": {
    "cell_ktag": "YJ9dDNjUhiMN"
   },
   "source": [
    "#### Time embeddings\n",
    "\n",
    "As we can see above, the denoiser network needs to get timestep $t$ as an input.\n",
    "\n",
    "However, feeding integers $t=1, 2, ... T$ into the network will not work.\n",
    "\n",
    "[Transformers](https://arxiv.org/abs/1706.03762), when faced with the same problem, proposed to embed timesteps into $d$-dimensional vectors of sinusoids:\n",
    "\n",
    "$$e = [\\; \\sin(w_1 t) \\; \\; \\cos(w_1 t) \\; ... \\; \\sin(w_{d/2} t) \\; \\; \\cos(w_{d/2} t) \\;]$$\n",
    "\n",
    "with $w_i = 1/ 10000^{\\frac{2i}{d}}$.\n",
    "\n",
    "Here is nice blogpost with more intuition: https://kazemnejad.com/blog/transformer_architecture_positional_encoding/\n"
   ]
  },
  {
   "cell_type": "code",
   "execution_count": 11,
   "metadata": {
    "cell_ktag": "YJ9dDNjUhiMN"
   },
   "outputs": [],
   "source": [
    "class SinusoidalTimeEmbedding(nn.Module):\n",
    "    \"\"\"Time (positional) embedding as in Transformers.\"\"\"\n",
    "\n",
    "    def __init__(self, num_features: int, name: str = None):\n",
    "        super(SinusoidalTimeEmbedding, self).__init__()\n",
    "        self._num_features = num_features\n",
    "\n",
    "    def forward(self, inputs: torch.Tensor) -> torch.Tensor:\n",
    "        assert len(inputs.shape) == 1\n",
    "        half_dim = self._num_features // 2\n",
    "        e = torch.log(torch.tensor(10000.0)) / (half_dim - 1)\n",
    "        embedding = torch.exp(-e * torch.arange(half_dim).float()).to(device)\n",
    "        embedding = inputs.view(-1, 1) * embedding\n",
    "        embedding = torch.cat([torch.cos(embedding), torch.sin(embedding)], dim=-1)\n",
    "        if self._num_features % 2 == 1:\n",
    "            embedding = nn.functional.pad(embedding, (0, 1))\n",
    "        return embedding\n"
   ]
  },
  {
   "cell_type": "markdown",
   "metadata": {
    "cell_ktag": "YJ9dDNjUhiMN"
   },
   "source": [
    "Now we need to put the two modules together:"
   ]
  },
  {
   "cell_type": "code",
   "execution_count": 12,
   "metadata": {
    "cell_ktag": "YJ9dDNjUhiMN"
   },
   "outputs": [],
   "source": [
    "import dataclasses\n",
    "\n",
    "@dataclasses.dataclass\n",
    "class NetConfig:\n",
    "    resnet_n_blocks: int = 2\n",
    "    resnet_n_hidden: int = 256\n",
    "    resnet_n_out: int = 2\n",
    "    activation: str = 'elu'\n",
    "    time_embedding_dim: int = 256\n",
    "\n",
    "\n",
    "class Net(nn.Module):\n",
    "    \"\"\"Combines MLP and time embeddings.\"\"\"\n",
    "    def __init__(self, net_config: NetConfig, name: str = None):\n",
    "        super(Net, self).__init__()\n",
    "\n",
    "        self._time_encoder = SinusoidalTimeEmbedding(net_config.time_embedding_dim)\n",
    "        self._predictor = ResidualMLP(\n",
    "            n_blocks=net_config.resnet_n_blocks,\n",
    "            n_hidden=net_config.resnet_n_hidden,\n",
    "            n_out=net_config.resnet_n_out,\n",
    "            activation=net_config.activation\n",
    "        )\n",
    "\n",
    "    def forward(self, noisy_data: torch.Tensor, time: torch.Tensor) -> torch.Tensor:\n",
    "        time_embedding = self._time_encoder(time)\n",
    "        outputs = self._predictor(noisy_data, time_embedding)\n",
    "        return outputs\n"
   ]
  },
  {
   "cell_type": "markdown",
   "metadata": {
    "cell_ktag": "YJ9dDNjUhiMN"
   },
   "source": [
    "#### Time sampler\n",
    "\n",
    "To compute our loss function, for each example, we need to sample a random timestep. In this trivial case of uniform sampling between step 1 and T, it might be an overkill to implement it as a separate class. It would be more helpful if you're going to explore more exotic diffusion models."
   ]
  },
  {
   "cell_type": "code",
   "execution_count": 13,
   "metadata": {
    "cell_ktag": "YJ9dDNjUhiMN"
   },
   "outputs": [],
   "source": [
    "from typing import Sequence\n",
    "\n",
    "class UniformDiscreteTimeSampler:\n",
    "\n",
    "    def __init__(self, tmin: int, tmax: int):\n",
    "        self._tmin = tmin\n",
    "        self._tmax = tmax\n",
    "\n",
    "    def sample(self, shape: Sequence[int]) -> torch.Tensor:\n",
    "        return torch.randint(low=self._tmin, high=self._tmax, size=shape)\n"
   ]
  },
  {
   "cell_type": "markdown",
   "metadata": {
    "cell_ktag": "YJ9dDNjUhiMN"
   },
   "source": [
    "#### Full DDPM model"
   ]
  },
  {
   "cell_type": "markdown",
   "metadata": {
    "cell_ktag": "YJ9dDNjUhiMN"
   },
   "source": [
    "**Q.23 Implement the Simplified loss given a model $\\epsilon_{\\theta}$**"
   ]
  },
  {
   "cell_type": "code",
   "execution_count": 91,
   "metadata": {
    "cell_ktag": "YJ9dDNjUhiMN"
   },
   "outputs": [],
   "source": [
    "from typing import Tuple\n",
    "\n",
    "class DiffusionModel(nn.Module):\n",
    "    \"\"\"Diffusion model.\"\"\"\n",
    "\n",
    "    def __init__(self, diffusion_process, time_sampler, net_config, data_shape):\n",
    "        super(DiffusionModel, self).__init__()\n",
    "\n",
    "        self._process = diffusion_process\n",
    "        self._time_sampler = time_sampler\n",
    "        self._net_config = net_config\n",
    "        self._data_shape = data_shape\n",
    "        self.net_fwd = Net(net_config)\n",
    "    \n",
    "    def loss(self, x0: torch.Tensor) -> torch.Tensor:\n",
    "        \"\"\"Computes MSE between the true noise and predicted noise,\n",
    "        i.e. the goal of the network is to correctly predict eps from a noisy observation\n",
    "        xt = alpha(t) * x0 + sigma(t)**2 * eps\"\"\"\n",
    "\n",
    "        ############\n",
    "        # COMPLETE #\n",
    "        ############\n",
    "        # batchsize = x0.size(dim=2)\n",
    "        # if batchsize is None:\n",
    "        #     batchsize = 1\n",
    "            \n",
    "        t = self._time_sampler.sample(shape = [1])  # sample time\n",
    "\n",
    "        eps = torch.randn_like(x0)  # sample noise\n",
    "\n",
    "        xt = self._process.sample(x0, t, eps)  # corrupt the data\n",
    "\n",
    "        net_outputs = self.net_fwd.forward(xt, t)  # get net outputs\n",
    "        mse = nn.MSELoss()\n",
    "        loss = mse(net_outputs, eps)  # compute MSE loss between predicted and true noise\n",
    "        return loss\n",
    "\n",
    "    \n",
    "    #Used for sampling \n",
    "    def _reverse_process_step(\n",
    "        self,\n",
    "        xt: torch.Tensor,\n",
    "        t: int,\n",
    "    ) -> Tuple[torch.Tensor, torch.Tensor]:\n",
    "        \"\"\"Computes parameters of a Gaussian p_{\\theta}(x_{t-1}| x_t).\"\"\"\n",
    "\n",
    "        t = t * torch.ones((xt.shape[0],), dtype=torch.int32, device=xt.device)\n",
    "\n",
    "        ############\n",
    "        # COMPLETE #\n",
    "        ############\n",
    "\n",
    "        eps_pred = self.net_fwd.forward(xt, t)  # predict epsilon from x_t\n",
    "        \n",
    "        sqrt_alpha_t = self._process.sqrt_alpha_bar(t) # use self._sqrt_alpha_bar\n",
    "        inv_sqrt_alpha_t = bcast_right(1.0 / sqrt_alpha_t, xt.ndim)\n",
    "\n",
    "        beta_t = torch.tensor(self._process._betas[t.long()], dtype=torch.float32)  \n",
    "        beta_t = bcast_right(beta_t, xt.ndim)\n",
    "\n",
    "        inv_sigma_t = 1/self._process.sigma(t)\n",
    "        inv_sigma_t = bcast_right(inv_sigma_t, xt.ndim)\n",
    "        \n",
    "        mean = inv_sqrt_alpha_t*(xt- beta_t*inv_sigma_t*eps_pred)\n",
    "\n",
    "        # DDPM instructs to use either the variance of the forward process\n",
    "        # or the variance of q(x_{t-1}|x_t, x_0). Former is easier.\n",
    "        std = torch.sqrt(beta_t)\n",
    "        # print(\"std size\", std.size())\n",
    "        eps = torch.randn_like(xt)\n",
    "\n",
    "        return mean + std*eps\n",
    "\n",
    "\n",
    "    def sample(self, x0, sample_size):\n",
    "    # \"\"\" To generate samples from DDPM, we follow the reverse process.\n",
    "    # At each step of the chain, we sample x_{t-1} from p(x_{t-1}| x_t, x0_pred) until we get to x_0.\"\"\"\n",
    "        with torch.no_grad():\n",
    "            x = torch.randn((sample_size,) + self._data_shape, device=x0.device) #sample pure noise\n",
    "            ############\n",
    "            # COMPLETE #\n",
    "            ############\n",
    "            for t in range(self._process.tmax-1, self._process.tmin-1, -1):\n",
    "                t = torch.tensor(t)\n",
    "                if t>self._process.tmin:\n",
    "                    z = torch.randn_like(x0)\n",
    "                else:\n",
    "                    z = torch.zeros_like(x0)\n",
    "                    \n",
    "                x=self._reverse_process_step(x,t) + self._process.sigma(t)*z\n",
    "        \n",
    "        return x"
   ]
  },
  {
   "cell_type": "markdown",
   "metadata": {
    "cell_ktag": "YJ9dDNjUhiMN"
   },
   "source": [
    "Given the noise obtained by the model $\\boldsymbol{\\epsilon}_\\theta\\left(\\mathbf{x}_t, t\\right)$, you can sample $\\mu_{\\theta}(\\mathbf{x}_t,t)$ in order to get a denoised sample point.\n",
    "$$\n",
    "\\mu_{\\theta}(\\mathbf{x}_t,t) = \\frac{1}{\\sqrt{\\alpha_t}}\\left(\\mathbf{x}_t-\\frac{\\beta_t}{\\sqrt{1-\\bar{\\alpha}_t}} \\boldsymbol{\\epsilon}_\\theta\\left(\\mathbf{x}_t, t\\right)\\right)\n",
    "$$ \n",
    "\n",
    "\n",
    "The _reverse_process_step function sample $x_{t-1} \\sim p_\\theta\\left(\\mathbf{x}_{t-1} \\mid \\mathbf{x}_t\\right)$ where\n",
    "$$\n",
    "p_\\theta\\left(\\mathbf{x}_{t-1} \\mid \\mathbf{x}_t\\right)=\\mathcal{N}\\left(\\mathbf{x}_{t-1} ; \\mu_\\theta\\left(\\mathbf{x}_t, t\\right), \\Sigma_\\theta\\left(\\mathbf{x}_t, t\\right)\\right)\n",
    "$$\n",
    "and we set $$\\Sigma_\\theta\\left(\\mathbf{x}_t, t\\right) = \\beta_{t}\\boldsymbol{I}$$\n",
    "\n",
    "Thus $$x_{t-1} = \\mu_{\\theta}(\\mathbf{x}_t,t) + \\sqrt{\\beta_t}\\epsilon$$ where $$\\epsilon \\sim \\mathcal{N}(\\mathbf{0}, \\mathbf{I})$$\n",
    "\n",
    "**Q.24 Build the sampling function that allows you from inputs $\\mathbf{x}_t$ and $t$ to obtain $\\mu_{\\theta}(\\mathbf{x}_t,t)$ and $x_{t-1}$**"
   ]
  },
  {
   "cell_type": "markdown",
   "metadata": {
    "cell_ktag": "YJ9dDNjUhiMN"
   },
   "source": [
    "#### Training"
   ]
  },
  {
   "cell_type": "code",
   "execution_count": 92,
   "metadata": {
    "cell_ktag": "YJ9dDNjUhiMN"
   },
   "outputs": [],
   "source": [
    "from torch import optim\n",
    "\n",
    "# create the model\n",
    "diffusion_process = DiscreteDDPMProcess(num_diffusion_timesteps=1000)\n",
    "time_sampler = UniformDiscreteTimeSampler(diffusion_process.tmin, diffusion_process.tmax)\n",
    "model = DiffusionModel(diffusion_process, time_sampler, net_config=NetConfig(), data_shape=(2,)).to(device)\n",
    "optimizer = optim.Adam(model.parameters(), lr=3e-4)"
   ]
  },
  {
   "cell_type": "markdown",
   "metadata": {
    "cell_ktag": "YJ9dDNjUhiMN"
   },
   "source": [
    "We will use a learning rate scheduler with a warmup. \\\n",
    "You will have to install the library pytorch_warmup with \"pip install -U pytorch_warmup\": https://github.com/Tony-Y/pytorch_warmup \\\n",
    "Our learning rate schedule will have the following shape."
   ]
  },
  {
   "cell_type": "markdown",
   "metadata": {
    "cell_ktag": "YJ9dDNjUhiMN"
   },
   "source": [
    "![Denoisingdiagram](./lr_with_warmup.png)"
   ]
  },
  {
   "cell_type": "code",
   "execution_count": 95,
   "metadata": {
    "cell_ktag": "YJ9dDNjUhiMN"
   },
   "outputs": [],
   "source": [
    "import pytorch_warmup as warmup\n",
    "\n",
    "training_steps = 50\n",
    "# training_steps = 50000\n",
    "\n",
    "warmup_period=1000 #this is the increasing part of the learning rate schedule\n",
    "num_steps = training_steps\n",
    "t0 = num_steps // 1\n",
    "lr_min = 3e-12\n",
    "max_step = t0 * 1 + warmup_period #you can also create cycle but we won't touch it here\n",
    "\n",
    "lr_scheduler = optim.lr_scheduler.CosineAnnealingWarmRestarts(\n",
    "    optimizer, T_0=t0, T_mult=1, eta_min=lr_min)\n",
    "\n",
    "warmup_scheduler = warmup.LinearWarmup(optimizer, warmup_period)\n"
   ]
  },
  {
   "cell_type": "markdown",
   "metadata": {
    "cell_ktag": "YJ9dDNjUhiMN"
   },
   "source": [
    "##### Training loop"
   ]
  },
  {
   "cell_type": "markdown",
   "metadata": {
    "cell_ktag": "YJ9dDNjUhiMN"
   },
   "source": [
    "**Q.25 Train $\\epsilon_{\\theta}(\\mathbf{x},t)$ that take as entry a transformed vector $\\mathbf{x}$ and  $t$ a number of time $\\mathbf{x}$ passed through the forward process  and return  a direct estimate of  the noise $\\epsilon$**"
   ]
  },
  {
   "cell_type": "code",
   "execution_count": 97,
   "metadata": {
    "cell_ktag": "YJ9dDNjUhiMN"
   },
   "outputs": [
    {
     "name": "stdout",
     "output_type": "stream",
     "text": [
      "Step: 0, Loss: 191251.96875\n",
      "tensor([[nan, nan],\n",
      "        [nan, nan],\n",
      "        [nan, nan],\n",
      "        ...,\n",
      "        [nan, nan],\n",
      "        [nan, nan],\n",
      "        [nan, nan]])\n"
     ]
    },
    {
     "data": {
      "image/png": "[encoded data removed]",
      "text/plain": [
       "<Figure size 300x300 with 1 Axes>"
      ]
     },
     "metadata": {},
     "output_type": "display_data"
    }
   ],
   "source": [
    "BATCH_SIZE=1024\n",
    "\n",
    "for step in range(training_steps):\n",
    "    #generate batch on the fly\n",
    "\n",
    "    ###############\n",
    "    # TO COMPLETE #\n",
    "    ###############\n",
    "    # batch = torch.stack([generate_batch(5000) for _ in range(BATCH_SIZE)])\n",
    "    x0 = generate_batch(BATCH_SIZE).to(device)\n",
    "    # print(\"x0 size\",x0.size())\n",
    "    loss = model.loss(x0)\n",
    "    loss.backward()\n",
    "    optimizer.step()\n",
    "    if step % 1000 == 0:\n",
    "        print(f'Step: {step}, Loss: {loss:.5f}')\n",
    "\n",
    "    if step % 10000 == 0:\n",
    "        with torch.no_grad():\n",
    "            samples = model.sample(x0,1) # create new samples\n",
    "            print(samples)\n",
    "        plt.figure(figsize=(3, 3))\n",
    "        plt.scatter(samples[:, 0], samples[:, 1], s=1, alpha=0.5)\n",
    "        plt.show()\n",
    "\n",
    "    with warmup_scheduler.dampening():\n",
    "        if warmup_scheduler.last_step + 1 >= warmup_period:\n",
    "            lr_scheduler.step()\n",
    "        if warmup_scheduler.last_step + 1 >= max_step:\n",
    "            break\n"
   ]
  },
  {
   "cell_type": "markdown",
   "metadata": {
    "cell_ktag": "YJ9dDNjUhiMN"
   },
   "source": [
    "#### Ablation study"
   ]
  },
  {
   "cell_type": "markdown",
   "metadata": {
    "cell_ktag": "YJ9dDNjUhiMN"
   },
   "source": [
    "**Q.26 Perform ablations experiments on hyperparameters, such as: learning rate (try constant learning rate with different values), batch size, the number of timesteps, the positional embedding for timestep (remove it), the hidden size, number of epochs, skip connections**\n",
    "\n",
    "For a given ablation experiment (they ought to be done separately!), you should plot generated samples at few given timesteps (if compute resources is limited, do it for one timestep).\n",
    "\n",
    "Note: you don't have to do all of these experiments, but the bigger is your group, the more you should do."
   ]
  },
  {
   "cell_type": "code",
   "execution_count": null,
   "metadata": {
    "cell_ktag": "YJ9dDNjUhiMN"
   },
   "outputs": [],
   "source": []
  },
  {
   "cell_type": "markdown",
   "metadata": {
    "cell_ktag": "YJ9dDNjUhiMN"
   },
   "source": [
    "> (Write your answer here)"
   ]
  },
  {
   "cell_type": "markdown",
   "metadata": {
    "cell_ktag": "YJ9dDNjUhiMN"
   },
   "source": [
    "#### Generation/Sampling"
   ]
  },
  {
   "cell_type": "markdown",
   "metadata": {
    "cell_ktag": "YJ9dDNjUhiMN"
   },
   "source": [
    "**Q.27  Generate samples and plot them at different timestep of the chain. Check how real & synthetic distribution overlap, compare the densities**"
   ]
  },
  {
   "cell_type": "code",
   "execution_count": null,
   "metadata": {
    "cell_ktag": "YJ9dDNjUhiMN"
   },
   "outputs": [],
   "source": []
  },
  {
   "cell_type": "markdown",
   "metadata": {
    "cell_ktag": "YJ9dDNjUhiMN"
   },
   "source": [
    "---\n",
    "### Conclusion"
   ]
  },
  {
   "cell_type": "markdown",
   "metadata": {
    "cell_ktag": "YJ9dDNjUhiMN"
   },
   "source": [
    "**Q.28: As a conclusion, how would you compare the advantages and shortcomings of GANs, VAEs, Normalizing flows and Denoising Models ?**"
   ]
  },
  {
   "cell_type": "markdown",
   "metadata": {
    "cell_ktag": "YJ9dDNjUhiMN"
   },
   "source": [
    "To sum up pros and cons of the different methods:\n",
    "- VAE is quick to train and stable compared to other methods. However, this stability comes at the cost of an informational bottleneck which greatly limits the expressiveness of the model. Also the one-step construction limits the multiscale aspect of the model. A notable advantage, however, is that explicit modeling offers a way to quickly estimate the variability of our estimator, which can be a very useful insight in an operational context.\n",
    "   \n",
    "- Normalizing flows are also very stable, even more stable than VAEs, unfortunately the latter are not very expressive. Regarding the limitations often noted, its difficulty in reproducing non-linearities, the fact that its latent space is often very large and therefore difficult to interpret means that they are little used in practice.\n",
    "  \n",
    "-  Upon their discovery, GANs showed an expressiveness and a level of resolution never before achieved, unfortunately the competition between the generator and the discriminator must be balanced, and this method is thus by construction unstable. Indeed the generator can stop learning if the discriminator is too good, because its gradient is then low. On the other hand, if the generator finds a strategy that deceives the discriminator, we enter collapse mode and the latter focuses on the example that works without the discriminator being able to learn.\n",
    "\n",
    "-  Diffusion methods have made it possible to make the most of stability and expressiveness and have established themselves as the dominant approach for companies that have sufficient data and resources for its training. Indeed its iterative nature allows multilevel generation and its latent space is not constrained like the VAE, which offers much better expressiveness. The iterative nature then makes it possible to break down the generation into successive stages, which makes it possible to obtain complex patterns from regular transformations and therefore to have stable training. However, the number of steps is large, which makes learning expensive and time-consuming due to the number of hyperparameters."
   ]
  },
  {
   "cell_type": "code",
   "execution_count": null,
   "metadata": {},
   "outputs": [],
   "source": []
  }
 ],
 "metadata": {
  "kernelspec": {
   "display_name": "Python 3 (ipykernel)",
   "language": "python",
   "name": "python3"
  },
  "kfiletag": "YJ9dDNjUhiMN",
  "language_info": {
   "codemirror_mode": {
    "name": "ipython",
    "version": 3
   },
   "file_extension": ".py",
   "mimetype": "text/x-python",
   "name": "python",
   "nbconvert_exporter": "python",
   "pygments_lexer": "ipython3",
   "version": "3.9.18"
  }
 },
 "nbformat": 4,
 "nbformat_minor": 4
}
